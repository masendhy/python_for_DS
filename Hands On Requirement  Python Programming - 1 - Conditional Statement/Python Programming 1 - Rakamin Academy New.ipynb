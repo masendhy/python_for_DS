{
 "cells": [
  {
   "cell_type": "markdown",
   "metadata": {},
   "source": [
    "### Conditional Statement for Python Programming "
   ]
  },
  {
   "cell_type": "markdown",
   "metadata": {},
   "source": [
    "<b>created by</b> : Muhammad Ammar Fauzan | maf.fauzan@gmail.com"
   ]
  },
  {
   "cell_type": "markdown",
   "metadata": {},
   "source": [
    "#### Pengenalan Conditional Statement"
   ]
  },
  {
   "cell_type": "code",
   "execution_count": null,
   "metadata": {},
   "outputs": [],
   "source": [
    "#Concept Dasar Conditional Statement\n",
    "\n",
    "if expression1:\n",
    "    statement1(s)\n",
    "elif expression2:\n",
    "    statement2(s)\n",
    "elif expression3:\n",
    "    statement3(s)\n",
    "...\n",
    "else:\n",
    "    statement4(s)"
   ]
  },
  {
   "cell_type": "code",
   "execution_count": 2,
   "metadata": {},
   "outputs": [
    {
     "name": "stdout",
     "output_type": "stream",
     "text": [
      "Delivered\n"
     ]
    }
   ],
   "source": [
    "#implementasi if pada python programming 1 kondisi\n",
    "current_status = 'on-delivery'\n",
    "barang_diterima = True\n",
    "\n",
    "if barang_diterima==True: #expression 'jika' berwujud nilai boolean True\n",
    "    current_status='Delivered' #jika true maka. . .\n",
    "\n",
    "#notes seteleh if conditional gunakan ':' kemudian enter maka cursor akan menjorok indention   \n",
    "print(current_status)"
   ]
  },
  {
   "cell_type": "code",
   "execution_count": 3,
   "metadata": {},
   "outputs": [
    {
     "name": "stdout",
     "output_type": "stream",
     "text": [
      "Delivered\n"
     ]
    }
   ],
   "source": [
    "#implementasi if pada python programming 1 kondisi\n",
    "current_status = 'on-delivery'\n",
    "barang_diterima = True\n",
    "\n",
    "if barang_diterima==True: #expression 'jika' berwujud nilai boolean True\n",
    "    current_status='Delivered' #jika true maka. . .\n",
    "else: #optional\n",
    "    pass \n",
    "\n",
    "print(current_status)"
   ]
  },
  {
   "cell_type": "code",
   "execution_count": 1,
   "metadata": {},
   "outputs": [
    {
     "name": "stdout",
     "output_type": "stream",
     "text": [
      "Potential Buyer\n"
     ]
    }
   ],
   "source": [
    "#implementasi if else pada python programming 2 kondisi\n",
    "total_visit = 34\n",
    "\n",
    "if total_visit > 30: #expression melakukan pengecekan dengan value True / False, jika True akan masuk ke kondisi maka\n",
    "    category = 'Potential Buyer' #jika True maka category akan bernilai Potential Buyer\n",
    "else: #jika expression awal False maka akan masuk ke kondisi else\n",
    "    category = 'Not Potential Buyer' \n",
    "    \n",
    "print(category)"
   ]
  },
  {
   "cell_type": "code",
   "execution_count": 4,
   "metadata": {},
   "outputs": [
    {
     "name": "stdout",
     "output_type": "stream",
     "text": [
      "Potential Buyer\n"
     ]
    }
   ],
   "source": [
    "#implementasi if else pada python programming 2 kondisi\n",
    "total_visit = 100\n",
    "\n",
    "if total_visit > 30: #expression melakukan pengecekan dengan value True / False, jika True akan masuk ke kondisi maka\n",
    "    category = 'Potential Buyer' #jika True maka category akan bernilai Potential Buyer\n",
    "else: #jika expression awal False maka akan masuk ke kondisi else\n",
    "    category = 'Not Potential Buyer' \n",
    "    \n",
    "print(category)"
   ]
  },
  {
   "cell_type": "code",
   "execution_count": 8,
   "metadata": {},
   "outputs": [
    {
     "name": "stdout",
     "output_type": "stream",
     "text": [
      "Puas\n"
     ]
    }
   ],
   "source": [
    "rating = 5\n",
    "\n",
    "if rating >= 4:\n",
    "    result = 'Puas'\n",
    "else:\n",
    "    result = 'Tidak Puas'\n",
    "    \n",
    "print(result)"
   ]
  },
  {
   "cell_type": "code",
   "execution_count": 1,
   "metadata": {},
   "outputs": [
    {
     "name": "stdout",
     "output_type": "stream",
     "text": [
      "Tidak Puas\n"
     ]
    }
   ],
   "source": [
    "rating = 2\n",
    "\n",
    "if rating >= 4:\n",
    "    result = 'Puas'\n",
    "else:\n",
    "    result = 'Tidak Puas'\n",
    "    \n",
    "print(result) #result Tidak Puas dikarenakan tidak memenuhi kondisi if sehingga masuk kondisi else"
   ]
  },
  {
   "cell_type": "markdown",
   "metadata": {},
   "source": [
    "#### One Liner Conditional Statement"
   ]
  },
  {
   "cell_type": "code",
   "execution_count": 1,
   "metadata": {},
   "outputs": [
    {
     "name": "stdout",
     "output_type": "stream",
     "text": [
      "Tidak Puas\n"
     ]
    }
   ],
   "source": [
    "#one liner conditional statement\n",
    "rating = 2\n",
    "\n",
    "result = 'Puas' if rating >= 4 else 'Tidak Puas'\n",
    "print(result)"
   ]
  },
  {
   "cell_type": "code",
   "execution_count": 2,
   "metadata": {},
   "outputs": [
    {
     "name": "stdout",
     "output_type": "stream",
     "text": [
      "Puas\n"
     ]
    }
   ],
   "source": [
    "#one liner conditional statement\n",
    "rating = 4\n",
    "\n",
    "result = 'Puas' if rating >= 4 else 'Tidak Puas'\n",
    "print(result)"
   ]
  },
  {
   "cell_type": "code",
   "execution_count": 3,
   "metadata": {},
   "outputs": [
    {
     "name": "stdout",
     "output_type": "stream",
     "text": [
      "Positif\n"
     ]
    }
   ],
   "source": [
    "#one liner conditional statement more than 1 conditional\n",
    "num = 1\n",
    "\n",
    "result = 'Positif' if num > 0 else 'Negatif' if num < 0 else 'Netral'\n",
    "print(result)"
   ]
  },
  {
   "cell_type": "code",
   "execution_count": 4,
   "metadata": {},
   "outputs": [
    {
     "name": "stdout",
     "output_type": "stream",
     "text": [
      "Positif\n"
     ]
    }
   ],
   "source": [
    "#one liner conditional statement more than 1 conditional\n",
    "num = 4\n",
    "\n",
    "result = 'Positif' if num > 0 else 'Netral' if num == 0 else 'Negatif'\n",
    "print(result)"
   ]
  },
  {
   "cell_type": "code",
   "execution_count": 5,
   "metadata": {},
   "outputs": [
    {
     "name": "stdout",
     "output_type": "stream",
     "text": [
      "Negatif\n"
     ]
    }
   ],
   "source": [
    "#one liner conditional statement more than 1 conditional\n",
    "num = -2\n",
    "\n",
    "result = 'Positif' if num > 0 else 'Netral' if num == 0 else 'Negatif'\n",
    "print(result)"
   ]
  },
  {
   "cell_type": "markdown",
   "metadata": {},
   "source": [
    "#### Conditional statement Berganda"
   ]
  },
  {
   "cell_type": "code",
   "execution_count": 6,
   "metadata": {},
   "outputs": [
    {
     "name": "stdout",
     "output_type": "stream",
     "text": [
      "remaja\n"
     ]
    }
   ],
   "source": [
    "#multi conditional statement \n",
    "#dalam kumpulan data kependudukan kita ingin membagi menjadi beberapa kategori umur\n",
    "usia=20\n",
    "\n",
    "if usia<6:\n",
    "    kelompok='balita'\n",
    "elif usia>=6 and usia<=12:\n",
    "    kelompok='anak-anak'\n",
    "elif usia>=13 and usia<=22:\n",
    "    kelompok='remaja'\n",
    "elif usia>=23 and usia<=60:\n",
    "    kelompok='dewasa'\n",
    "else:\n",
    "    kelompok='lansia'\n",
    "\n",
    "print(kelompok)"
   ]
  },
  {
   "cell_type": "code",
   "execution_count": 7,
   "metadata": {},
   "outputs": [
    {
     "name": "stdout",
     "output_type": "stream",
     "text": [
      "remaja\n"
     ]
    }
   ],
   "source": [
    "#multi conditional statement \n",
    "#dalam kumpulan data kependudukan kita ingin membagi menjadi beberapa kategori umur\n",
    "usia=20\n",
    "\n",
    "if usia<6:\n",
    "    kelompok='balita'\n",
    "elif usia<=12:\n",
    "    kelompok='anak-anak'\n",
    "elif usia<=22:\n",
    "    kelompok='remaja'\n",
    "elif usia<=60:\n",
    "    kelompok='dewasa'\n",
    "else:\n",
    "    kelompok='lansia'\n",
    "\n",
    "print(kelompok)"
   ]
  },
  {
   "cell_type": "markdown",
   "metadata": {},
   "source": [
    "#### Mengapa perlu menggunakan elif"
   ]
  },
  {
   "cell_type": "code",
   "execution_count": 8,
   "metadata": {},
   "outputs": [
    {
     "data": {
      "text/plain": [
       "'balita'"
      ]
     },
     "execution_count": 8,
     "metadata": {},
     "output_type": "execute_result"
    }
   ],
   "source": [
    "usia=5\n",
    "\n",
    "if usia<6:\n",
    "    kelompok_usia='balita'\n",
    "elif usia<=12:\n",
    "    kelompok_usia='anak-anak'\n",
    "\n",
    "kelompok_usia"
   ]
  },
  {
   "cell_type": "code",
   "execution_count": 9,
   "metadata": {},
   "outputs": [
    {
     "data": {
      "text/plain": [
       "'anak-anak'"
      ]
     },
     "execution_count": 9,
     "metadata": {},
     "output_type": "execute_result"
    }
   ],
   "source": [
    "usia=5\n",
    "\n",
    "if usia<6:\n",
    "    kelompok_usia='balita'\n",
    "if usia<=12:\n",
    "    kelompok_usia='anak-anak'\n",
    "\n",
    "kelompok_usia"
   ]
  },
  {
   "cell_type": "markdown",
   "metadata": {},
   "source": [
    "Dengan menggunakan elif jika sudah memenuhi kondisi maka akan berhenti, sedangkan jika tanpa elif (langsung if) maka value akan ter replace"
   ]
  },
  {
   "cell_type": "markdown",
   "metadata": {},
   "source": [
    "#### Mini Quiz | Challenge Time #1"
   ]
  },
  {
   "cell_type": "markdown",
   "metadata": {},
   "source": [
    "1. Buatlah syntax IF untuk melakukan pengecekan apakah plat nomor kendaraan B 1256 AE masuk plat genap atau ganjil !\n",
    "      \n",
    "2. Buatlah syntax IF untuk melakukan pengecekan apakah variabel kategori1 ada di dalam list kategori, dimana \n",
    "\n",
    "kategori1 = 'Fashion Pria' <br>\n",
    "list_kategori = ['Handphone', 'Sepeda', 'Makanan', 'Fashion Wanita']"
   ]
  },
  {
   "cell_type": "code",
   "execution_count": 43,
   "metadata": {},
   "outputs": [],
   "source": [
    "#1\n",
    "plat = 'B 1256 AE'"
   ]
  },
  {
   "cell_type": "code",
   "execution_count": 12,
   "metadata": {},
   "outputs": [],
   "source": [
    "#2\n",
    "kategori1 = 'Fashion Pria'\n",
    "list_kategori = ['Handphone', 'Sepeda', 'Makanan', 'Fashion Wanita']"
   ]
  },
  {
   "cell_type": "markdown",
   "metadata": {},
   "source": [
    "#### Nested Conditional Statement\n",
    "if di dalam if"
   ]
  },
  {
   "cell_type": "code",
   "execution_count": null,
   "metadata": {},
   "outputs": [],
   "source": [
    "#Concept Nested Conditional Statements\n",
    "#contoh if di dalam if\n",
    "if expression1:\n",
    "    if expression11:\n",
    "else:\n",
    "    statement2(s)\n"
   ]
  },
  {
   "cell_type": "code",
   "execution_count": 40,
   "metadata": {},
   "outputs": [
    {
     "name": "stdout",
     "output_type": "stream",
     "text": [
      "Action penambahan 3 point\n"
     ]
    }
   ],
   "source": [
    "is_java = True\n",
    "total_order = 101\n",
    "\n",
    "if is_java == True: #context pembagian java dan non java\n",
    "    if total_order > 100:\n",
    "        action = 3\n",
    "    else:\n",
    "        action = 1\n",
    "else: #context pembagian java dan non java\n",
    "    if total_order > 50:\n",
    "        action = 3\n",
    "    else:\n",
    "        action = 1\n",
    "\n",
    "print(\"Action penambahan\", action, \"point\")"
   ]
  },
  {
   "cell_type": "code",
   "execution_count": 13,
   "metadata": {},
   "outputs": [
    {
     "name": "stdout",
     "output_type": "stream",
     "text": [
      "syarat 1 = lolos\n",
      "syarat 2 = tidak lolos\n",
      "Hasil = tidak lolos\n"
     ]
    }
   ],
   "source": [
    "nilai_x1=100\n",
    "nilai_x2=50\n",
    "\n",
    "total_nilai = nilai_x1 + nilai_x2 #syarat1\n",
    "x1_pass = nilai_x1 > 50 #syarat2 part1\n",
    "x2_pass = nilai_x2 > 50 #syarat2 part2\n",
    "\n",
    "if total_nilai>140: # context syarat 1\n",
    "    syarat1 = 'lolos'\n",
    "    if x1_pass and x2_pass: # context syarat 2\n",
    "        syarat2 = 'lolos'\n",
    "        result = 'lolos'\n",
    "    else:\n",
    "        syarat2 = 'tidak lolos'\n",
    "        result = 'tidak lolos'\n",
    "else:\n",
    "    syarat1 = 'tidak lolos'\n",
    "    if x1_pass and x2_pass:\n",
    "        syarat2 = 'lolos'\n",
    "        result = 'tidak lolos'\n",
    "    else:\n",
    "        syarat2 = 'tidak lolos'\n",
    "        result = 'tidak lolos'\n",
    "\n",
    "print('syarat 1 =', syarat1)\n",
    "print('syarat 2 =', syarat2)\n",
    "print('Hasil =', result)"
   ]
  },
  {
   "cell_type": "code",
   "execution_count": 14,
   "metadata": {},
   "outputs": [
    {
     "name": "stdout",
     "output_type": "stream",
     "text": [
      "Hasil = tidak lolos\n"
     ]
    }
   ],
   "source": [
    "#kondisi jika langsung kita tidak bisa mengetahui syarat apa yang membuat tidak lolos\n",
    "\n",
    "nilai_x1=100\n",
    "nilai_x2=50\n",
    "\n",
    "#2 condition\n",
    "if (nilai_x1+nilai_x2>140) and (nilai_x1>50 and nilai_x2>50):\n",
    "    result = 'lolos'\n",
    "else:\n",
    "    result = 'tidak lolos'\n",
    "\n",
    "print('Hasil = '+result)"
   ]
  },
  {
   "cell_type": "code",
   "execution_count": 15,
   "metadata": {},
   "outputs": [
    {
     "name": "stdout",
     "output_type": "stream",
     "text": [
      "syarat 1 = lolos\n",
      "syarat 2 = tidak lolos\n",
      "Hasil = tidak lolos\n"
     ]
    }
   ],
   "source": [
    "# versi tidak menggunakan nested conditional statement\n",
    "\n",
    "nilai_x1=100\n",
    "nilai_x2=50\n",
    "\n",
    "total_nilai = nilai_x1 + nilai_x2\n",
    "x1_pass = nilai_x1 > 50 \n",
    "x2_pass = nilai_x2 > 50\n",
    "\n",
    "#pengecekan syarat 1\n",
    "if total_nilai>140:\n",
    "    syarat1 = 'lolos'\n",
    "else:\n",
    "    syarat1 = 'tidak lolos'\n",
    "    \n",
    "#pengecekan syarat 2\n",
    "if x1_pass>50 and x2_pass>50:\n",
    "    syarat2 = 'lolos'\n",
    "else:\n",
    "    syarat2 = 'tidak lolos'\n",
    "\n",
    "#melakukan pengecekan hasil akhir\n",
    "if syarat1 == 'lolos' and syarat2 =='lolos':\n",
    "    hasil = 'lolos'\n",
    "else:\n",
    "    hasil ='tidak lolos'\n",
    "\n",
    "print('syarat 1 =', syarat1)\n",
    "print('syarat 2 =', syarat2)\n",
    "print('Hasil =', hasil)"
   ]
  },
  {
   "cell_type": "markdown",
   "metadata": {},
   "source": [
    "#### Mini Quiz | Challenge Time #2"
   ]
  },
  {
   "cell_type": "markdown",
   "metadata": {},
   "source": [
    "Untuk menjadi seller premium seorang seller perlu memenuhi syarat-syarat berikut:\n",
    "- Berhasil menjual 1000 produk\n",
    "- memiliki feedback positif > 600\n",
    "\n",
    "Buatlah syntax nested conditional statement (if di dalam if) yang sesuai dengan kasus tersebut.<br> Kemudian uji coba hasil nya dengan case sebagai berikut:<br>\n",
    "1. sold = 1020\n",
    "2. pos_feed = 575\n"
   ]
  },
  {
   "cell_type": "code",
   "execution_count": 15,
   "metadata": {},
   "outputs": [],
   "source": [
    "#challenge time\n",
    "sold = 1020\n",
    "pos_feed = 575"
   ]
  },
  {
   "cell_type": "markdown",
   "metadata": {},
   "source": [
    "#### Conditional Statement in Dataframe"
   ]
  },
  {
   "cell_type": "code",
   "execution_count": 29,
   "metadata": {
    "ExecuteTime": {
     "end_time": "2021-03-09T15:51:12.436083Z",
     "start_time": "2021-03-09T15:51:12.325084Z"
    }
   },
   "outputs": [
    {
     "data": {
      "text/html": [
       "<div>\n",
       "<style scoped>\n",
       "    .dataframe tbody tr th:only-of-type {\n",
       "        vertical-align: middle;\n",
       "    }\n",
       "\n",
       "    .dataframe tbody tr th {\n",
       "        vertical-align: top;\n",
       "    }\n",
       "\n",
       "    .dataframe thead th {\n",
       "        text-align: right;\n",
       "    }\n",
       "</style>\n",
       "<table border=\"1\" class=\"dataframe\">\n",
       "  <thead>\n",
       "    <tr style=\"text-align: right;\">\n",
       "      <th></th>\n",
       "      <th>order_month</th>\n",
       "      <th>full_name</th>\n",
       "      <th>user_id</th>\n",
       "      <th>phone</th>\n",
       "      <th>city</th>\n",
       "      <th>province</th>\n",
       "      <th>email</th>\n",
       "      <th>total_order</th>\n",
       "      <th>total_gmv</th>\n",
       "      <th>total_visit</th>\n",
       "    </tr>\n",
       "  </thead>\n",
       "  <tbody>\n",
       "    <tr>\n",
       "      <th>332</th>\n",
       "      <td>2022-06-01</td>\n",
       "      <td>Faruq Adi</td>\n",
       "      <td>10000030</td>\n",
       "      <td>628567812319</td>\n",
       "      <td>Makassar</td>\n",
       "      <td>Sulawesi Selatan</td>\n",
       "      <td>faruq@yahoo.com</td>\n",
       "      <td>201</td>\n",
       "      <td>5490000</td>\n",
       "      <td>773</td>\n",
       "    </tr>\n",
       "    <tr>\n",
       "      <th>333</th>\n",
       "      <td>2022-06-01</td>\n",
       "      <td>Abrar Adi</td>\n",
       "      <td>10000053</td>\n",
       "      <td>628223411218</td>\n",
       "      <td>Surabaya</td>\n",
       "      <td>Jawa Timur</td>\n",
       "      <td>abrar.adi@yahoo.co.id</td>\n",
       "      <td>110</td>\n",
       "      <td>2987500</td>\n",
       "      <td>276</td>\n",
       "    </tr>\n",
       "    <tr>\n",
       "      <th>334</th>\n",
       "      <td>2022-06-01</td>\n",
       "      <td>Johan Imawan</td>\n",
       "      <td>10000054</td>\n",
       "      <td>628223412323</td>\n",
       "      <td>Balikpapan</td>\n",
       "      <td>Kalimantan Timur</td>\n",
       "      <td>johan.imawan@yahoo.com</td>\n",
       "      <td>95</td>\n",
       "      <td>2705000</td>\n",
       "      <td>258</td>\n",
       "    </tr>\n",
       "    <tr>\n",
       "      <th>335</th>\n",
       "      <td>2022-06-01</td>\n",
       "      <td>Muhammad Ammar</td>\n",
       "      <td>10000055</td>\n",
       "      <td>628223412111</td>\n",
       "      <td>Surabaya</td>\n",
       "      <td>Jawa Timur</td>\n",
       "      <td>muh.ammar@gmail.com</td>\n",
       "      <td>30</td>\n",
       "      <td>760000</td>\n",
       "      <td>103</td>\n",
       "    </tr>\n",
       "    <tr>\n",
       "      <th>336</th>\n",
       "      <td>2022-05-01</td>\n",
       "      <td>Dodo Putro Aji</td>\n",
       "      <td>10000023</td>\n",
       "      <td>628567812312</td>\n",
       "      <td>Surabaya</td>\n",
       "      <td>Jawa Timur</td>\n",
       "      <td>dodo@gmail.com</td>\n",
       "      <td>15</td>\n",
       "      <td>605000</td>\n",
       "      <td>83</td>\n",
       "    </tr>\n",
       "  </tbody>\n",
       "</table>\n",
       "</div>"
      ],
      "text/plain": [
       "    order_month       full_name   user_id         phone        city  \\\n",
       "332  2022-06-01       Faruq Adi  10000030  628567812319    Makassar   \n",
       "333  2022-06-01       Abrar Adi  10000053  628223411218    Surabaya   \n",
       "334  2022-06-01    Johan Imawan  10000054  628223412323  Balikpapan   \n",
       "335  2022-06-01  Muhammad Ammar  10000055  628223412111    Surabaya   \n",
       "336  2022-05-01  Dodo Putro Aji  10000023  628567812312    Surabaya   \n",
       "\n",
       "             province                   email  total_order  total_gmv  \\\n",
       "332  Sulawesi Selatan         faruq@yahoo.com          201    5490000   \n",
       "333        Jawa Timur   abrar.adi@yahoo.co.id          110    2987500   \n",
       "334  Kalimantan Timur  johan.imawan@yahoo.com           95    2705000   \n",
       "335        Jawa Timur     muh.ammar@gmail.com           30     760000   \n",
       "336        Jawa Timur          dodo@gmail.com           15     605000   \n",
       "\n",
       "     total_visit  \n",
       "332          773  \n",
       "333          276  \n",
       "334          258  \n",
       "335          103  \n",
       "336           83  "
      ]
     },
     "execution_count": 29,
     "metadata": {},
     "output_type": "execute_result"
    }
   ],
   "source": [
    "import numpy as np\n",
    "import pandas as pd\n",
    "pd.options.display.float_format = '{:,.0f}'.format\n",
    "\n",
    "df_summarize = pd.read_csv('monthly_rakamin_customer_order.csv')\n",
    "df_summarize.tail()"
   ]
  },
  {
   "cell_type": "code",
   "execution_count": 30,
   "metadata": {},
   "outputs": [],
   "source": [
    "#menggunakan fungsi where pada package numpy\n",
    "df_summarize['group_order'] = np.where(df_summarize['total_order'] > 30, 'High', 'Low')"
   ]
  },
  {
   "cell_type": "code",
   "execution_count": 31,
   "metadata": {},
   "outputs": [],
   "source": [
    "df_summarize['is_jatim'] = np.where(df_summarize['province'] == 'Jawa Timur', True, False)"
   ]
  },
  {
   "cell_type": "code",
   "execution_count": null,
   "metadata": {},
   "outputs": [],
   "source": [
    "# df_summarize['column_name'] = np.where(expression, value True, value False)"
   ]
  },
  {
   "cell_type": "code",
   "execution_count": 32,
   "metadata": {},
   "outputs": [
    {
     "data": {
      "text/html": [
       "<div>\n",
       "<style scoped>\n",
       "    .dataframe tbody tr th:only-of-type {\n",
       "        vertical-align: middle;\n",
       "    }\n",
       "\n",
       "    .dataframe tbody tr th {\n",
       "        vertical-align: top;\n",
       "    }\n",
       "\n",
       "    .dataframe thead th {\n",
       "        text-align: right;\n",
       "    }\n",
       "</style>\n",
       "<table border=\"1\" class=\"dataframe\">\n",
       "  <thead>\n",
       "    <tr style=\"text-align: right;\">\n",
       "      <th></th>\n",
       "      <th>order_month</th>\n",
       "      <th>full_name</th>\n",
       "      <th>user_id</th>\n",
       "      <th>phone</th>\n",
       "      <th>city</th>\n",
       "      <th>province</th>\n",
       "      <th>email</th>\n",
       "      <th>total_order</th>\n",
       "      <th>total_gmv</th>\n",
       "      <th>total_visit</th>\n",
       "      <th>group_order</th>\n",
       "      <th>is_jatim</th>\n",
       "    </tr>\n",
       "  </thead>\n",
       "  <tbody>\n",
       "    <tr>\n",
       "      <th>0</th>\n",
       "      <td>2018-01-01</td>\n",
       "      <td>Ahmad Budiman</td>\n",
       "      <td>10000011</td>\n",
       "      <td>628785222211</td>\n",
       "      <td>Jakarta Pusat</td>\n",
       "      <td>DKI Jakarta</td>\n",
       "      <td>ahmad@gmail.com</td>\n",
       "      <td>125</td>\n",
       "      <td>3490000</td>\n",
       "      <td>230</td>\n",
       "      <td>High</td>\n",
       "      <td>False</td>\n",
       "    </tr>\n",
       "    <tr>\n",
       "      <th>1</th>\n",
       "      <td>2018-01-01</td>\n",
       "      <td>Azzam Haqq</td>\n",
       "      <td>10000012</td>\n",
       "      <td>628785222212</td>\n",
       "      <td>Surabaya</td>\n",
       "      <td>Jawa Timur</td>\n",
       "      <td>azzam@gmail.co.id</td>\n",
       "      <td>173</td>\n",
       "      <td>4757500</td>\n",
       "      <td>304</td>\n",
       "      <td>High</td>\n",
       "      <td>True</td>\n",
       "    </tr>\n",
       "    <tr>\n",
       "      <th>2</th>\n",
       "      <td>2018-01-01</td>\n",
       "      <td>Amrina Putri</td>\n",
       "      <td>10000013</td>\n",
       "      <td>628785222213</td>\n",
       "      <td>Jakarta Pusat</td>\n",
       "      <td>DKI Jakarta</td>\n",
       "      <td>amrina@yahoo.co.id</td>\n",
       "      <td>20</td>\n",
       "      <td>550000</td>\n",
       "      <td>62</td>\n",
       "      <td>Low</td>\n",
       "      <td>False</td>\n",
       "    </tr>\n",
       "    <tr>\n",
       "      <th>3</th>\n",
       "      <td>2018-01-01</td>\n",
       "      <td>Aan Utama</td>\n",
       "      <td>10000014</td>\n",
       "      <td>628785222214</td>\n",
       "      <td>Medan</td>\n",
       "      <td>Sumatra Utara</td>\n",
       "      <td>aan@yahoo.com</td>\n",
       "      <td>18</td>\n",
       "      <td>495000</td>\n",
       "      <td>100</td>\n",
       "      <td>Low</td>\n",
       "      <td>False</td>\n",
       "    </tr>\n",
       "    <tr>\n",
       "      <th>4</th>\n",
       "      <td>2018-01-01</td>\n",
       "      <td>Adam Adi</td>\n",
       "      <td>10000015</td>\n",
       "      <td>628785222215</td>\n",
       "      <td>Jakarta Timur</td>\n",
       "      <td>DKI Jakarta</td>\n",
       "      <td>adam@gmail.com</td>\n",
       "      <td>159</td>\n",
       "      <td>4372500</td>\n",
       "      <td>524</td>\n",
       "      <td>High</td>\n",
       "      <td>False</td>\n",
       "    </tr>\n",
       "  </tbody>\n",
       "</table>\n",
       "</div>"
      ],
      "text/plain": [
       "  order_month      full_name   user_id         phone           city  \\\n",
       "0  2018-01-01  Ahmad Budiman  10000011  628785222211  Jakarta Pusat   \n",
       "1  2018-01-01     Azzam Haqq  10000012  628785222212       Surabaya   \n",
       "2  2018-01-01   Amrina Putri  10000013  628785222213  Jakarta Pusat   \n",
       "3  2018-01-01      Aan Utama  10000014  628785222214          Medan   \n",
       "4  2018-01-01       Adam Adi  10000015  628785222215  Jakarta Timur   \n",
       "\n",
       "        province               email  total_order  total_gmv  total_visit  \\\n",
       "0    DKI Jakarta     ahmad@gmail.com          125    3490000          230   \n",
       "1     Jawa Timur   azzam@gmail.co.id          173    4757500          304   \n",
       "2    DKI Jakarta  amrina@yahoo.co.id           20     550000           62   \n",
       "3  Sumatra Utara       aan@yahoo.com           18     495000          100   \n",
       "4    DKI Jakarta      adam@gmail.com          159    4372500          524   \n",
       "\n",
       "  group_order  is_jatim  \n",
       "0        High     False  \n",
       "1        High      True  \n",
       "2         Low     False  \n",
       "3         Low     False  \n",
       "4        High     False  "
      ]
     },
     "execution_count": 32,
     "metadata": {},
     "output_type": "execute_result"
    }
   ],
   "source": [
    "df_summarize.head()"
   ]
  },
  {
   "cell_type": "code",
   "execution_count": 24,
   "metadata": {
    "ExecuteTime": {
     "end_time": "2021-03-09T15:53:26.655279Z",
     "start_time": "2021-03-09T15:53:26.648291Z"
    }
   },
   "outputs": [],
   "source": [
    "#menggunakan fungsi where pada package numpy multi\n",
    "df_summarize['group_order_multi'] = np.where(df_summarize['total_order'] > 100, 'High', \n",
    "                                             np.where(df_summarize['total_order'] > 30, 'Mid', 'Low'))"
   ]
  },
  {
   "cell_type": "code",
   "execution_count": null,
   "metadata": {},
   "outputs": [],
   "source": [
    "#menggunakan fungsi where pada package numpy multi\n",
    "df_summarize['group_order_multi'] = np.where(df_summarize['total_order'] > 100, 'High', \n",
    "                                             np.where(df_summarize['total_order'] > 30, 'Mid1', \n",
    "                                             np.where(df_summarize['total_order'] > 10, 'Mid2','Low')))"
   ]
  },
  {
   "cell_type": "code",
   "execution_count": 27,
   "metadata": {},
   "outputs": [
    {
     "data": {
      "text/plain": [
       "Index(['order_month', 'full_name', 'user_id', 'phone', 'city', 'province',\n",
       "       'email', 'total_order', 'total_gmv', 'total_visit', 'group_order',\n",
       "       'group_order_multi'],\n",
       "      dtype='object')"
      ]
     },
     "execution_count": 27,
     "metadata": {},
     "output_type": "execute_result"
    }
   ],
   "source": [
    "df_summarize.columns"
   ]
  },
  {
   "cell_type": "code",
   "execution_count": 28,
   "metadata": {
    "ExecuteTime": {
     "end_time": "2021-03-09T15:53:28.200275Z",
     "start_time": "2021-03-09T15:53:28.177261Z"
    }
   },
   "outputs": [
    {
     "data": {
      "text/html": [
       "<div>\n",
       "<style scoped>\n",
       "    .dataframe tbody tr th:only-of-type {\n",
       "        vertical-align: middle;\n",
       "    }\n",
       "\n",
       "    .dataframe tbody tr th {\n",
       "        vertical-align: top;\n",
       "    }\n",
       "\n",
       "    .dataframe thead th {\n",
       "        text-align: right;\n",
       "    }\n",
       "</style>\n",
       "<table border=\"1\" class=\"dataframe\">\n",
       "  <thead>\n",
       "    <tr style=\"text-align: right;\">\n",
       "      <th></th>\n",
       "      <th>order_month</th>\n",
       "      <th>full_name</th>\n",
       "      <th>user_id</th>\n",
       "      <th>phone</th>\n",
       "      <th>city</th>\n",
       "      <th>province</th>\n",
       "      <th>email</th>\n",
       "      <th>total_order</th>\n",
       "      <th>total_gmv</th>\n",
       "      <th>total_visit</th>\n",
       "      <th>group_order_multi</th>\n",
       "    </tr>\n",
       "  </thead>\n",
       "  <tbody>\n",
       "    <tr>\n",
       "      <th>0</th>\n",
       "      <td>2018-01-01</td>\n",
       "      <td>Ahmad Budiman</td>\n",
       "      <td>10000011</td>\n",
       "      <td>628785222211</td>\n",
       "      <td>Jakarta Pusat</td>\n",
       "      <td>DKI Jakarta</td>\n",
       "      <td>ahmad@gmail.com</td>\n",
       "      <td>125</td>\n",
       "      <td>3490000</td>\n",
       "      <td>230</td>\n",
       "      <td>High</td>\n",
       "    </tr>\n",
       "    <tr>\n",
       "      <th>1</th>\n",
       "      <td>2018-01-01</td>\n",
       "      <td>Azzam Haqq</td>\n",
       "      <td>10000012</td>\n",
       "      <td>628785222212</td>\n",
       "      <td>Surabaya</td>\n",
       "      <td>Jawa Timur</td>\n",
       "      <td>azzam@gmail.co.id</td>\n",
       "      <td>173</td>\n",
       "      <td>4757500</td>\n",
       "      <td>304</td>\n",
       "      <td>High</td>\n",
       "    </tr>\n",
       "    <tr>\n",
       "      <th>2</th>\n",
       "      <td>2018-01-01</td>\n",
       "      <td>Amrina Putri</td>\n",
       "      <td>10000013</td>\n",
       "      <td>628785222213</td>\n",
       "      <td>Jakarta Pusat</td>\n",
       "      <td>DKI Jakarta</td>\n",
       "      <td>amrina@yahoo.co.id</td>\n",
       "      <td>20</td>\n",
       "      <td>550000</td>\n",
       "      <td>62</td>\n",
       "      <td>Low</td>\n",
       "    </tr>\n",
       "    <tr>\n",
       "      <th>3</th>\n",
       "      <td>2018-01-01</td>\n",
       "      <td>Aan Utama</td>\n",
       "      <td>10000014</td>\n",
       "      <td>628785222214</td>\n",
       "      <td>Medan</td>\n",
       "      <td>Sumatra Utara</td>\n",
       "      <td>aan@yahoo.com</td>\n",
       "      <td>18</td>\n",
       "      <td>495000</td>\n",
       "      <td>100</td>\n",
       "      <td>Low</td>\n",
       "    </tr>\n",
       "    <tr>\n",
       "      <th>4</th>\n",
       "      <td>2018-01-01</td>\n",
       "      <td>Adam Adi</td>\n",
       "      <td>10000015</td>\n",
       "      <td>628785222215</td>\n",
       "      <td>Jakarta Timur</td>\n",
       "      <td>DKI Jakarta</td>\n",
       "      <td>adam@gmail.com</td>\n",
       "      <td>159</td>\n",
       "      <td>4372500</td>\n",
       "      <td>524</td>\n",
       "      <td>High</td>\n",
       "    </tr>\n",
       "    <tr>\n",
       "      <th>5</th>\n",
       "      <td>2018-01-01</td>\n",
       "      <td>Budi Utomo</td>\n",
       "      <td>10000016</td>\n",
       "      <td>628785222216</td>\n",
       "      <td>Bandung</td>\n",
       "      <td>Jawa Barat</td>\n",
       "      <td>budi@gmail.co.id</td>\n",
       "      <td>138</td>\n",
       "      <td>3795000</td>\n",
       "      <td>345</td>\n",
       "      <td>High</td>\n",
       "    </tr>\n",
       "    <tr>\n",
       "      <th>6</th>\n",
       "      <td>2018-02-01</td>\n",
       "      <td>Bayu Aji</td>\n",
       "      <td>10000017</td>\n",
       "      <td>628785222217</td>\n",
       "      <td>Semarang</td>\n",
       "      <td>Jawa Tengah</td>\n",
       "      <td>bayu@yahoo.co.id</td>\n",
       "      <td>78</td>\n",
       "      <td>2145000</td>\n",
       "      <td>194</td>\n",
       "      <td>Mid</td>\n",
       "    </tr>\n",
       "    <tr>\n",
       "      <th>7</th>\n",
       "      <td>2018-02-01</td>\n",
       "      <td>Bila Syahputri</td>\n",
       "      <td>10000018</td>\n",
       "      <td>628785222218</td>\n",
       "      <td>Bandung</td>\n",
       "      <td>Jawa Barat</td>\n",
       "      <td>bila@yahoo.com</td>\n",
       "      <td>195</td>\n",
       "      <td>5362500</td>\n",
       "      <td>550</td>\n",
       "      <td>High</td>\n",
       "    </tr>\n",
       "    <tr>\n",
       "      <th>8</th>\n",
       "      <td>2018-02-01</td>\n",
       "      <td>Chika Ayu</td>\n",
       "      <td>10000019</td>\n",
       "      <td>628785222219</td>\n",
       "      <td>Semarang</td>\n",
       "      <td>Jawa Tengah</td>\n",
       "      <td>chika@gmail.com</td>\n",
       "      <td>146</td>\n",
       "      <td>4015000</td>\n",
       "      <td>283</td>\n",
       "      <td>High</td>\n",
       "    </tr>\n",
       "    <tr>\n",
       "      <th>9</th>\n",
       "      <td>2018-02-01</td>\n",
       "      <td>Cantika Putri Rahayu</td>\n",
       "      <td>10000020</td>\n",
       "      <td>628785222220</td>\n",
       "      <td>Bandung</td>\n",
       "      <td>Jawa Barat</td>\n",
       "      <td>cantika@gmail.co.id</td>\n",
       "      <td>21</td>\n",
       "      <td>577500</td>\n",
       "      <td>64</td>\n",
       "      <td>Low</td>\n",
       "    </tr>\n",
       "  </tbody>\n",
       "</table>\n",
       "</div>"
      ],
      "text/plain": [
       "  order_month             full_name   user_id         phone           city  \\\n",
       "0  2018-01-01         Ahmad Budiman  10000011  628785222211  Jakarta Pusat   \n",
       "1  2018-01-01            Azzam Haqq  10000012  628785222212       Surabaya   \n",
       "2  2018-01-01          Amrina Putri  10000013  628785222213  Jakarta Pusat   \n",
       "3  2018-01-01             Aan Utama  10000014  628785222214          Medan   \n",
       "4  2018-01-01              Adam Adi  10000015  628785222215  Jakarta Timur   \n",
       "5  2018-01-01            Budi Utomo  10000016  628785222216        Bandung   \n",
       "6  2018-02-01              Bayu Aji  10000017  628785222217       Semarang   \n",
       "7  2018-02-01        Bila Syahputri  10000018  628785222218        Bandung   \n",
       "8  2018-02-01             Chika Ayu  10000019  628785222219       Semarang   \n",
       "9  2018-02-01  Cantika Putri Rahayu  10000020  628785222220        Bandung   \n",
       "\n",
       "        province                email  total_order  total_gmv  total_visit  \\\n",
       "0    DKI Jakarta      ahmad@gmail.com          125    3490000          230   \n",
       "1     Jawa Timur    azzam@gmail.co.id          173    4757500          304   \n",
       "2    DKI Jakarta   amrina@yahoo.co.id           20     550000           62   \n",
       "3  Sumatra Utara        aan@yahoo.com           18     495000          100   \n",
       "4    DKI Jakarta       adam@gmail.com          159    4372500          524   \n",
       "5     Jawa Barat     budi@gmail.co.id          138    3795000          345   \n",
       "6    Jawa Tengah     bayu@yahoo.co.id           78    2145000          194   \n",
       "7     Jawa Barat       bila@yahoo.com          195    5362500          550   \n",
       "8    Jawa Tengah      chika@gmail.com          146    4015000          283   \n",
       "9     Jawa Barat  cantika@gmail.co.id           21     577500           64   \n",
       "\n",
       "  group_order_multi  \n",
       "0              High  \n",
       "1              High  \n",
       "2               Low  \n",
       "3               Low  \n",
       "4              High  \n",
       "5              High  \n",
       "6               Mid  \n",
       "7              High  \n",
       "8              High  \n",
       "9               Low  "
      ]
     },
     "execution_count": 28,
     "metadata": {},
     "output_type": "execute_result"
    }
   ],
   "source": [
    "df_summarize[['order_month', 'full_name', 'user_id', 'phone', 'city', 'province',\n",
    "       'email', 'total_order', 'total_gmv', 'total_visit','group_order_multi']].head(10)"
   ]
  },
  {
   "cell_type": "markdown",
   "metadata": {},
   "source": [
    "#### Mini Quiz | Challenge Time #3"
   ]
  },
  {
   "cell_type": "markdown",
   "metadata": {},
   "source": [
    "Menggunakan dataset <b>monthly_rakamin_customer_order</b>, tambahkan kolom <b>is_higher_gmv</b> dengan logik jika\n",
    "\n",
    "Total GMV lebih besar dari rata-rata GMV bulanan customer maka True namun jika tidak maka False <br>\n",
    "\n",
    "<b>Hint:</b> <br>\n",
    "Buat dataframe baru terlebih dulu dengan menggunakan fungsi Group by kemudian di merge / gunakan fungsi .transform()\n",
    "\n"
   ]
  },
  {
   "cell_type": "code",
   "execution_count": 33,
   "metadata": {},
   "outputs": [],
   "source": [
    "#challenge time\n",
    "\n",
    "import pandas as pd\n",
    "import numpy as np\n",
    "\n",
    "pd.options.display.float_format = '{:,.0f}'.format #formating float"
   ]
  },
  {
   "cell_type": "code",
   "execution_count": 34,
   "metadata": {},
   "outputs": [
    {
     "data": {
      "text/html": [
       "<div>\n",
       "<style scoped>\n",
       "    .dataframe tbody tr th:only-of-type {\n",
       "        vertical-align: middle;\n",
       "    }\n",
       "\n",
       "    .dataframe tbody tr th {\n",
       "        vertical-align: top;\n",
       "    }\n",
       "\n",
       "    .dataframe thead th {\n",
       "        text-align: right;\n",
       "    }\n",
       "</style>\n",
       "<table border=\"1\" class=\"dataframe\">\n",
       "  <thead>\n",
       "    <tr style=\"text-align: right;\">\n",
       "      <th></th>\n",
       "      <th>order_month</th>\n",
       "      <th>full_name</th>\n",
       "      <th>user_id</th>\n",
       "      <th>phone</th>\n",
       "      <th>city</th>\n",
       "      <th>province</th>\n",
       "      <th>email</th>\n",
       "      <th>total_order</th>\n",
       "      <th>total_gmv</th>\n",
       "      <th>total_visit</th>\n",
       "    </tr>\n",
       "  </thead>\n",
       "  <tbody>\n",
       "    <tr>\n",
       "      <th>0</th>\n",
       "      <td>2018-01-01</td>\n",
       "      <td>Ahmad Budiman</td>\n",
       "      <td>10000011</td>\n",
       "      <td>628785222211</td>\n",
       "      <td>Jakarta Pusat</td>\n",
       "      <td>DKI Jakarta</td>\n",
       "      <td>ahmad@gmail.com</td>\n",
       "      <td>125</td>\n",
       "      <td>3490000</td>\n",
       "      <td>230</td>\n",
       "    </tr>\n",
       "    <tr>\n",
       "      <th>1</th>\n",
       "      <td>2018-01-01</td>\n",
       "      <td>Azzam Haqq</td>\n",
       "      <td>10000012</td>\n",
       "      <td>628785222212</td>\n",
       "      <td>Surabaya</td>\n",
       "      <td>Jawa Timur</td>\n",
       "      <td>azzam@gmail.co.id</td>\n",
       "      <td>173</td>\n",
       "      <td>4757500</td>\n",
       "      <td>304</td>\n",
       "    </tr>\n",
       "    <tr>\n",
       "      <th>2</th>\n",
       "      <td>2018-01-01</td>\n",
       "      <td>Amrina Putri</td>\n",
       "      <td>10000013</td>\n",
       "      <td>628785222213</td>\n",
       "      <td>Jakarta Pusat</td>\n",
       "      <td>DKI Jakarta</td>\n",
       "      <td>amrina@yahoo.co.id</td>\n",
       "      <td>20</td>\n",
       "      <td>550000</td>\n",
       "      <td>62</td>\n",
       "    </tr>\n",
       "    <tr>\n",
       "      <th>3</th>\n",
       "      <td>2018-01-01</td>\n",
       "      <td>Aan Utama</td>\n",
       "      <td>10000014</td>\n",
       "      <td>628785222214</td>\n",
       "      <td>Medan</td>\n",
       "      <td>Sumatra Utara</td>\n",
       "      <td>aan@yahoo.com</td>\n",
       "      <td>18</td>\n",
       "      <td>495000</td>\n",
       "      <td>100</td>\n",
       "    </tr>\n",
       "    <tr>\n",
       "      <th>4</th>\n",
       "      <td>2018-01-01</td>\n",
       "      <td>Adam Adi</td>\n",
       "      <td>10000015</td>\n",
       "      <td>628785222215</td>\n",
       "      <td>Jakarta Timur</td>\n",
       "      <td>DKI Jakarta</td>\n",
       "      <td>adam@gmail.com</td>\n",
       "      <td>159</td>\n",
       "      <td>4372500</td>\n",
       "      <td>524</td>\n",
       "    </tr>\n",
       "  </tbody>\n",
       "</table>\n",
       "</div>"
      ],
      "text/plain": [
       "  order_month      full_name   user_id         phone           city  \\\n",
       "0  2018-01-01  Ahmad Budiman  10000011  628785222211  Jakarta Pusat   \n",
       "1  2018-01-01     Azzam Haqq  10000012  628785222212       Surabaya   \n",
       "2  2018-01-01   Amrina Putri  10000013  628785222213  Jakarta Pusat   \n",
       "3  2018-01-01      Aan Utama  10000014  628785222214          Medan   \n",
       "4  2018-01-01       Adam Adi  10000015  628785222215  Jakarta Timur   \n",
       "\n",
       "        province               email  total_order  total_gmv  total_visit  \n",
       "0    DKI Jakarta     ahmad@gmail.com          125    3490000          230  \n",
       "1     Jawa Timur   azzam@gmail.co.id          173    4757500          304  \n",
       "2    DKI Jakarta  amrina@yahoo.co.id           20     550000           62  \n",
       "3  Sumatra Utara       aan@yahoo.com           18     495000          100  \n",
       "4    DKI Jakarta      adam@gmail.com          159    4372500          524  "
      ]
     },
     "execution_count": 34,
     "metadata": {},
     "output_type": "execute_result"
    }
   ],
   "source": [
    "df = pd.read_csv('monthly_rakamin_customer_order.csv')\n",
    "df.head()"
   ]
  },
  {
   "cell_type": "markdown",
   "metadata": {},
   "source": [
    "#### Tetap Semangat Belajar Python. Thank you!"
   ]
  }
 ],
 "metadata": {
  "kernelspec": {
   "display_name": "Python 3",
   "language": "python",
   "name": "python3"
  },
  "language_info": {
   "codemirror_mode": {
    "name": "ipython",
    "version": 3
   },
   "file_extension": ".py",
   "mimetype": "text/x-python",
   "name": "python",
   "nbconvert_exporter": "python",
   "pygments_lexer": "ipython3",
   "version": "3.8.3"
  },
  "toc": {
   "base_numbering": 1,
   "nav_menu": {},
   "number_sections": true,
   "sideBar": true,
   "skip_h1_title": false,
   "title_cell": "Table of Contents",
   "title_sidebar": "Contents",
   "toc_cell": false,
   "toc_position": {},
   "toc_section_display": true,
   "toc_window_display": true
  }
 },
 "nbformat": 4,
 "nbformat_minor": 4
}
