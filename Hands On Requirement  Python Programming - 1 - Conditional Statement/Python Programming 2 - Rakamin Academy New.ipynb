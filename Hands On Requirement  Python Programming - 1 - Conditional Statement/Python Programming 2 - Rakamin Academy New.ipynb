{
 "cells": [
  {
   "cell_type": "markdown",
   "metadata": {},
   "source": [
    "# Loop and Iteration for Python Programming"
   ]
  },
  {
   "cell_type": "markdown",
   "metadata": {},
   "source": [
    "<b>created by</b> : Muhammad Ammar Fauzan | maf.fauzan@gmail.com"
   ]
  },
  {
   "cell_type": "markdown",
   "metadata": {},
   "source": [
    "## Pengenalan Iterasi"
   ]
  },
  {
   "cell_type": "markdown",
   "metadata": {},
   "source": [
    "### Definite Iteration"
   ]
  },
  {
   "cell_type": "code",
   "execution_count": null,
   "metadata": {},
   "outputs": [],
   "source": [
    "#Concept Definite Iteration\n",
    "for target in iterable:\n",
    "    statement(s)"
   ]
  },
  {
   "cell_type": "code",
   "execution_count": 1,
   "metadata": {},
   "outputs": [
    {
     "name": "stdout",
     "output_type": "stream",
     "text": [
      "1\n",
      "2\n",
      "3\n",
      "4\n",
      "5\n"
     ]
    }
   ],
   "source": [
    "list_angka = [1,2,3,4,5]\n",
    "\n",
    "for i in list_angka: #perulangan akan dilakukan sejumlah item pada variabel list_angka\n",
    "    print(i)"
   ]
  },
  {
   "cell_type": "code",
   "execution_count": 2,
   "metadata": {},
   "outputs": [
    {
     "name": "stdout",
     "output_type": "stream",
     "text": [
      "r\n",
      "a\n",
      "k\n",
      "a\n",
      "m\n",
      "i\n",
      "n\n"
     ]
    }
   ],
   "source": [
    "name = 'rakamin' #string termasuk object iterable\n",
    "\n",
    "for m in name:\n",
    "    print(m)"
   ]
  },
  {
   "cell_type": "code",
   "execution_count": 3,
   "metadata": {},
   "outputs": [
    {
     "name": "stdout",
     "output_type": "stream",
     "text": [
      "1\n",
      "2\n",
      "3\n",
      "4\n",
      "5\n",
      "6\n",
      "7\n",
      "8\n",
      "9\n"
     ]
    }
   ],
   "source": [
    "list_angka = [1,2,3,4,5,6,7,8,9]\n",
    "\n",
    "for i in list_angka: #perulangan akan dilakukan sejumlah item pada variabel list_angka\n",
    "    print(i)"
   ]
  },
  {
   "cell_type": "markdown",
   "metadata": {},
   "source": [
    "### Iterables"
   ]
  },
  {
   "cell_type": "code",
   "execution_count": 7,
   "metadata": {},
   "outputs": [],
   "source": [
    "#cek iterable menggunakan fungsi iter()\n",
    "a = iter('foobar')                             # String\n",
    "\n",
    "b = iter(['foo', 'bar', 'baz'])                # List\n",
    "\n",
    "c = iter(('foo', 'bar', 'baz'))                # Tuple\n",
    "\n",
    "d = iter({'foo', 'bar', 'baz'})                # Set\n",
    "\n",
    "e = iter({'foo': 1, 'bar': 2, 'baz': 3})       # Dict"
   ]
  },
  {
   "cell_type": "code",
   "execution_count": 8,
   "metadata": {},
   "outputs": [
    {
     "name": "stdout",
     "output_type": "stream",
     "text": [
      "<list_iterator object at 0x0000010A22F7FA30>\n"
     ]
    }
   ],
   "source": [
    "print(b) #sukses menjadi object iteraror"
   ]
  },
  {
   "cell_type": "code",
   "execution_count": 9,
   "metadata": {},
   "outputs": [
    {
     "name": "stdout",
     "output_type": "stream",
     "text": [
      "foo\n",
      "bar\n",
      "baz\n"
     ]
    }
   ],
   "source": [
    "#memunculkan item pada variabel b one by one\n",
    "print(next(b))\n",
    "print(next(b))\n",
    "print(next(b))"
   ]
  },
  {
   "cell_type": "markdown",
   "metadata": {},
   "source": [
    "### Range"
   ]
  },
  {
   "cell_type": "code",
   "execution_count": 3,
   "metadata": {},
   "outputs": [
    {
     "name": "stdout",
     "output_type": "stream",
     "text": [
      "0\n",
      "1\n",
      "2\n",
      "3\n",
      "4\n"
     ]
    }
   ],
   "source": [
    "#fungsi range(b) = 0 - (b-1)\n",
    "for i in range(5):\n",
    "    print(i)"
   ]
  },
  {
   "cell_type": "code",
   "execution_count": 3,
   "metadata": {},
   "outputs": [
    {
     "name": "stdout",
     "output_type": "stream",
     "text": [
      "1\n",
      "2\n",
      "3\n",
      "4\n"
     ]
    }
   ],
   "source": [
    "#fungsi range(a, b) = a - (b-1)\n",
    "for i in range(1, 5):\n",
    "    print(i)"
   ]
  },
  {
   "cell_type": "code",
   "execution_count": 4,
   "metadata": {},
   "outputs": [
    {
     "name": "stdout",
     "output_type": "stream",
     "text": [
      "2\n",
      "4\n",
      "6\n",
      "8\n"
     ]
    }
   ],
   "source": [
    "for i in range(2, 10, 2): #nilai i start dari 2 dan naik +2\n",
    "    print(i)"
   ]
  },
  {
   "cell_type": "markdown",
   "metadata": {},
   "source": [
    "### Kondisi dengan lebih dari 1 statement"
   ]
  },
  {
   "cell_type": "code",
   "execution_count": 4,
   "metadata": {},
   "outputs": [
    {
     "name": "stdout",
     "output_type": "stream",
     "text": [
      "Kuadrat 1 adalah 1\n",
      "Kuadrat 2 adalah 4\n",
      "Kuadrat 3 adalah 9\n",
      "Kuadrat 4 adalah 16\n",
      "Kuadrat 5 adalah 25\n",
      "Kuadrat 6 adalah 36\n",
      "Kuadrat 7 adalah 49\n",
      "Kuadrat 8 adalah 64\n",
      "Kuadrat 9 adalah 81\n",
      "Kuadrat 10 adalah 100\n"
     ]
    }
   ],
   "source": [
    "#contoh 1: Membuat bilangan kuadrat dari 1-10 dan mencetak hasilnya\n",
    "\n",
    "for i in range(1, 11):\n",
    "    kuadrat = i*i #statement 1\n",
    "    print('Kuadrat', i, 'adalah', kuadrat) #statement 2"
   ]
  },
  {
   "cell_type": "code",
   "execution_count": 4,
   "metadata": {},
   "outputs": [
    {
     "data": {
      "text/html": [
       "<div>\n",
       "<style scoped>\n",
       "    .dataframe tbody tr th:only-of-type {\n",
       "        vertical-align: middle;\n",
       "    }\n",
       "\n",
       "    .dataframe tbody tr th {\n",
       "        vertical-align: top;\n",
       "    }\n",
       "\n",
       "    .dataframe thead th {\n",
       "        text-align: right;\n",
       "    }\n",
       "</style>\n",
       "<table border=\"1\" class=\"dataframe\">\n",
       "  <thead>\n",
       "    <tr style=\"text-align: right;\">\n",
       "      <th></th>\n",
       "      <th>Nama Customer</th>\n",
       "      <th>Kota Customer</th>\n",
       "    </tr>\n",
       "  </thead>\n",
       "  <tbody>\n",
       "    <tr>\n",
       "      <th>0</th>\n",
       "      <td>Ammar</td>\n",
       "      <td>Surabaya</td>\n",
       "    </tr>\n",
       "    <tr>\n",
       "      <th>1</th>\n",
       "      <td>Hasan</td>\n",
       "      <td>Bandung</td>\n",
       "    </tr>\n",
       "  </tbody>\n",
       "</table>\n",
       "</div>"
      ],
      "text/plain": [
       "  Nama Customer Kota Customer\n",
       "0         Ammar      Surabaya\n",
       "1         Hasan       Bandung"
      ]
     },
     "execution_count": 4,
     "metadata": {},
     "output_type": "execute_result"
    }
   ],
   "source": [
    "#contoh 2 : Membuat nama kolom menjadi huruf kecil (lower case) dan snake case (_)\n",
    "\n",
    "import pandas as pd\n",
    "\n",
    "df = pd.DataFrame({'Nama Customer':['Ammar', 'Hasan'],\n",
    "                  'Kota Customer':['Surabaya', 'Bandung']})\n",
    "df"
   ]
  },
  {
   "cell_type": "code",
   "execution_count": 5,
   "metadata": {},
   "outputs": [
    {
     "data": {
      "text/plain": [
       "Index(['Nama Customer', 'Kota Customer'], dtype='object')"
      ]
     },
     "execution_count": 5,
     "metadata": {},
     "output_type": "execute_result"
    }
   ],
   "source": [
    "column_name = df.columns\n",
    "column_name"
   ]
  },
  {
   "cell_type": "code",
   "execution_count": 6,
   "metadata": {},
   "outputs": [
    {
     "name": "stdout",
     "output_type": "stream",
     "text": [
      "['nama_customer', 'kota_customer']\n"
     ]
    }
   ],
   "source": [
    "column_name_new = [] #list_kosong\n",
    "\n",
    "# iterasi setiap nama column\n",
    "for i in column_name:\n",
    "    new_name = i.lower() #statement 1\n",
    "    split_name = new_name.split() #[name1, name2] #statement 2\n",
    "    new_name = split_name[0] + '_' + split_name[1] #statement 3\n",
    "    column_name_new.append(new_name) #statement 4\n",
    "    \n",
    "print(column_name_new)"
   ]
  },
  {
   "cell_type": "code",
   "execution_count": 7,
   "metadata": {},
   "outputs": [
    {
     "data": {
      "text/html": [
       "<div>\n",
       "<style scoped>\n",
       "    .dataframe tbody tr th:only-of-type {\n",
       "        vertical-align: middle;\n",
       "    }\n",
       "\n",
       "    .dataframe tbody tr th {\n",
       "        vertical-align: top;\n",
       "    }\n",
       "\n",
       "    .dataframe thead th {\n",
       "        text-align: right;\n",
       "    }\n",
       "</style>\n",
       "<table border=\"1\" class=\"dataframe\">\n",
       "  <thead>\n",
       "    <tr style=\"text-align: right;\">\n",
       "      <th></th>\n",
       "      <th>nama_customer</th>\n",
       "      <th>kota_customer</th>\n",
       "    </tr>\n",
       "  </thead>\n",
       "  <tbody>\n",
       "    <tr>\n",
       "      <th>0</th>\n",
       "      <td>Ammar</td>\n",
       "      <td>Surabaya</td>\n",
       "    </tr>\n",
       "    <tr>\n",
       "      <th>1</th>\n",
       "      <td>Hasan</td>\n",
       "      <td>Bandung</td>\n",
       "    </tr>\n",
       "  </tbody>\n",
       "</table>\n",
       "</div>"
      ],
      "text/plain": [
       "  nama_customer kota_customer\n",
       "0         Ammar      Surabaya\n",
       "1         Hasan       Bandung"
      ]
     },
     "execution_count": 7,
     "metadata": {},
     "output_type": "execute_result"
    }
   ],
   "source": [
    "df.columns = column_name_new\n",
    "df"
   ]
  },
  {
   "cell_type": "markdown",
   "metadata": {},
   "source": [
    "### Indefinite Iteration"
   ]
  },
  {
   "cell_type": "code",
   "execution_count": null,
   "metadata": {},
   "outputs": [],
   "source": [
    "#contoh implementasi indefinite iteration\n",
    "while expression:\n",
    "    statement(s)"
   ]
  },
  {
   "cell_type": "code",
   "execution_count": 8,
   "metadata": {},
   "outputs": [
    {
     "name": "stdout",
     "output_type": "stream",
     "text": [
      "0\n",
      "1\n",
      "2\n",
      "3\n",
      "4\n",
      "5\n",
      "6\n"
     ]
    }
   ],
   "source": [
    "#while loop\n",
    "i = 0  #initiate var\n",
    "while i < 7: #expression\n",
    "    print(i) #statement 1\n",
    "    i+=1 #statement 2 | i=i+1"
   ]
  },
  {
   "cell_type": "code",
   "execution_count": 9,
   "metadata": {},
   "outputs": [
    {
     "name": "stdout",
     "output_type": "stream",
     "text": [
      "0\n",
      "1\n",
      "2\n",
      "3\n",
      "4\n",
      "5\n",
      "6\n"
     ]
    }
   ],
   "source": [
    "#while loop\n",
    "list_number = range(7)\n",
    "i = 0  #initiate var\n",
    "while i < len(list_number): #expression\n",
    "    print(i) #statement 1\n",
    "    i+=1 #statement 2 | i=i+1"
   ]
  },
  {
   "cell_type": "markdown",
   "metadata": {},
   "source": [
    "### Mini Quiz | Challenge Time #1"
   ]
  },
  {
   "cell_type": "markdown",
   "metadata": {},
   "source": [
    "Terdapat 50 user dengan user_id berurut dari 101 - 150, kita akan memilih beberapa user_id saja yang akan dijadikan sebagai target  user interview. Kriteria user yang akan diambil adalah.\n",
    "\n",
    "Jika nilai user_id adalah <b>bilangan kelipatan 5 yang habis dibagi 2.</b> \n",
    "\n",
    "Ada berapa jumlah user yang menjadi target participant? Buatlah dua versi, pertama menggunakan iterasi for dan kedua menggunakan while!\n",
    "\n",
    "<b>Hint:</b> Buatlah variabel dengan value 0 yang terus bertambah secara incremental setiap iterasi jika memenuhi kondisi yang diminta, gunakan conditional statement - IF"
   ]
  },
  {
   "cell_type": "code",
   "execution_count": 23,
   "metadata": {},
   "outputs": [],
   "source": [
    "#Challenge Time #1\n",
    "#bentuk for\n",
    "\n",
    "\n",
    "# print('Jumlah user_id yang sesuai ada',n_target)"
   ]
  },
  {
   "cell_type": "code",
   "execution_count": 24,
   "metadata": {},
   "outputs": [],
   "source": [
    "#Challenge Time #1\n",
    "#bentuk while\n",
    "\n",
    "# print('Jumlah user_id yang sesuai ada',n_target)"
   ]
  },
  {
   "cell_type": "markdown",
   "metadata": {},
   "source": [
    "## Iterasi List"
   ]
  },
  {
   "cell_type": "markdown",
   "metadata": {},
   "source": [
    "Iterasi pada list berfungsi untuk melakukan perulangan terhadap setiap itemnya"
   ]
  },
  {
   "cell_type": "code",
   "execution_count": 12,
   "metadata": {},
   "outputs": [
    {
     "name": "stdout",
     "output_type": "stream",
     "text": [
      "False\n",
      "True\n",
      "False\n",
      "True\n",
      "True\n",
      "True\n",
      "True\n",
      "True\n"
     ]
    }
   ],
   "source": [
    "list_nilai = [70, 72, 60, 80, 83, 90, 85, 100]\n",
    "\n",
    "for i in list_nilai:\n",
    "    cek_nilai = i > 70 #melakukan pengecekan dengan hasil boolean, i bernilai item pada list\n",
    "    print(cek_nilai)"
   ]
  },
  {
   "cell_type": "markdown",
   "metadata": {},
   "source": [
    "### Perulangan memunculkan index"
   ]
  },
  {
   "cell_type": "code",
   "execution_count": 10,
   "metadata": {},
   "outputs": [
    {
     "name": "stdout",
     "output_type": "stream",
     "text": [
      "index 0 adalah 70\n",
      "index 1 adalah 72\n",
      "index 2 adalah 60\n",
      "index 3 adalah 80\n",
      "index 4 adalah 83\n",
      "index 5 adalah 90\n",
      "index 6 adalah 85\n",
      "index 7 adalah 100\n"
     ]
    }
   ],
   "source": [
    "#memunculkan index dengan fungsi .index()\n",
    "list_nilai = [70, 72, 60, 80, 83, 90, 85, 100]\n",
    "\n",
    "for i in list_nilai:\n",
    "    print('index', list_nilai.index(i), 'adalah', i)"
   ]
  },
  {
   "cell_type": "code",
   "execution_count": 11,
   "metadata": {},
   "outputs": [
    {
     "name": "stdout",
     "output_type": "stream",
     "text": [
      "index 0 adalah 70\n",
      "index 1 adalah 72\n",
      "index 2 adalah 60\n",
      "index 3 adalah 80\n",
      "index 4 adalah 83\n",
      "index 5 adalah 90\n",
      "index 6 adalah 85\n",
      "index 7 adalah 100\n",
      "index 8 adalah 12\n"
     ]
    }
   ],
   "source": [
    "#memunculkan index dengan fungsi .index()\n",
    "list_nilai = [70, 72, 60, 80, 83, 90, 85, 100, 12]\n",
    "\n",
    "for i in list_nilai:\n",
    "    print('index', list_nilai.index(i), 'adalah', i)"
   ]
  },
  {
   "cell_type": "code",
   "execution_count": 10,
   "metadata": {},
   "outputs": [],
   "source": [
    "#memunculkan index dengan fungsi .index()\n",
    "list_nilai = [70, 72, 60, 80, 83, 90, 85, 100, 12, 72]"
   ]
  },
  {
   "cell_type": "code",
   "execution_count": 13,
   "metadata": {},
   "outputs": [
    {
     "name": "stdout",
     "output_type": "stream",
     "text": [
      "index 0 adalah 70\n",
      "index 1 adalah 72\n",
      "index 2 adalah 60\n",
      "index 3 adalah 80\n",
      "index 4 adalah 83\n",
      "index 5 adalah 90\n",
      "index 6 adalah 85\n",
      "index 7 adalah 100\n",
      "index 8 adalah 12\n",
      "index 9 adalah 72\n"
     ]
    }
   ],
   "source": [
    "for i, x in enumerate(list_nilai):\n",
    "    print('index', i, 'adalah', x)"
   ]
  },
  {
   "cell_type": "code",
   "execution_count": 11,
   "metadata": {},
   "outputs": [
    {
     "name": "stdout",
     "output_type": "stream",
     "text": [
      "index 0 adalah 70\n",
      "index 1 adalah 72\n",
      "index 2 adalah 60\n",
      "index 3 adalah 80\n",
      "index 4 adalah 83\n",
      "index 5 adalah 90\n",
      "index 6 adalah 85\n",
      "index 7 adalah 100\n",
      "index 8 adalah 12\n",
      "index 9 adalah 72\n"
     ]
    }
   ],
   "source": [
    "for index, value in enumerate(list_nilai):\n",
    "    print('index', index, 'adalah', value)"
   ]
  },
  {
   "cell_type": "code",
   "execution_count": 15,
   "metadata": {},
   "outputs": [
    {
     "name": "stdout",
     "output_type": "stream",
     "text": [
      "Namanya adalah Ammar memiliki hobi Badminton\n",
      "Namanya adalah Ahmad memiliki hobi Membaca\n"
     ]
    }
   ],
   "source": [
    "#penjelasan multiple dimensi\n",
    "contoh_multiple_dimensi = [['Ammar', 'Badminton'], ['Ahmad', 'Membaca']] #list di dalam list\n",
    "\n",
    "for nama, hobi in contoh_multiple_dimensi:\n",
    "    print(\"Namanya adalah\", nama, 'memiliki hobi', hobi)"
   ]
  },
  {
   "cell_type": "markdown",
   "metadata": {},
   "source": [
    "### Membuat list baru dari hasil perulangan"
   ]
  },
  {
   "cell_type": "code",
   "execution_count": 16,
   "metadata": {},
   "outputs": [
    {
     "data": {
      "text/plain": [
       "['Tidak Lulus',\n",
       " 'Tidak Lulus',\n",
       " 'Tidak Lulus',\n",
       " 'Lulus',\n",
       " 'Lulus',\n",
       " 'Lulus',\n",
       " 'Lulus',\n",
       " 'Lulus']"
      ]
     },
     "execution_count": 16,
     "metadata": {},
     "output_type": "execute_result"
    }
   ],
   "source": [
    "#Studi kasus: membuat list baru yang merupakan status hasil ujian\n",
    "\n",
    "list_nilai = [70, 72, 60, 80, 83, 90, 85, 100]\n",
    "status = [] #list kosong\n",
    "\n",
    "for i in list_nilai:\n",
    "    if i > 75:\n",
    "        status.append('Lulus')\n",
    "    else:\n",
    "        status.append('Tidak Lulus')\n",
    "        \n",
    "status"
   ]
  },
  {
   "cell_type": "markdown",
   "metadata": {},
   "source": [
    "### One Liner | List Comprehension"
   ]
  },
  {
   "cell_type": "code",
   "execution_count": 12,
   "metadata": {},
   "outputs": [
    {
     "data": {
      "text/plain": [
       "[70, 72, 60, 80, 83, 90, 85, 100]"
      ]
     },
     "execution_count": 12,
     "metadata": {},
     "output_type": "execute_result"
    }
   ],
   "source": [
    "#One liner | list comprehension\n",
    "list_nilai = [70, 72, 60, 80, 83, 90, 85, 100]\n",
    "\n",
    "basic = [i for i in list_nilai]\n",
    "basic"
   ]
  },
  {
   "cell_type": "code",
   "execution_count": 18,
   "metadata": {},
   "outputs": [
    {
     "data": {
      "text/plain": [
       "[70, 72, 60, 80, 83, 90, 85, 100]"
      ]
     },
     "execution_count": 18,
     "metadata": {},
     "output_type": "execute_result"
    }
   ],
   "source": [
    "#One liner | list comprehension\n",
    "list_nilai = [70, 72, 60, 80, 83, 90, 85, 100]\n",
    "\n",
    "status = [i for i in list_nilai]\n",
    "status"
   ]
  },
  {
   "cell_type": "code",
   "execution_count": 19,
   "metadata": {},
   "outputs": [
    {
     "data": {
      "text/plain": [
       "['Tidak Lulus',\n",
       " 'Tidak Lulus',\n",
       " 'Tidak Lulus',\n",
       " 'Lulus',\n",
       " 'Lulus',\n",
       " 'Lulus',\n",
       " 'Lulus',\n",
       " 'Lulus']"
      ]
     },
     "execution_count": 19,
     "metadata": {},
     "output_type": "execute_result"
    }
   ],
   "source": [
    "#One liner | list comprehension\n",
    "list_nilai = [70, 72, 60, 80, 83, 90, 85, 100]\n",
    "\n",
    "status = ['Lulus' if i > 75 else 'Tidak Lulus' for i in list_nilai]\n",
    "status"
   ]
  },
  {
   "cell_type": "code",
   "execution_count": 13,
   "metadata": {},
   "outputs": [
    {
     "data": {
      "text/plain": [
       "[2, 4, 6, 8, 10, 12, 18]"
      ]
     },
     "execution_count": 13,
     "metadata": {},
     "output_type": "execute_result"
    }
   ],
   "source": [
    "#One liner | list comprehension (mengambil sebagian)\n",
    "list_angka = [1,2,3,4,5,6,7,8,9,10, 12, 13, 15, 18]\n",
    "\n",
    "list_genap = [i for i in list_angka if i%2 == 0]\n",
    "list_genap"
   ]
  },
  {
   "cell_type": "code",
   "execution_count": 21,
   "metadata": {},
   "outputs": [
    {
     "data": {
      "text/plain": [
       "[1, 3, 5, 7, 9]"
      ]
     },
     "execution_count": 21,
     "metadata": {},
     "output_type": "execute_result"
    }
   ],
   "source": [
    "#One liner | list comprehension (mengambil sebagian)\n",
    "list_angka = [1,2,3,4,5,6,7,8,9,10]\n",
    "\n",
    "list_genap = [i for i in list_angka if i%2 != 0]\n",
    "list_genap"
   ]
  },
  {
   "cell_type": "markdown",
   "metadata": {},
   "source": [
    "### Iterasi di dalam iterasi pada konteks List"
   ]
  },
  {
   "cell_type": "code",
   "execution_count": 23,
   "metadata": {},
   "outputs": [
    {
     "data": {
      "text/plain": [
       "['Fashion-Makanan',\n",
       " 'Fashion-Handphone',\n",
       " 'Fashion-Sepeda',\n",
       " 'Fashion-Rumah Tangga',\n",
       " 'Makanan-Fashion',\n",
       " 'Makanan-Handphone',\n",
       " 'Makanan-Sepeda',\n",
       " 'Makanan-Rumah Tangga',\n",
       " 'Handphone-Fashion',\n",
       " 'Handphone-Makanan',\n",
       " 'Handphone-Sepeda',\n",
       " 'Handphone-Rumah Tangga',\n",
       " 'Sepeda-Fashion',\n",
       " 'Sepeda-Makanan',\n",
       " 'Sepeda-Handphone',\n",
       " 'Sepeda-Rumah Tangga',\n",
       " 'Rumah Tangga-Fashion',\n",
       " 'Rumah Tangga-Makanan',\n",
       " 'Rumah Tangga-Handphone',\n",
       " 'Rumah Tangga-Sepeda']"
      ]
     },
     "execution_count": 23,
     "metadata": {},
     "output_type": "execute_result"
    }
   ],
   "source": [
    "list_category = ['Fashion', 'Makanan', 'Handphone', 'Sepeda', 'Rumah Tangga']\n",
    "bundling_list = []\n",
    "\n",
    "for i in list_category:\n",
    "    category1 = i #category pertama\n",
    "    for y in list_category:\n",
    "        if i != y: #pengecekan beda category\n",
    "            category2 = y #category kedua\n",
    "            bundling = i + '-' +y\n",
    "            bundling_list.append(bundling)\n",
    "        \n",
    "bundling_list"
   ]
  },
  {
   "cell_type": "markdown",
   "metadata": {},
   "source": [
    "### While Loop pada List"
   ]
  },
  {
   "cell_type": "code",
   "execution_count": 14,
   "metadata": {},
   "outputs": [
    {
     "name": "stdout",
     "output_type": "stream",
     "text": [
      "1\n",
      "2\n",
      "3\n",
      "4\n",
      "5\n",
      "6\n",
      "7\n",
      "8\n",
      "9\n",
      "10\n"
     ]
    }
   ],
   "source": [
    "list_angka = [1,2,3,4,5,6,7,8,9,10]\n",
    "\n",
    "i = 0 #initiate variable\n",
    "while i < len(list_angka):\n",
    "    print(list_angka[i])\n",
    "    i += 1 "
   ]
  },
  {
   "cell_type": "code",
   "execution_count": 1,
   "metadata": {},
   "outputs": [
    {
     "name": "stdout",
     "output_type": "stream",
     "text": [
      "Fashion\n",
      "Buku\n",
      "Makanan\n",
      "Sepeda\n",
      "Komputer\n"
     ]
    }
   ],
   "source": [
    "list_category = ['Fashion', 'Buku', 'Makanan', 'Sepeda', 'Komputer']\n",
    "\n",
    "i = 0 #initiate\n",
    "while i < len(list_category):\n",
    "    print(list_category[i])\n",
    "    i += 1 # i=i+1 "
   ]
  },
  {
   "cell_type": "markdown",
   "metadata": {},
   "source": [
    "### Mini Quiz | Challenge Time #2"
   ]
  },
  {
   "cell_type": "markdown",
   "metadata": {},
   "source": [
    "Berikut adalah list total order customer Rakamin Store <br>\n",
    "\n",
    "list_total_order = [10, 2, 18, 30, 56, 12, 8, 20, 45, 60, 10, 23, 3]\n",
    "\n",
    "Tentukan ada berapa banyak customer yang memiliki nilai order diatas rata-rata customer Rakamin Store! Gunakan cara for atau while"
   ]
  },
  {
   "cell_type": "code",
   "execution_count": 25,
   "metadata": {},
   "outputs": [],
   "source": [
    "#Challenge Time #2\n",
    "list_total_order = [10, 2, 18, 30, 56, 12, 8, 20, 45, 60, 10, 23, 3]\n",
    "    \n",
    "# print('Total Customer lebih dari rata2 adalah',n_fit)"
   ]
  },
  {
   "cell_type": "markdown",
   "metadata": {},
   "source": [
    "## Iterasi Dictionary"
   ]
  },
  {
   "cell_type": "markdown",
   "metadata": {},
   "source": [
    "### Memanggil key pada Dictionary"
   ]
  },
  {
   "cell_type": "code",
   "execution_count": 28,
   "metadata": {},
   "outputs": [
    {
     "name": "stdout",
     "output_type": "stream",
     "text": [
      "sellerA\n",
      "sellerB\n",
      "sellerC\n",
      "sellerD\n",
      "sellerE\n",
      "sellerF\n"
     ]
    }
   ],
   "source": [
    "seller_kategori = {'sellerA':['Fashion'],\n",
    "                  'sellerB':['Fashion', 'Elektronik'],\n",
    "                  'sellerC':['Perabotan', 'Buku'],\n",
    "                  'sellerD':['Elektronik'],\n",
    "                  'sellerE':['Fashion'],\n",
    "                  'sellerF':['Perabotan', 'Elektronik']}\n",
    "\n",
    "for i in seller_kategori:\n",
    "    print(i) #key pada dictionary"
   ]
  },
  {
   "cell_type": "markdown",
   "metadata": {},
   "source": [
    "### Memanggil value pada Dictionary"
   ]
  },
  {
   "cell_type": "code",
   "execution_count": 29,
   "metadata": {},
   "outputs": [
    {
     "name": "stdout",
     "output_type": "stream",
     "text": [
      "['Fashion']\n",
      "['Fashion', 'Elektronik']\n",
      "['Perabotan', 'Buku']\n",
      "['Elektronik']\n",
      "['Fashion']\n",
      "['Perabotan', 'Elektronik']\n"
     ]
    }
   ],
   "source": [
    "for i in seller_kategori:\n",
    "    print(seller_kategori[i])"
   ]
  },
  {
   "cell_type": "markdown",
   "metadata": {},
   "source": [
    "### Memanggil key dan value sekaligus pada Dictionary"
   ]
  },
  {
   "cell_type": "code",
   "execution_count": 30,
   "metadata": {},
   "outputs": [
    {
     "name": "stdout",
     "output_type": "stream",
     "text": [
      "('sellerA', ['Fashion'])\n",
      "('sellerB', ['Fashion', 'Elektronik'])\n",
      "('sellerC', ['Perabotan', 'Buku'])\n",
      "('sellerD', ['Elektronik'])\n",
      "('sellerE', ['Fashion'])\n",
      "('sellerF', ['Perabotan', 'Elektronik'])\n"
     ]
    }
   ],
   "source": [
    "# memanggil key dan value sekaligus\n",
    "for i in seller_kategori.items():\n",
    "    print(i) #berupa tuple"
   ]
  },
  {
   "cell_type": "code",
   "execution_count": 31,
   "metadata": {},
   "outputs": [
    {
     "name": "stdout",
     "output_type": "stream",
     "text": [
      "Nilai Key sellerA dan value adalah ['Fashion']\n",
      "Nilai Key sellerB dan value adalah ['Fashion', 'Elektronik']\n",
      "Nilai Key sellerC dan value adalah ['Perabotan', 'Buku']\n",
      "Nilai Key sellerD dan value adalah ['Elektronik']\n",
      "Nilai Key sellerE dan value adalah ['Fashion']\n",
      "Nilai Key sellerF dan value adalah ['Perabotan', 'Elektronik']\n"
     ]
    }
   ],
   "source": [
    "# memanggil key dan value sekaligus\n",
    "for key, value in seller_kategori.items():\n",
    "    print('Nilai Key', key, 'dan value adalah', value) #berupa tuple"
   ]
  },
  {
   "cell_type": "markdown",
   "metadata": {},
   "source": [
    "### Membuat Dictionary Baru pada For Loop"
   ]
  },
  {
   "cell_type": "code",
   "execution_count": 32,
   "metadata": {},
   "outputs": [
    {
     "name": "stdout",
     "output_type": "stream",
     "text": [
      "{'sellerC': ['Perabotan', 'Buku'], 'sellerF': ['Perabotan', 'Elektronik']}\n"
     ]
    }
   ],
   "source": [
    "new_dict = {} #membuat dict kosong\n",
    "\n",
    "for key, value in seller_kategori.items():\n",
    "    if 'Perabotan' in value: #check\n",
    "        new_dict.update({key:value}) #menggunakan fungsi update\n",
    "        \n",
    "print(new_dict)"
   ]
  },
  {
   "cell_type": "markdown",
   "metadata": {},
   "source": [
    "### Mini Quiz | Challenge Time #3"
   ]
  },
  {
   "cell_type": "markdown",
   "metadata": {},
   "source": [
    "Dari dictionary seller_kategori, buatlah variable dictionary baru (new_seller) yang hanya berisi seller yang menjual <b>produk kategori fashion!"
   ]
  },
  {
   "cell_type": "code",
   "execution_count": 26,
   "metadata": {},
   "outputs": [],
   "source": [
    "#challenge Time #3\n",
    "seller_kategori = {'sellerA':['Fashion'],\n",
    "                  'sellerB':['Fashion', 'Elektronik'],\n",
    "                  'sellerC':['Perabotan', 'Buku'],\n",
    "                  'sellerD':['Elektronik'],\n",
    "                  'sellerE':['Fashion'],\n",
    "                  'sellerF':['Perabotan', 'Elektronik']}\n",
    "\n",
    "# print(new_seller)"
   ]
  },
  {
   "cell_type": "markdown",
   "metadata": {},
   "source": [
    "## Iterasi Dataframe"
   ]
  },
  {
   "cell_type": "code",
   "execution_count": 34,
   "metadata": {},
   "outputs": [
    {
     "data": {
      "text/html": [
       "<div>\n",
       "<style scoped>\n",
       "    .dataframe tbody tr th:only-of-type {\n",
       "        vertical-align: middle;\n",
       "    }\n",
       "\n",
       "    .dataframe tbody tr th {\n",
       "        vertical-align: top;\n",
       "    }\n",
       "\n",
       "    .dataframe thead th {\n",
       "        text-align: right;\n",
       "    }\n",
       "</style>\n",
       "<table border=\"1\" class=\"dataframe\">\n",
       "  <thead>\n",
       "    <tr style=\"text-align: right;\">\n",
       "      <th></th>\n",
       "      <th>order_month</th>\n",
       "      <th>full_name</th>\n",
       "      <th>user_id</th>\n",
       "      <th>phone</th>\n",
       "      <th>city</th>\n",
       "      <th>province</th>\n",
       "      <th>email</th>\n",
       "      <th>total_order</th>\n",
       "      <th>total_gmv</th>\n",
       "      <th>total_visit</th>\n",
       "    </tr>\n",
       "  </thead>\n",
       "  <tbody>\n",
       "    <tr>\n",
       "      <th>332</th>\n",
       "      <td>2022-06-01</td>\n",
       "      <td>Faruq Adi</td>\n",
       "      <td>10000030</td>\n",
       "      <td>628567812319</td>\n",
       "      <td>Makassar</td>\n",
       "      <td>Sulawesi Selatan</td>\n",
       "      <td>faruq@yahoo.com</td>\n",
       "      <td>201</td>\n",
       "      <td>5490000</td>\n",
       "      <td>773</td>\n",
       "    </tr>\n",
       "    <tr>\n",
       "      <th>333</th>\n",
       "      <td>2022-06-01</td>\n",
       "      <td>Abrar Adi</td>\n",
       "      <td>10000053</td>\n",
       "      <td>628223411218</td>\n",
       "      <td>Surabaya</td>\n",
       "      <td>Jawa Timur</td>\n",
       "      <td>abrar.adi@yahoo.co.id</td>\n",
       "      <td>110</td>\n",
       "      <td>2987500</td>\n",
       "      <td>276</td>\n",
       "    </tr>\n",
       "    <tr>\n",
       "      <th>334</th>\n",
       "      <td>2022-06-01</td>\n",
       "      <td>Johan Imawan</td>\n",
       "      <td>10000054</td>\n",
       "      <td>628223412323</td>\n",
       "      <td>Balikpapan</td>\n",
       "      <td>Kalimantan Timur</td>\n",
       "      <td>johan.imawan@yahoo.com</td>\n",
       "      <td>95</td>\n",
       "      <td>2705000</td>\n",
       "      <td>258</td>\n",
       "    </tr>\n",
       "    <tr>\n",
       "      <th>335</th>\n",
       "      <td>2022-06-01</td>\n",
       "      <td>Muhammad Ammar</td>\n",
       "      <td>10000055</td>\n",
       "      <td>628223412111</td>\n",
       "      <td>Surabaya</td>\n",
       "      <td>Jawa Timur</td>\n",
       "      <td>muh.ammar@gmail.com</td>\n",
       "      <td>30</td>\n",
       "      <td>760000</td>\n",
       "      <td>103</td>\n",
       "    </tr>\n",
       "    <tr>\n",
       "      <th>336</th>\n",
       "      <td>2022-05-01</td>\n",
       "      <td>Dodo Putro Aji</td>\n",
       "      <td>10000023</td>\n",
       "      <td>628567812312</td>\n",
       "      <td>Surabaya</td>\n",
       "      <td>Jawa Timur</td>\n",
       "      <td>dodo@gmail.com</td>\n",
       "      <td>15</td>\n",
       "      <td>605000</td>\n",
       "      <td>83</td>\n",
       "    </tr>\n",
       "  </tbody>\n",
       "</table>\n",
       "</div>"
      ],
      "text/plain": [
       "    order_month       full_name   user_id         phone        city  \\\n",
       "332  2022-06-01       Faruq Adi  10000030  628567812319    Makassar   \n",
       "333  2022-06-01       Abrar Adi  10000053  628223411218    Surabaya   \n",
       "334  2022-06-01    Johan Imawan  10000054  628223412323  Balikpapan   \n",
       "335  2022-06-01  Muhammad Ammar  10000055  628223412111    Surabaya   \n",
       "336  2022-05-01  Dodo Putro Aji  10000023  628567812312    Surabaya   \n",
       "\n",
       "             province                   email  total_order  total_gmv  \\\n",
       "332  Sulawesi Selatan         faruq@yahoo.com          201    5490000   \n",
       "333        Jawa Timur   abrar.adi@yahoo.co.id          110    2987500   \n",
       "334  Kalimantan Timur  johan.imawan@yahoo.com           95    2705000   \n",
       "335        Jawa Timur     muh.ammar@gmail.com           30     760000   \n",
       "336        Jawa Timur          dodo@gmail.com           15     605000   \n",
       "\n",
       "     total_visit  \n",
       "332          773  \n",
       "333          276  \n",
       "334          258  \n",
       "335          103  \n",
       "336           83  "
      ]
     },
     "execution_count": 34,
     "metadata": {},
     "output_type": "execute_result"
    }
   ],
   "source": [
    "import pandas as pd\n",
    "pd.options.display.float_format = '{:,.0f}'.format #formating float\n",
    "\n",
    "df = pd.read_csv('monthly_rakamin_customer_order.csv')\n",
    "df.tail()"
   ]
  },
  {
   "cell_type": "markdown",
   "metadata": {},
   "source": [
    "### Iterasi kolom pada dataframe"
   ]
  },
  {
   "cell_type": "code",
   "execution_count": 35,
   "metadata": {},
   "outputs": [
    {
     "name": "stdout",
     "output_type": "stream",
     "text": [
      "order_month\n",
      "full_name\n",
      "user_id\n",
      "phone\n",
      "city\n",
      "province\n",
      "email\n",
      "total_order\n",
      "total_gmv\n",
      "total_visit\n"
     ]
    }
   ],
   "source": [
    "#mendapatkan nama kolom \n",
    "for i in df:\n",
    "    print(i) #nilai i = nama kolom"
   ]
  },
  {
   "cell_type": "markdown",
   "metadata": {},
   "source": [
    "### Iterasi value pada suatu kolom dataframe"
   ]
  },
  {
   "cell_type": "code",
   "execution_count": 36,
   "metadata": {},
   "outputs": [
    {
     "name": "stdout",
     "output_type": "stream",
     "text": [
      "Ahmad Budiman\n",
      "Azzam Haqq\n",
      "Amrina Putri\n",
      "Aan Utama\n",
      "Adam Adi\n",
      "Budi Utomo\n",
      "Bayu Aji\n",
      "Bila Syahputri\n",
      "Chika Ayu\n",
      "Cantika Putri Rahayu\n"
     ]
    }
   ],
   "source": [
    "#mendapatkan nilai setiap baris pada suatu kolom tertentu\n",
    "for i in df[:10]['full_name']: #dibatasi 10 teratas saja sebagai contoh\n",
    "    print(i) #nilai i = full name setiap baris"
   ]
  },
  {
   "cell_type": "markdown",
   "metadata": {},
   "source": [
    "### Iterasi value beberapa kolom beserta index"
   ]
  },
  {
   "cell_type": "code",
   "execution_count": 37,
   "metadata": {},
   "outputs": [
    {
     "name": "stdout",
     "output_type": "stream",
     "text": [
      "0 10000011 Jakarta Pusat\n",
      "1 10000012 Surabaya\n",
      "2 10000013 Jakarta Pusat\n",
      "3 10000014 Medan\n",
      "4 10000015 Jakarta Timur\n",
      "5 10000016 Bandung\n",
      "6 10000017 Semarang\n",
      "7 10000018 Bandung\n",
      "8 10000019 Semarang\n",
      "9 10000020 Bandung\n"
     ]
    }
   ],
   "source": [
    "for index, kolom in df[:10].iterrows(): #dibatasi 10 teratas saja sebagai contoh\n",
    "    user_id = kolom['user_id'] #mendapatkan value kolom user_id\n",
    "    kota = kolom['city'] #mendapatkan value kolom city\n",
    "    print(index, user_id, kota)"
   ]
  },
  {
   "cell_type": "markdown",
   "metadata": {},
   "source": [
    "### Membuat kolom baru dengan iterasi dataframe"
   ]
  },
  {
   "cell_type": "code",
   "execution_count": 38,
   "metadata": {},
   "outputs": [
    {
     "data": {
      "text/html": [
       "<div>\n",
       "<style scoped>\n",
       "    .dataframe tbody tr th:only-of-type {\n",
       "        vertical-align: middle;\n",
       "    }\n",
       "\n",
       "    .dataframe tbody tr th {\n",
       "        vertical-align: top;\n",
       "    }\n",
       "\n",
       "    .dataframe thead th {\n",
       "        text-align: right;\n",
       "    }\n",
       "</style>\n",
       "<table border=\"1\" class=\"dataframe\">\n",
       "  <thead>\n",
       "    <tr style=\"text-align: right;\">\n",
       "      <th></th>\n",
       "      <th>order_month</th>\n",
       "      <th>full_name</th>\n",
       "      <th>user_id</th>\n",
       "      <th>phone</th>\n",
       "      <th>city</th>\n",
       "      <th>province</th>\n",
       "      <th>email</th>\n",
       "      <th>total_order</th>\n",
       "      <th>total_gmv</th>\n",
       "      <th>total_visit</th>\n",
       "      <th>provider_phone</th>\n",
       "    </tr>\n",
       "  </thead>\n",
       "  <tbody>\n",
       "    <tr>\n",
       "      <th>7</th>\n",
       "      <td>2018-02-01</td>\n",
       "      <td>Bila Syahputri</td>\n",
       "      <td>10000018</td>\n",
       "      <td>628785222218</td>\n",
       "      <td>Bandung</td>\n",
       "      <td>Jawa Barat</td>\n",
       "      <td>bila@yahoo.com</td>\n",
       "      <td>195</td>\n",
       "      <td>5362500</td>\n",
       "      <td>550</td>\n",
       "      <td>XL</td>\n",
       "    </tr>\n",
       "    <tr>\n",
       "      <th>8</th>\n",
       "      <td>2018-02-01</td>\n",
       "      <td>Chika Ayu</td>\n",
       "      <td>10000019</td>\n",
       "      <td>628785222219</td>\n",
       "      <td>Semarang</td>\n",
       "      <td>Jawa Tengah</td>\n",
       "      <td>chika@gmail.com</td>\n",
       "      <td>146</td>\n",
       "      <td>4015000</td>\n",
       "      <td>283</td>\n",
       "      <td>XL</td>\n",
       "    </tr>\n",
       "    <tr>\n",
       "      <th>9</th>\n",
       "      <td>2018-02-01</td>\n",
       "      <td>Cantika Putri Rahayu</td>\n",
       "      <td>10000020</td>\n",
       "      <td>628785222220</td>\n",
       "      <td>Bandung</td>\n",
       "      <td>Jawa Barat</td>\n",
       "      <td>cantika@gmail.co.id</td>\n",
       "      <td>21</td>\n",
       "      <td>577500</td>\n",
       "      <td>64</td>\n",
       "      <td>XL</td>\n",
       "    </tr>\n",
       "    <tr>\n",
       "      <th>10</th>\n",
       "      <td>2018-02-01</td>\n",
       "      <td>Dimas Aji</td>\n",
       "      <td>10000021</td>\n",
       "      <td>628785222221</td>\n",
       "      <td>Semarang</td>\n",
       "      <td>Jawa Tengah</td>\n",
       "      <td>dimas@yahoo.co.id</td>\n",
       "      <td>153</td>\n",
       "      <td>4207500</td>\n",
       "      <td>609</td>\n",
       "      <td>XL</td>\n",
       "    </tr>\n",
       "    <tr>\n",
       "      <th>11</th>\n",
       "      <td>2018-02-01</td>\n",
       "      <td>Dika Mulya</td>\n",
       "      <td>10000022</td>\n",
       "      <td>628567812311</td>\n",
       "      <td>Palembang</td>\n",
       "      <td>Sumatra Selatan</td>\n",
       "      <td>dika@yahoo.com</td>\n",
       "      <td>88</td>\n",
       "      <td>2420000</td>\n",
       "      <td>294</td>\n",
       "      <td>Indosat</td>\n",
       "    </tr>\n",
       "    <tr>\n",
       "      <th>12</th>\n",
       "      <td>2018-03-01</td>\n",
       "      <td>Dodo Putro Aji</td>\n",
       "      <td>10000023</td>\n",
       "      <td>628567812312</td>\n",
       "      <td>Surabaya</td>\n",
       "      <td>Jawa Timur</td>\n",
       "      <td>dodo@gmail.com</td>\n",
       "      <td>186</td>\n",
       "      <td>5115000</td>\n",
       "      <td>731</td>\n",
       "      <td>Indosat</td>\n",
       "    </tr>\n",
       "    <tr>\n",
       "      <th>13</th>\n",
       "      <td>2018-03-01</td>\n",
       "      <td>Dina Ayu</td>\n",
       "      <td>10000024</td>\n",
       "      <td>628567812313</td>\n",
       "      <td>Palembang</td>\n",
       "      <td>Sumatra Selatan</td>\n",
       "      <td>dina@gmail.co.id</td>\n",
       "      <td>35</td>\n",
       "      <td>962500</td>\n",
       "      <td>63</td>\n",
       "      <td>Indosat</td>\n",
       "    </tr>\n",
       "  </tbody>\n",
       "</table>\n",
       "</div>"
      ],
      "text/plain": [
       "   order_month             full_name   user_id         phone       city  \\\n",
       "7   2018-02-01        Bila Syahputri  10000018  628785222218    Bandung   \n",
       "8   2018-02-01             Chika Ayu  10000019  628785222219   Semarang   \n",
       "9   2018-02-01  Cantika Putri Rahayu  10000020  628785222220    Bandung   \n",
       "10  2018-02-01             Dimas Aji  10000021  628785222221   Semarang   \n",
       "11  2018-02-01            Dika Mulya  10000022  628567812311  Palembang   \n",
       "12  2018-03-01        Dodo Putro Aji  10000023  628567812312   Surabaya   \n",
       "13  2018-03-01              Dina Ayu  10000024  628567812313  Palembang   \n",
       "\n",
       "           province                email  total_order  total_gmv  total_visit  \\\n",
       "7        Jawa Barat       bila@yahoo.com          195    5362500          550   \n",
       "8       Jawa Tengah      chika@gmail.com          146    4015000          283   \n",
       "9        Jawa Barat  cantika@gmail.co.id           21     577500           64   \n",
       "10      Jawa Tengah    dimas@yahoo.co.id          153    4207500          609   \n",
       "11  Sumatra Selatan       dika@yahoo.com           88    2420000          294   \n",
       "12       Jawa Timur       dodo@gmail.com          186    5115000          731   \n",
       "13  Sumatra Selatan     dina@gmail.co.id           35     962500           63   \n",
       "\n",
       "   provider_phone  \n",
       "7              XL  \n",
       "8              XL  \n",
       "9              XL  \n",
       "10             XL  \n",
       "11        Indosat  \n",
       "12        Indosat  \n",
       "13        Indosat  "
      ]
     },
     "execution_count": 38,
     "metadata": {},
     "output_type": "execute_result"
    }
   ],
   "source": [
    "#membuat sebuah list kosong\n",
    "provider_list = []\n",
    "\n",
    "#iterasi dataframe dengan iterrows\n",
    "for index, kolom in df.iterrows():\n",
    "    prefix = str(kolom['phone'])[:5] #get prefix\n",
    "    \n",
    "    #conditional statement\n",
    "    if prefix == '62878':\n",
    "        provider = 'XL'\n",
    "    elif prefix == '62856':\n",
    "        provider = 'Indosat'\n",
    "    elif prefix == '62822':\n",
    "        provider = 'Telkomsel'\n",
    "    elif prefix == '62896':\n",
    "        provider = 'Theree'\n",
    "    else:\n",
    "        provider = 'Others'\n",
    "        \n",
    "    #append setiap iterasi nilai provider\n",
    "    provider_list.append(provider)\n",
    "    \n",
    "#menginisiasi kolom baru\n",
    "df['provider_phone'] = provider_list\n",
    "\n",
    "#show data frame\n",
    "df[7: 14]"
   ]
  },
  {
   "cell_type": "code",
   "execution_count": 45,
   "metadata": {},
   "outputs": [
    {
     "name": "stdout",
     "output_type": "stream",
     "text": [
      "['customer_rakamin_week1.csv', 'customer_rakamin_week2.csv', 'customer_rakamin_week3.csv']\n"
     ]
    }
   ],
   "source": [
    "import glob\n",
    "import pandas as pd\n",
    "\n",
    "# get file name with start with customer_rakamin_week\n",
    "files = glob.glob(\"customer_rakamin_week*\")\n",
    "print(files)"
   ]
  },
  {
   "cell_type": "code",
   "execution_count": 48,
   "metadata": {},
   "outputs": [],
   "source": [
    "df_all = pd.DataFrame() #dataframe kosong\n",
    "\n",
    "for i in files:\n",
    "    df_read = pd.read_csv(i) #read csv setiap file\n",
    "    df_all = df_all.append(df_read) #append"
   ]
  },
  {
   "cell_type": "code",
   "execution_count": 49,
   "metadata": {},
   "outputs": [
    {
     "data": {
      "text/html": [
       "<div>\n",
       "<style scoped>\n",
       "    .dataframe tbody tr th:only-of-type {\n",
       "        vertical-align: middle;\n",
       "    }\n",
       "\n",
       "    .dataframe tbody tr th {\n",
       "        vertical-align: top;\n",
       "    }\n",
       "\n",
       "    .dataframe thead th {\n",
       "        text-align: right;\n",
       "    }\n",
       "</style>\n",
       "<table border=\"1\" class=\"dataframe\">\n",
       "  <thead>\n",
       "    <tr style=\"text-align: right;\">\n",
       "      <th></th>\n",
       "      <th>week</th>\n",
       "      <th>province</th>\n",
       "      <th>total_order</th>\n",
       "    </tr>\n",
       "  </thead>\n",
       "  <tbody>\n",
       "    <tr>\n",
       "      <th>0</th>\n",
       "      <td>1</td>\n",
       "      <td>DKI Jakarta</td>\n",
       "      <td>1200</td>\n",
       "    </tr>\n",
       "    <tr>\n",
       "      <th>1</th>\n",
       "      <td>1</td>\n",
       "      <td>Banten</td>\n",
       "      <td>900</td>\n",
       "    </tr>\n",
       "    <tr>\n",
       "      <th>2</th>\n",
       "      <td>1</td>\n",
       "      <td>Jawa Barat</td>\n",
       "      <td>1050</td>\n",
       "    </tr>\n",
       "    <tr>\n",
       "      <th>3</th>\n",
       "      <td>1</td>\n",
       "      <td>Jawa Tengah</td>\n",
       "      <td>850</td>\n",
       "    </tr>\n",
       "    <tr>\n",
       "      <th>4</th>\n",
       "      <td>1</td>\n",
       "      <td>DI Yogyakarta</td>\n",
       "      <td>450</td>\n",
       "    </tr>\n",
       "    <tr>\n",
       "      <th>5</th>\n",
       "      <td>1</td>\n",
       "      <td>Jawa Timur</td>\n",
       "      <td>2000</td>\n",
       "    </tr>\n",
       "    <tr>\n",
       "      <th>0</th>\n",
       "      <td>2</td>\n",
       "      <td>DKI Jakarta</td>\n",
       "      <td>950</td>\n",
       "    </tr>\n",
       "    <tr>\n",
       "      <th>1</th>\n",
       "      <td>2</td>\n",
       "      <td>Banten</td>\n",
       "      <td>650</td>\n",
       "    </tr>\n",
       "    <tr>\n",
       "      <th>2</th>\n",
       "      <td>2</td>\n",
       "      <td>Jawa Barat</td>\n",
       "      <td>800</td>\n",
       "    </tr>\n",
       "    <tr>\n",
       "      <th>3</th>\n",
       "      <td>2</td>\n",
       "      <td>Jawa Tengah</td>\n",
       "      <td>600</td>\n",
       "    </tr>\n",
       "    <tr>\n",
       "      <th>4</th>\n",
       "      <td>2</td>\n",
       "      <td>DI Yogyakarta</td>\n",
       "      <td>200</td>\n",
       "    </tr>\n",
       "    <tr>\n",
       "      <th>5</th>\n",
       "      <td>2</td>\n",
       "      <td>Jawa Timur</td>\n",
       "      <td>1750</td>\n",
       "    </tr>\n",
       "    <tr>\n",
       "      <th>6</th>\n",
       "      <td>2</td>\n",
       "      <td>Sumatra Barat</td>\n",
       "      <td>170</td>\n",
       "    </tr>\n",
       "    <tr>\n",
       "      <th>0</th>\n",
       "      <td>3</td>\n",
       "      <td>DKI Jakarta</td>\n",
       "      <td>995</td>\n",
       "    </tr>\n",
       "    <tr>\n",
       "      <th>1</th>\n",
       "      <td>3</td>\n",
       "      <td>Banten</td>\n",
       "      <td>695</td>\n",
       "    </tr>\n",
       "    <tr>\n",
       "      <th>2</th>\n",
       "      <td>3</td>\n",
       "      <td>Jawa Barat</td>\n",
       "      <td>845</td>\n",
       "    </tr>\n",
       "    <tr>\n",
       "      <th>3</th>\n",
       "      <td>3</td>\n",
       "      <td>Jawa Tengah</td>\n",
       "      <td>575</td>\n",
       "    </tr>\n",
       "    <tr>\n",
       "      <th>4</th>\n",
       "      <td>3</td>\n",
       "      <td>DI Yogyakarta</td>\n",
       "      <td>245</td>\n",
       "    </tr>\n",
       "    <tr>\n",
       "      <th>5</th>\n",
       "      <td>3</td>\n",
       "      <td>Jawa Timur</td>\n",
       "      <td>1725</td>\n",
       "    </tr>\n",
       "    <tr>\n",
       "      <th>6</th>\n",
       "      <td>3</td>\n",
       "      <td>Sumatra Barat</td>\n",
       "      <td>215</td>\n",
       "    </tr>\n",
       "    <tr>\n",
       "      <th>7</th>\n",
       "      <td>3</td>\n",
       "      <td>Bali</td>\n",
       "      <td>860</td>\n",
       "    </tr>\n",
       "  </tbody>\n",
       "</table>\n",
       "</div>"
      ],
      "text/plain": [
       "   week       province  total_order\n",
       "0     1    DKI Jakarta         1200\n",
       "1     1         Banten          900\n",
       "2     1     Jawa Barat         1050\n",
       "3     1    Jawa Tengah          850\n",
       "4     1  DI Yogyakarta          450\n",
       "5     1     Jawa Timur         2000\n",
       "0     2    DKI Jakarta          950\n",
       "1     2         Banten          650\n",
       "2     2     Jawa Barat          800\n",
       "3     2    Jawa Tengah          600\n",
       "4     2  DI Yogyakarta          200\n",
       "5     2     Jawa Timur         1750\n",
       "6     2  Sumatra Barat          170\n",
       "0     3    DKI Jakarta          995\n",
       "1     3         Banten          695\n",
       "2     3     Jawa Barat          845\n",
       "3     3    Jawa Tengah          575\n",
       "4     3  DI Yogyakarta          245\n",
       "5     3     Jawa Timur         1725\n",
       "6     3  Sumatra Barat          215\n",
       "7     3           Bali          860"
      ]
     },
     "execution_count": 49,
     "metadata": {},
     "output_type": "execute_result"
    }
   ],
   "source": [
    "df_all"
   ]
  },
  {
   "cell_type": "markdown",
   "metadata": {},
   "source": [
    "### Mini Quiz | Challenge Time #4"
   ]
  },
  {
   "cell_type": "markdown",
   "metadata": {},
   "source": [
    "Gunakan dataset <b>monthly_rakamin_customer_order!</b> Team bisnis memiliki rule, jika dalam sebulan\n",
    "\n",
    "- Total order bulanan customer > rata-rata total order bulanan semua customer di bulan tersebut (mean Order customer monthly)\n",
    "- Total GMV bulanan customer > rata-rata total GMV bulanan semua customer di bulan tersebut (mean GMV customer monthly)\n",
    "\n",
    "Maka keputusan bisnisnya user eligible untuk diberikan voucher discount. Ada berapa user yang menjadi user eligible pada bulan Maret 2022?\n",
    "\n",
    "<b>Hint: </b> Buat kolom mean_total_order_monthly dan mean_total_amount_monthly (Bisa dengan cara transform), kemudian lakukan iterrows"
   ]
  },
  {
   "cell_type": "code",
   "execution_count": 9,
   "metadata": {},
   "outputs": [],
   "source": [
    "#Challenge Time #4\n",
    "\n",
    "import pandas as pd\n",
    "import numpy as np\n",
    "\n",
    "pd.options.display.float_format = '{:,.0f}'.format #formating float"
   ]
  },
  {
   "cell_type": "code",
   "execution_count": 10,
   "metadata": {},
   "outputs": [
    {
     "data": {
      "text/html": [
       "<div>\n",
       "<style scoped>\n",
       "    .dataframe tbody tr th:only-of-type {\n",
       "        vertical-align: middle;\n",
       "    }\n",
       "\n",
       "    .dataframe tbody tr th {\n",
       "        vertical-align: top;\n",
       "    }\n",
       "\n",
       "    .dataframe thead th {\n",
       "        text-align: right;\n",
       "    }\n",
       "</style>\n",
       "<table border=\"1\" class=\"dataframe\">\n",
       "  <thead>\n",
       "    <tr style=\"text-align: right;\">\n",
       "      <th></th>\n",
       "      <th>order_month</th>\n",
       "      <th>full_name</th>\n",
       "      <th>user_id</th>\n",
       "      <th>phone</th>\n",
       "      <th>city</th>\n",
       "      <th>province</th>\n",
       "      <th>email</th>\n",
       "      <th>total_order</th>\n",
       "      <th>total_gmv</th>\n",
       "      <th>total_visit</th>\n",
       "    </tr>\n",
       "  </thead>\n",
       "  <tbody>\n",
       "    <tr>\n",
       "      <th>0</th>\n",
       "      <td>2018-01-01</td>\n",
       "      <td>Ahmad Budiman</td>\n",
       "      <td>10000011</td>\n",
       "      <td>628785222211</td>\n",
       "      <td>Jakarta Pusat</td>\n",
       "      <td>DKI Jakarta</td>\n",
       "      <td>ahmad@gmail.com</td>\n",
       "      <td>125</td>\n",
       "      <td>3490000</td>\n",
       "      <td>230</td>\n",
       "    </tr>\n",
       "    <tr>\n",
       "      <th>1</th>\n",
       "      <td>2018-01-01</td>\n",
       "      <td>Azzam Haqq</td>\n",
       "      <td>10000012</td>\n",
       "      <td>628785222212</td>\n",
       "      <td>Surabaya</td>\n",
       "      <td>Jawa Timur</td>\n",
       "      <td>azzam@gmail.co.id</td>\n",
       "      <td>173</td>\n",
       "      <td>4757500</td>\n",
       "      <td>304</td>\n",
       "    </tr>\n",
       "    <tr>\n",
       "      <th>2</th>\n",
       "      <td>2018-01-01</td>\n",
       "      <td>Amrina Putri</td>\n",
       "      <td>10000013</td>\n",
       "      <td>628785222213</td>\n",
       "      <td>Jakarta Pusat</td>\n",
       "      <td>DKI Jakarta</td>\n",
       "      <td>amrina@yahoo.co.id</td>\n",
       "      <td>20</td>\n",
       "      <td>550000</td>\n",
       "      <td>62</td>\n",
       "    </tr>\n",
       "    <tr>\n",
       "      <th>3</th>\n",
       "      <td>2018-01-01</td>\n",
       "      <td>Aan Utama</td>\n",
       "      <td>10000014</td>\n",
       "      <td>628785222214</td>\n",
       "      <td>Medan</td>\n",
       "      <td>Sumatra Utara</td>\n",
       "      <td>aan@yahoo.com</td>\n",
       "      <td>18</td>\n",
       "      <td>495000</td>\n",
       "      <td>100</td>\n",
       "    </tr>\n",
       "    <tr>\n",
       "      <th>4</th>\n",
       "      <td>2018-01-01</td>\n",
       "      <td>Adam Adi</td>\n",
       "      <td>10000015</td>\n",
       "      <td>628785222215</td>\n",
       "      <td>Jakarta Timur</td>\n",
       "      <td>DKI Jakarta</td>\n",
       "      <td>adam@gmail.com</td>\n",
       "      <td>159</td>\n",
       "      <td>4372500</td>\n",
       "      <td>524</td>\n",
       "    </tr>\n",
       "  </tbody>\n",
       "</table>\n",
       "</div>"
      ],
      "text/plain": [
       "  order_month      full_name   user_id         phone           city  \\\n",
       "0  2018-01-01  Ahmad Budiman  10000011  628785222211  Jakarta Pusat   \n",
       "1  2018-01-01     Azzam Haqq  10000012  628785222212       Surabaya   \n",
       "2  2018-01-01   Amrina Putri  10000013  628785222213  Jakarta Pusat   \n",
       "3  2018-01-01      Aan Utama  10000014  628785222214          Medan   \n",
       "4  2018-01-01       Adam Adi  10000015  628785222215  Jakarta Timur   \n",
       "\n",
       "        province               email  total_order  total_gmv  total_visit  \n",
       "0    DKI Jakarta     ahmad@gmail.com          125    3490000          230  \n",
       "1     Jawa Timur   azzam@gmail.co.id          173    4757500          304  \n",
       "2    DKI Jakarta  amrina@yahoo.co.id           20     550000           62  \n",
       "3  Sumatra Utara       aan@yahoo.com           18     495000          100  \n",
       "4    DKI Jakarta      adam@gmail.com          159    4372500          524  "
      ]
     },
     "execution_count": 10,
     "metadata": {},
     "output_type": "execute_result"
    }
   ],
   "source": [
    "df = pd.read_csv('monthly_rakamin_customer_order.csv')\n",
    "df.head()"
   ]
  },
  {
   "cell_type": "markdown",
   "metadata": {},
   "source": [
    "## Tetap Semangat Belajar Python. Thank You!"
   ]
  }
 ],
 "metadata": {
  "kernelspec": {
   "display_name": "Python 3",
   "language": "python",
   "name": "python3"
  },
  "language_info": {
   "codemirror_mode": {
    "name": "ipython",
    "version": 3
   },
   "file_extension": ".py",
   "mimetype": "text/x-python",
   "name": "python",
   "nbconvert_exporter": "python",
   "pygments_lexer": "ipython3",
   "version": "3.8.3"
  },
  "toc": {
   "base_numbering": 1,
   "nav_menu": {},
   "number_sections": true,
   "sideBar": true,
   "skip_h1_title": false,
   "title_cell": "Table of Contents",
   "title_sidebar": "Contents",
   "toc_cell": false,
   "toc_position": {},
   "toc_section_display": true,
   "toc_window_display": true
  },
  "toc-autonumbering": true,
  "toc-showmarkdowntxt": false
 },
 "nbformat": 4,
 "nbformat_minor": 4
}
