{
 "cells": [
  {
   "cell_type": "markdown",
   "metadata": {
    "id": "zo9refjYqdIq"
   },
   "source": [
    "### Pengenalan Function"
   ]
  },
  {
   "cell_type": "markdown",
   "metadata": {
    "id": "aPMqyg9iqdIt"
   },
   "source": [
    "<b>created by</b> : Muhammad Ammar Fauzan | maf.fauzan@gmail.com"
   ]
  },
  {
   "cell_type": "markdown",
   "metadata": {
    "id": "3FofPwa2qdIu"
   },
   "source": [
    "#### Function Sederhana"
   ]
  },
  {
   "cell_type": "code",
   "execution_count": null,
   "metadata": {},
   "outputs": [],
   "source": [
    "#Contoh implementasi function\n",
    "def function_name(paremeter(s)):\n",
    "    <statement(s)>"
   ]
  },
  {
   "cell_type": "code",
   "execution_count": 1,
   "metadata": {
    "id": "exnvtQfZqdIu"
   },
   "outputs": [],
   "source": [
    "def penjumlahan(a, b):\n",
    "    hasil_jumlah = a+b #statement 1\n",
    "    print(hasil_jumlah) #statement 2"
   ]
  },
  {
   "cell_type": "code",
   "execution_count": 2,
   "metadata": {
    "id": "6_DU1sroqdIv",
    "outputId": "80799994-3bd4-443c-c440-3baebb4d36fd"
   },
   "outputs": [
    {
     "name": "stdout",
     "output_type": "stream",
     "text": [
      "10\n"
     ]
    }
   ],
   "source": [
    "penjumlahan(2, 8)"
   ]
  },
  {
   "cell_type": "markdown",
   "metadata": {
    "id": "QCVhMiNKqdIw"
   },
   "source": [
    "#### Function Sederhana dengan Return Value dan Parater"
   ]
  },
  {
   "cell_type": "code",
   "execution_count": 3,
   "metadata": {
    "id": "CH0Baol1qdIw",
    "outputId": "675a66f2-2104-410e-801d-78d236633da1"
   },
   "outputs": [],
   "source": [
    "def penjumlahan(a, b):\n",
    "    hasil_jumlah = a+b #statement 1\n",
    "    return hasil_jumlah #return statement"
   ]
  },
  {
   "cell_type": "code",
   "execution_count": 4,
   "metadata": {},
   "outputs": [
    {
     "data": {
      "text/plain": [
       "10"
      ]
     },
     "execution_count": 4,
     "metadata": {},
     "output_type": "execute_result"
    }
   ],
   "source": [
    "penjumlahan(2, 8)"
   ]
  },
  {
   "cell_type": "markdown",
   "metadata": {
    "id": "w227wv5NqdIw"
   },
   "source": [
    "#### Mengapa Butuh Function"
   ]
  },
  {
   "cell_type": "code",
   "execution_count": 5,
   "metadata": {
    "id": "rhCJDSa_qdIx",
    "outputId": "dbf0adf6-0b95-4d24-f196-b8a757d93244"
   },
   "outputs": [
    {
     "name": "stdout",
     "output_type": "stream",
     "text": [
      "5\n",
      "15\n",
      "10\n"
     ]
    }
   ],
   "source": [
    "def kalkulator_sederhana(metode, a, b): #membuat fungsi kalkulator sederhana dengan 2 parameter metode, a dan b\n",
    "    if metode == 'Penjumlahan':\n",
    "        hasil = a + b\n",
    "    elif metode == 'Pengurangan':\n",
    "        hasil = a - b\n",
    "    else:\n",
    "        hasil = 'Input salah / Metode tidak dikenali'\n",
    "    return hasil\n",
    "\n",
    "print(kalkulator_sederhana('Penjumlahan',2,3)) #kebutuhan 1\n",
    "print(kalkulator_sederhana('Penjumlahan',5,10)) #kebutuhan 2\n",
    "print(kalkulator_sederhana('Pengurangan',20,10)) #kebutuhan 3"
   ]
  },
  {
   "cell_type": "markdown",
   "metadata": {
    "id": "pVfCE4r6qdIx"
   },
   "source": [
    "#### Global dan Local Variabel"
   ]
  },
  {
   "cell_type": "code",
   "execution_count": 6,
   "metadata": {
    "id": "L51KmEVyqdIx",
    "outputId": "cf0c92a6-a37a-4f8c-97c2-482388e5957c"
   },
   "outputs": [
    {
     "name": "stdout",
     "output_type": "stream",
     "text": [
      "ini local variabel\n",
      "ini global variabel\n"
     ]
    }
   ],
   "source": [
    "x = 'ini global variabel'\n",
    "\n",
    "def belajar_global_local(x):\n",
    "    x = 'ini local variabel' #nilai x dirubah value nya\n",
    "    print(x)\n",
    "\n",
    "belajar_global_local(x) #function call\n",
    "print(x)"
   ]
  },
  {
   "cell_type": "code",
   "execution_count": 7,
   "metadata": {
    "id": "vqDdlZNdqdIy"
   },
   "outputs": [
    {
     "name": "stdout",
     "output_type": "stream",
     "text": [
      "Variabel a local 8\n",
      "Variabel a global 10\n"
     ]
    }
   ],
   "source": [
    "a = 10\n",
    "\n",
    "def pangkat(x, n):\n",
    "    a = x**n #nilai a adalah operasi x pangkat n\n",
    "    print('Variabel a local', a)\n",
    "    \n",
    "pangkat(2, 3)\n",
    "print('Variabel a global', a)"
   ]
  },
  {
   "cell_type": "code",
   "execution_count": 8,
   "metadata": {
    "id": "6-710M0oqdIy",
    "outputId": "7f061797-61b3-4036-9213-3c7ee3cbba3d"
   },
   "outputs": [],
   "source": [
    "hasil_bagi = 0\n",
    "\n",
    "def contoh_local_to_global(a, b):\n",
    "    global hasil_bagi #menjadikan variable local menjadi global\n",
    "    hasil_bagi = a/b\n",
    "    return hasil_bagi"
   ]
  },
  {
   "cell_type": "code",
   "execution_count": 9,
   "metadata": {},
   "outputs": [
    {
     "data": {
      "text/plain": [
       "4.0"
      ]
     },
     "execution_count": 9,
     "metadata": {},
     "output_type": "execute_result"
    }
   ],
   "source": [
    "contoh_local_to_global(8, 2)"
   ]
  },
  {
   "cell_type": "code",
   "execution_count": 10,
   "metadata": {},
   "outputs": [
    {
     "name": "stdout",
     "output_type": "stream",
     "text": [
      "4.0\n"
     ]
    }
   ],
   "source": [
    "print(hasil_bagi)"
   ]
  },
  {
   "cell_type": "markdown",
   "metadata": {
    "id": "KL8m1Su0qdIy"
   },
   "source": [
    "### Input Parameter Function "
   ]
  },
  {
   "cell_type": "markdown",
   "metadata": {
    "id": "stqoKWhoqdIy"
   },
   "source": [
    "#### Tanpa Parameter"
   ]
  },
  {
   "cell_type": "code",
   "execution_count": 3,
   "metadata": {
    "id": "955k79acqdIz",
    "outputId": "da9ffbf0-e771-4923-a3d8-5e7705581535"
   },
   "outputs": [
    {
     "name": "stdout",
     "output_type": "stream",
     "text": [
      "Hari ini tanggal 2022-08-21\n",
      "Kemarin tanggal 2022-08-20\n"
     ]
    }
   ],
   "source": [
    "from datetime import date\n",
    "from datetime import timedelta\n",
    "\n",
    "def get_yesterday(): #tidak ada param\n",
    "    today = date.today()\n",
    "    yesterday = today - timedelta(days = 1)\n",
    "    return yesterday \n",
    "    \n",
    "print('Hari ini tanggal',date.today())\n",
    "\n",
    "print('Kemarin tanggal',get_yesterday()) #tidak ada param"
   ]
  },
  {
   "cell_type": "markdown",
   "metadata": {
    "id": "FMAjyL-pqdIz"
   },
   "source": [
    "#### 2 Paramater"
   ]
  },
  {
   "cell_type": "code",
   "execution_count": 4,
   "metadata": {
    "id": "-EHdOqkBqdI0",
    "outputId": "8455f8f1-d5ad-4105-bb37-2b8e94bf5d18"
   },
   "outputs": [
    {
     "data": {
      "text/plain": [
       "9.0"
      ]
     },
     "execution_count": 4,
     "metadata": {},
     "output_type": "execute_result"
    }
   ],
   "source": [
    "def luas_segitiga(a, t): #membuat fungsi luas segitiga dengan 2 parameter a dan t\n",
    "    hasil = (a*t)/2 #melakukan operasi luas segita alas(a)*tinggi(t)*1/2\n",
    "    return hasil #mengerluarkan output variabel hasil \n",
    "\n",
    "luas_segitiga(6,3) #menginputkan 2 parameter, dimana a = 6 dan t = 3"
   ]
  },
  {
   "cell_type": "code",
   "execution_count": 5,
   "metadata": {},
   "outputs": [
    {
     "ename": "TypeError",
     "evalue": "luas_segitiga() missing 1 required positional argument: 't'",
     "output_type": "error",
     "traceback": [
      "\u001b[1;31m---------------------------------------------------------------------------\u001b[0m",
      "\u001b[1;31mTypeError\u001b[0m                                 Traceback (most recent call last)",
      "\u001b[1;32m<ipython-input-5-43950a6dc799>\u001b[0m in \u001b[0;36m<module>\u001b[1;34m\u001b[0m\n\u001b[1;32m----> 1\u001b[1;33m \u001b[0mluas_segitiga\u001b[0m\u001b[1;33m(\u001b[0m\u001b[1;36m6\u001b[0m\u001b[1;33m)\u001b[0m \u001b[1;31m#menginputkan 2 parameter, dimana a = 6 dan t = 3\u001b[0m\u001b[1;33m\u001b[0m\u001b[1;33m\u001b[0m\u001b[0m\n\u001b[0m",
      "\u001b[1;31mTypeError\u001b[0m: luas_segitiga() missing 1 required positional argument: 't'"
     ]
    }
   ],
   "source": [
    "luas_segitiga(6) #menginputkan 2 parameter, dimana a = 6 dan t = 3"
   ]
  },
  {
   "cell_type": "markdown",
   "metadata": {
    "id": "qKbFUvuZqdI0"
   },
   "source": [
    "#### Parameter Optional"
   ]
  },
  {
   "cell_type": "code",
   "execution_count": 6,
   "metadata": {
    "id": "1yZyILo3qdI2"
   },
   "outputs": [],
   "source": [
    "import pandas as pd"
   ]
  },
  {
   "cell_type": "code",
   "execution_count": 7,
   "metadata": {
    "id": "0i4wRlsVqdI2",
    "outputId": "50ff5f42-4dee-459b-c4e7-2edfb0851207",
    "scrolled": true
   },
   "outputs": [
    {
     "data": {
      "text/html": [
       "<div>\n",
       "<style scoped>\n",
       "    .dataframe tbody tr th:only-of-type {\n",
       "        vertical-align: middle;\n",
       "    }\n",
       "\n",
       "    .dataframe tbody tr th {\n",
       "        vertical-align: top;\n",
       "    }\n",
       "\n",
       "    .dataframe thead th {\n",
       "        text-align: right;\n",
       "    }\n",
       "</style>\n",
       "<table border=\"1\" class=\"dataframe\">\n",
       "  <thead>\n",
       "    <tr style=\"text-align: right;\">\n",
       "      <th></th>\n",
       "      <th>order_month</th>\n",
       "      <th>full_name</th>\n",
       "      <th>user_id</th>\n",
       "      <th>phone</th>\n",
       "      <th>city</th>\n",
       "      <th>province</th>\n",
       "      <th>email</th>\n",
       "      <th>total_order</th>\n",
       "      <th>total_gmv</th>\n",
       "      <th>total_visit</th>\n",
       "    </tr>\n",
       "  </thead>\n",
       "  <tbody>\n",
       "    <tr>\n",
       "      <th>0</th>\n",
       "      <td>2018-01-01</td>\n",
       "      <td>Ahmad Budiman</td>\n",
       "      <td>10000011</td>\n",
       "      <td>628785222211</td>\n",
       "      <td>Jakarta Pusat</td>\n",
       "      <td>DKI Jakarta</td>\n",
       "      <td>ahmad@gmail.com</td>\n",
       "      <td>125</td>\n",
       "      <td>3490000</td>\n",
       "      <td>230</td>\n",
       "    </tr>\n",
       "    <tr>\n",
       "      <th>1</th>\n",
       "      <td>2018-01-01</td>\n",
       "      <td>Azzam Haqq</td>\n",
       "      <td>10000012</td>\n",
       "      <td>628785222212</td>\n",
       "      <td>Surabaya</td>\n",
       "      <td>Jawa Timur</td>\n",
       "      <td>azzam@gmail.co.id</td>\n",
       "      <td>173</td>\n",
       "      <td>4757500</td>\n",
       "      <td>304</td>\n",
       "    </tr>\n",
       "    <tr>\n",
       "      <th>2</th>\n",
       "      <td>2018-01-01</td>\n",
       "      <td>Amrina Putri</td>\n",
       "      <td>10000013</td>\n",
       "      <td>628785222213</td>\n",
       "      <td>Jakarta Pusat</td>\n",
       "      <td>DKI Jakarta</td>\n",
       "      <td>amrina@yahoo.co.id</td>\n",
       "      <td>20</td>\n",
       "      <td>550000</td>\n",
       "      <td>62</td>\n",
       "    </tr>\n",
       "    <tr>\n",
       "      <th>3</th>\n",
       "      <td>2018-01-01</td>\n",
       "      <td>Aan Utama</td>\n",
       "      <td>10000014</td>\n",
       "      <td>628785222214</td>\n",
       "      <td>Medan</td>\n",
       "      <td>Sumatra Utara</td>\n",
       "      <td>aan@yahoo.com</td>\n",
       "      <td>18</td>\n",
       "      <td>495000</td>\n",
       "      <td>100</td>\n",
       "    </tr>\n",
       "    <tr>\n",
       "      <th>4</th>\n",
       "      <td>2018-01-01</td>\n",
       "      <td>Adam Adi</td>\n",
       "      <td>10000015</td>\n",
       "      <td>628785222215</td>\n",
       "      <td>Jakarta Timur</td>\n",
       "      <td>DKI Jakarta</td>\n",
       "      <td>adam@gmail.com</td>\n",
       "      <td>159</td>\n",
       "      <td>4372500</td>\n",
       "      <td>524</td>\n",
       "    </tr>\n",
       "  </tbody>\n",
       "</table>\n",
       "</div>"
      ],
      "text/plain": [
       "  order_month      full_name   user_id         phone           city  \\\n",
       "0  2018-01-01  Ahmad Budiman  10000011  628785222211  Jakarta Pusat   \n",
       "1  2018-01-01     Azzam Haqq  10000012  628785222212       Surabaya   \n",
       "2  2018-01-01   Amrina Putri  10000013  628785222213  Jakarta Pusat   \n",
       "3  2018-01-01      Aan Utama  10000014  628785222214          Medan   \n",
       "4  2018-01-01       Adam Adi  10000015  628785222215  Jakarta Timur   \n",
       "\n",
       "        province               email  total_order  total_gmv  total_visit  \n",
       "0    DKI Jakarta     ahmad@gmail.com          125    3490000          230  \n",
       "1     Jawa Timur   azzam@gmail.co.id          173    4757500          304  \n",
       "2    DKI Jakarta  amrina@yahoo.co.id           20     550000           62  \n",
       "3  Sumatra Utara       aan@yahoo.com           18     495000          100  \n",
       "4    DKI Jakarta      adam@gmail.com          159    4372500          524  "
      ]
     },
     "execution_count": 7,
     "metadata": {},
     "output_type": "execute_result"
    }
   ],
   "source": [
    "df = pd.read_csv('monthly_rakamin_customer_order.csv')\n",
    "df.head()"
   ]
  },
  {
   "cell_type": "code",
   "execution_count": 10,
   "metadata": {},
   "outputs": [
    {
     "data": {
      "text/html": [
       "<div>\n",
       "<style scoped>\n",
       "    .dataframe tbody tr th:only-of-type {\n",
       "        vertical-align: middle;\n",
       "    }\n",
       "\n",
       "    .dataframe tbody tr th {\n",
       "        vertical-align: top;\n",
       "    }\n",
       "\n",
       "    .dataframe thead th {\n",
       "        text-align: right;\n",
       "    }\n",
       "</style>\n",
       "<table border=\"1\" class=\"dataframe\">\n",
       "  <thead>\n",
       "    <tr style=\"text-align: right;\">\n",
       "      <th></th>\n",
       "      <th>user_id</th>\n",
       "      <th>phone</th>\n",
       "      <th>total_order</th>\n",
       "      <th>total_gmv</th>\n",
       "      <th>total_visit</th>\n",
       "    </tr>\n",
       "  </thead>\n",
       "  <tbody>\n",
       "    <tr>\n",
       "      <th>count</th>\n",
       "      <td>3.370000e+02</td>\n",
       "      <td>3.370000e+02</td>\n",
       "      <td>337.000000</td>\n",
       "      <td>3.370000e+02</td>\n",
       "      <td>337.000000</td>\n",
       "    </tr>\n",
       "    <tr>\n",
       "      <th>mean</th>\n",
       "      <td>1.000003e+07</td>\n",
       "      <td>6.285582e+11</td>\n",
       "      <td>98.587537</td>\n",
       "      <td>2.712085e+06</td>\n",
       "      <td>258.471810</td>\n",
       "    </tr>\n",
       "    <tr>\n",
       "      <th>std</th>\n",
       "      <td>1.188643e+01</td>\n",
       "      <td>2.560407e+08</td>\n",
       "      <td>56.912257</td>\n",
       "      <td>1.565805e+06</td>\n",
       "      <td>176.123299</td>\n",
       "    </tr>\n",
       "    <tr>\n",
       "      <th>min</th>\n",
       "      <td>1.000001e+07</td>\n",
       "      <td>6.282234e+11</td>\n",
       "      <td>2.000000</td>\n",
       "      <td>5.500000e+04</td>\n",
       "      <td>6.000000</td>\n",
       "    </tr>\n",
       "    <tr>\n",
       "      <th>25%</th>\n",
       "      <td>1.000002e+07</td>\n",
       "      <td>6.282234e+11</td>\n",
       "      <td>52.000000</td>\n",
       "      <td>1.430000e+06</td>\n",
       "      <td>103.000000</td>\n",
       "    </tr>\n",
       "    <tr>\n",
       "      <th>50%</th>\n",
       "      <td>1.000003e+07</td>\n",
       "      <td>6.285678e+11</td>\n",
       "      <td>99.000000</td>\n",
       "      <td>2.722500e+06</td>\n",
       "      <td>251.000000</td>\n",
       "    </tr>\n",
       "    <tr>\n",
       "      <th>75%</th>\n",
       "      <td>1.000004e+07</td>\n",
       "      <td>6.287852e+11</td>\n",
       "      <td>150.000000</td>\n",
       "      <td>4.152500e+06</td>\n",
       "      <td>341.000000</td>\n",
       "    </tr>\n",
       "    <tr>\n",
       "      <th>max</th>\n",
       "      <td>1.000006e+07</td>\n",
       "      <td>6.289622e+11</td>\n",
       "      <td>205.000000</td>\n",
       "      <td>5.600000e+06</td>\n",
       "      <td>773.000000</td>\n",
       "    </tr>\n",
       "  </tbody>\n",
       "</table>\n",
       "</div>"
      ],
      "text/plain": [
       "            user_id         phone  total_order     total_gmv  total_visit\n",
       "count  3.370000e+02  3.370000e+02   337.000000  3.370000e+02   337.000000\n",
       "mean   1.000003e+07  6.285582e+11    98.587537  2.712085e+06   258.471810\n",
       "std    1.188643e+01  2.560407e+08    56.912257  1.565805e+06   176.123299\n",
       "min    1.000001e+07  6.282234e+11     2.000000  5.500000e+04     6.000000\n",
       "25%    1.000002e+07  6.282234e+11    52.000000  1.430000e+06   103.000000\n",
       "50%    1.000003e+07  6.285678e+11    99.000000  2.722500e+06   251.000000\n",
       "75%    1.000004e+07  6.287852e+11   150.000000  4.152500e+06   341.000000\n",
       "max    1.000006e+07  6.289622e+11   205.000000  5.600000e+06   773.000000"
      ]
     },
     "execution_count": 10,
     "metadata": {},
     "output_type": "execute_result"
    }
   ],
   "source": [
    "df.describe() #shift + tab untuk melihat dokumentasi"
   ]
  },
  {
   "cell_type": "code",
   "execution_count": 17,
   "metadata": {
    "id": "Xq2PftN5qdI3",
    "outputId": "4e107a05-4ba0-4329-99d4-0663531cb503"
   },
   "outputs": [],
   "source": [
    "def city_order(month, city1, city2=None, city3=None): \n",
    "    #filter dataframe based on Month and City\n",
    "    df_selected_city = df[(df.order_month == month) & (df.city.isin([city1, city2, city3]))]\n",
    "    \n",
    "    #get trx agregat function sum\n",
    "    total_trx = df_selected_city.total_order.sum()\n",
    "    \n",
    "    #print\n",
    "    print('Total Trx pada Bulan', month, 'dari kota-kota tersebut adalah', total_trx)"
   ]
  },
  {
   "cell_type": "code",
   "execution_count": 18,
   "metadata": {},
   "outputs": [
    {
     "name": "stdout",
     "output_type": "stream",
     "text": [
      "Total Trx pada Bulan 2018-08-01 dari kota-kota tersebut adalah 45\n"
     ]
    }
   ],
   "source": [
    "city_order('2018-08-01', 'Jakarta Pusat') #menginputkan 2 parameter saja untuk month dan city 1"
   ]
  },
  {
   "cell_type": "code",
   "execution_count": 19,
   "metadata": {
    "id": "d4JHdsN9qdI3",
    "outputId": "df07bc4a-a902-4f26-b065-c6f5ce191ad6"
   },
   "outputs": [
    {
     "name": "stdout",
     "output_type": "stream",
     "text": [
      "Total Trx pada Bulan 2021-09-01 dari kota-kota tersebut adalah 134\n"
     ]
    }
   ],
   "source": [
    "city_order('2021-09-01', 'Jakarta Pusat', city2 = 'Bandung') #menginputkan 3 parameter untuk month, city1 dan city2"
   ]
  },
  {
   "cell_type": "markdown",
   "metadata": {
    "id": "qgcBMzU-qdI4"
   },
   "source": [
    "#### Parameter dengan default input"
   ]
  },
  {
   "cell_type": "code",
   "execution_count": 20,
   "metadata": {
    "id": "dXnEKfGQqdI4",
    "outputId": "82bad0e0-dde8-46cb-fb0b-698fe2803b40"
   },
   "outputs": [],
   "source": [
    "def user_order(user_id, month='2021-09-01'):\n",
    "    #filter dataframe based on Month and User\n",
    "    df_selected_user_monthly = df[(df.order_month == month) \n",
    "                                 & (df.user_id == user_id)].reset_index()\n",
    "    \n",
    "    #get order agregat function sum\n",
    "    total_trx = df_selected_user_monthly.total_order.sum()\n",
    "    \n",
    "    #print\n",
    "    print('Total Trx pada Bulan', month, 'untuk user_id',user_id,'adalah',total_trx)"
   ]
  },
  {
   "cell_type": "code",
   "execution_count": 21,
   "metadata": {},
   "outputs": [
    {
     "name": "stdout",
     "output_type": "stream",
     "text": [
      "Total Trx pada Bulan 2021-09-01 untuk user_id 10000038 adalah 61\n"
     ]
    }
   ],
   "source": [
    "user_order(10000038) "
   ]
  },
  {
   "cell_type": "code",
   "execution_count": 22,
   "metadata": {
    "id": "0VKcq3UlqdI5",
    "outputId": "b86f44b3-fcab-4604-98b4-faec5f27d2a5"
   },
   "outputs": [
    {
     "name": "stdout",
     "output_type": "stream",
     "text": [
      "Total Trx pada Bulan 2020-01-01 untuk user_id 10000038 adalah 26\n"
     ]
    }
   ],
   "source": [
    "user_order(10000038, '2020-01-01') #value default akan ter replace dengan input baru "
   ]
  },
  {
   "cell_type": "markdown",
   "metadata": {
    "id": "400pKHIvqdI6"
   },
   "source": [
    "#### Mini Quiz | Challenge Time #1"
   ]
  },
  {
   "cell_type": "markdown",
   "metadata": {
    "id": "5rHTxmGNqdI6"
   },
   "source": [
    "Buatlah function <b>my_calculator</b> yang bisa menghitung 2 variabel angka dengan 4 alternatif metode operasi: (parameter metode by default Penjumlahan)\n",
    "- Penjumlahan\n",
    "- Pengurangan\n",
    "- Perkalian\n",
    "- Pembagian"
   ]
  },
  {
   "cell_type": "code",
   "execution_count": 15,
   "metadata": {
    "id": "JDHtUDinqdI6",
    "outputId": "ff24940c-b2bc-4eb4-8c92-d1a4c475bf01"
   },
   "outputs": [],
   "source": [
    "#1 Function my_calculator\n"
   ]
  },
  {
   "cell_type": "markdown",
   "metadata": {
    "id": "6zTFMpwYqdI7"
   },
   "source": [
    "### Return Value"
   ]
  },
  {
   "cell_type": "markdown",
   "metadata": {
    "id": "tmtCmIoNqdI7"
   },
   "source": [
    "#### Mengapa perlu output pada function"
   ]
  },
  {
   "cell_type": "code",
   "execution_count": 23,
   "metadata": {
    "id": "xolWU--XqdI7"
   },
   "outputs": [],
   "source": [
    "def cek_genap(x):\n",
    "    if x%2 == 0:\n",
    "        hasil = 'Genap'\n",
    "    else:\n",
    "        hasil = 'Ganjil'\n",
    "    return hasil"
   ]
  },
  {
   "cell_type": "code",
   "execution_count": 24,
   "metadata": {
    "id": "32nCdvhjqdI8",
    "outputId": "e3a3d777-1dc3-497c-e531-549440cde024"
   },
   "outputs": [
    {
     "name": "stdout",
     "output_type": "stream",
     "text": [
      "Bilangan 101 termasuk bilangan Ganjil\n"
     ]
    }
   ],
   "source": [
    "y = 101 #variabel yang akan dicek\n",
    "print('Bilangan',y, 'termasuk bilangan', cek_genap(y))"
   ]
  },
  {
   "cell_type": "code",
   "execution_count": 25,
   "metadata": {
    "id": "VHygRQg7qdI8",
    "outputId": "9d6e3860-c5a3-4a83-f0ad-85b31d57be0c"
   },
   "outputs": [
    {
     "data": {
      "text/plain": [
       "125"
      ]
     },
     "execution_count": 25,
     "metadata": {},
     "output_type": "execute_result"
    }
   ],
   "source": [
    "# rumus: sisi x sisi\n",
    "def luas_persegi(sisi):\n",
    "    luas = sisi * sisi\n",
    "    return luas\n",
    "\n",
    "\n",
    "# rumus: sisi x sisi x sisi\n",
    "def volume_persegi(sisi):\n",
    "    volume = luas_persegi(sisi) * sisi #menggunakan fungsi dalam fungsi\n",
    "    return volume\n",
    "\n",
    "volume_persegi(5)"
   ]
  },
  {
   "cell_type": "markdown",
   "metadata": {},
   "source": [
    "#### Implementasi Function dengan Banyak Return Statement"
   ]
  },
  {
   "cell_type": "code",
   "execution_count": 26,
   "metadata": {},
   "outputs": [],
   "source": [
    "def kalkulator(metode, a, b):\n",
    "    metode = metode.lower()\n",
    "    if metode == 'penjumlahan':\n",
    "        hasil = a+b\n",
    "        return hasil #return statement 1\n",
    "    elif metode == 'pengurangan':\n",
    "        hasil = a-b\n",
    "        return hasil #return statement 2\n",
    "    else:\n",
    "        hasil = '-'\n",
    "    print('Inputan metode', metode, 'dengan inputan', a, 'dan', b, ' tidak sesuai system inputan', hasil)"
   ]
  },
  {
   "cell_type": "code",
   "execution_count": 27,
   "metadata": {},
   "outputs": [
    {
     "data": {
      "text/plain": [
       "20"
      ]
     },
     "execution_count": 27,
     "metadata": {},
     "output_type": "execute_result"
    }
   ],
   "source": [
    "kalkulator('penjumlahan', 5, 15)"
   ]
  },
  {
   "cell_type": "code",
   "execution_count": 28,
   "metadata": {},
   "outputs": [
    {
     "name": "stdout",
     "output_type": "stream",
     "text": [
      "Inputan metode penjum dengan inputan 5 dan 6  tidak sesuai system inputan -\n"
     ]
    }
   ],
   "source": [
    "kalkulator('penjum', 5, 6)"
   ]
  },
  {
   "cell_type": "markdown",
   "metadata": {
    "id": "85sqxTFTqdI8"
   },
   "source": [
    "#### Output pada Function bisa lebih dari 1"
   ]
  },
  {
   "cell_type": "code",
   "execution_count": 29,
   "metadata": {
    "id": "hHlVLRxCqdI9",
    "outputId": "becbad6e-9b44-494b-e50d-5144836c834e"
   },
   "outputs": [
    {
     "name": "stdout",
     "output_type": "stream",
     "text": [
      "Luas 8 cm2 dan Volume 48 cm3\n"
     ]
    }
   ],
   "source": [
    "def luas_volume_balok(p, l, t):\n",
    "    luas = p*l\n",
    "    volume = p*l*t\n",
    "    return luas, volume #output akan berwujud tuple\n",
    "\n",
    "df_info = luas_volume_balok(2,4,6)\n",
    "print('Luas', df_info[0], 'cm2 dan Volume', df_info[1], 'cm3')"
   ]
  },
  {
   "cell_type": "code",
   "execution_count": 30,
   "metadata": {
    "id": "S6JT0HT8qdI9",
    "outputId": "4290a48f-fe1f-490d-eb6b-1ed7232134eb"
   },
   "outputs": [
    {
     "name": "stdout",
     "output_type": "stream",
     "text": [
      "Ini Nilai Luas 8\n",
      "Ini Nilai Volume 48\n"
     ]
    }
   ],
   "source": [
    "nilai_luas, nilai_volume = luas_volume_balok(2,4,6) #mendfinisikan 2 variabel langsung\n",
    "print('Ini Nilai Luas', nilai_luas)\n",
    "print('Ini Nilai Volume', nilai_volume)"
   ]
  },
  {
   "cell_type": "markdown",
   "metadata": {
    "id": "mRJVIAiAqdI_"
   },
   "source": [
    "### Dataframe with function"
   ]
  },
  {
   "cell_type": "markdown",
   "metadata": {
    "id": "3hHiy8fTqdI_"
   },
   "source": [
    "Jika kita memiliki 3 segment user\n",
    "1. total_order < 20 --> low buyer\n",
    "2. total_order >= 20 and total_order < 100 --> mid buyer\n",
    "3. total_order >= 100 --> high buyer"
   ]
  },
  {
   "cell_type": "markdown",
   "metadata": {
    "id": "y-KtiwolqdI_"
   },
   "source": [
    "Ada banyak cara untuk membuat kolom baru pada suatu dataframe, salah satu cara nya dengan melakukan iterasi for "
   ]
  },
  {
   "cell_type": "code",
   "execution_count": 34,
   "metadata": {},
   "outputs": [],
   "source": [
    "import pandas as pd\n",
    "# pd.options.display.float_format = '{:,.0f}'.format"
   ]
  },
  {
   "cell_type": "code",
   "execution_count": 35,
   "metadata": {
    "id": "Snf0bnBVqdI_",
    "outputId": "5ed3493a-676d-4d72-a6ac-c0d9270e2673"
   },
   "outputs": [
    {
     "data": {
      "text/html": [
       "<div>\n",
       "<style scoped>\n",
       "    .dataframe tbody tr th:only-of-type {\n",
       "        vertical-align: middle;\n",
       "    }\n",
       "\n",
       "    .dataframe tbody tr th {\n",
       "        vertical-align: top;\n",
       "    }\n",
       "\n",
       "    .dataframe thead th {\n",
       "        text-align: right;\n",
       "    }\n",
       "</style>\n",
       "<table border=\"1\" class=\"dataframe\">\n",
       "  <thead>\n",
       "    <tr style=\"text-align: right;\">\n",
       "      <th></th>\n",
       "      <th>order_month</th>\n",
       "      <th>full_name</th>\n",
       "      <th>user_id</th>\n",
       "      <th>phone</th>\n",
       "      <th>city</th>\n",
       "      <th>province</th>\n",
       "      <th>email</th>\n",
       "      <th>total_order</th>\n",
       "      <th>total_gmv</th>\n",
       "      <th>total_visit</th>\n",
       "    </tr>\n",
       "  </thead>\n",
       "  <tbody>\n",
       "    <tr>\n",
       "      <th>0</th>\n",
       "      <td>2018-01-01</td>\n",
       "      <td>Ahmad Budiman</td>\n",
       "      <td>10000011</td>\n",
       "      <td>628785222211</td>\n",
       "      <td>Jakarta Pusat</td>\n",
       "      <td>DKI Jakarta</td>\n",
       "      <td>ahmad@gmail.com</td>\n",
       "      <td>125</td>\n",
       "      <td>3490000</td>\n",
       "      <td>230</td>\n",
       "    </tr>\n",
       "    <tr>\n",
       "      <th>1</th>\n",
       "      <td>2018-01-01</td>\n",
       "      <td>Azzam Haqq</td>\n",
       "      <td>10000012</td>\n",
       "      <td>628785222212</td>\n",
       "      <td>Surabaya</td>\n",
       "      <td>Jawa Timur</td>\n",
       "      <td>azzam@gmail.co.id</td>\n",
       "      <td>173</td>\n",
       "      <td>4757500</td>\n",
       "      <td>304</td>\n",
       "    </tr>\n",
       "    <tr>\n",
       "      <th>2</th>\n",
       "      <td>2018-01-01</td>\n",
       "      <td>Amrina Putri</td>\n",
       "      <td>10000013</td>\n",
       "      <td>628785222213</td>\n",
       "      <td>Jakarta Pusat</td>\n",
       "      <td>DKI Jakarta</td>\n",
       "      <td>amrina@yahoo.co.id</td>\n",
       "      <td>20</td>\n",
       "      <td>550000</td>\n",
       "      <td>62</td>\n",
       "    </tr>\n",
       "    <tr>\n",
       "      <th>3</th>\n",
       "      <td>2018-01-01</td>\n",
       "      <td>Aan Utama</td>\n",
       "      <td>10000014</td>\n",
       "      <td>628785222214</td>\n",
       "      <td>Medan</td>\n",
       "      <td>Sumatra Utara</td>\n",
       "      <td>aan@yahoo.com</td>\n",
       "      <td>18</td>\n",
       "      <td>495000</td>\n",
       "      <td>100</td>\n",
       "    </tr>\n",
       "    <tr>\n",
       "      <th>4</th>\n",
       "      <td>2018-01-01</td>\n",
       "      <td>Adam Adi</td>\n",
       "      <td>10000015</td>\n",
       "      <td>628785222215</td>\n",
       "      <td>Jakarta Timur</td>\n",
       "      <td>DKI Jakarta</td>\n",
       "      <td>adam@gmail.com</td>\n",
       "      <td>159</td>\n",
       "      <td>4372500</td>\n",
       "      <td>524</td>\n",
       "    </tr>\n",
       "  </tbody>\n",
       "</table>\n",
       "</div>"
      ],
      "text/plain": [
       "  order_month      full_name   user_id         phone           city  \\\n",
       "0  2018-01-01  Ahmad Budiman  10000011  628785222211  Jakarta Pusat   \n",
       "1  2018-01-01     Azzam Haqq  10000012  628785222212       Surabaya   \n",
       "2  2018-01-01   Amrina Putri  10000013  628785222213  Jakarta Pusat   \n",
       "3  2018-01-01      Aan Utama  10000014  628785222214          Medan   \n",
       "4  2018-01-01       Adam Adi  10000015  628785222215  Jakarta Timur   \n",
       "\n",
       "        province               email  total_order  total_gmv  total_visit  \n",
       "0    DKI Jakarta     ahmad@gmail.com          125    3490000          230  \n",
       "1     Jawa Timur   azzam@gmail.co.id          173    4757500          304  \n",
       "2    DKI Jakarta  amrina@yahoo.co.id           20     550000           62  \n",
       "3  Sumatra Utara       aan@yahoo.com           18     495000          100  \n",
       "4    DKI Jakarta      adam@gmail.com          159    4372500          524  "
      ]
     },
     "execution_count": 35,
     "metadata": {},
     "output_type": "execute_result"
    }
   ],
   "source": [
    "df = pd.read_csv('monthly_rakamin_customer_order.csv')\n",
    "df.head()"
   ]
  },
  {
   "cell_type": "code",
   "execution_count": 31,
   "metadata": {},
   "outputs": [
    {
     "data": {
      "text/html": [
       "<div>\n",
       "<style scoped>\n",
       "    .dataframe tbody tr th:only-of-type {\n",
       "        vertical-align: middle;\n",
       "    }\n",
       "\n",
       "    .dataframe tbody tr th {\n",
       "        vertical-align: top;\n",
       "    }\n",
       "\n",
       "    .dataframe thead th {\n",
       "        text-align: right;\n",
       "    }\n",
       "</style>\n",
       "<table border=\"1\" class=\"dataframe\">\n",
       "  <thead>\n",
       "    <tr style=\"text-align: right;\">\n",
       "      <th></th>\n",
       "      <th>user_id</th>\n",
       "      <th>phone</th>\n",
       "      <th>total_order</th>\n",
       "      <th>total_gmv</th>\n",
       "      <th>total_visit</th>\n",
       "    </tr>\n",
       "  </thead>\n",
       "  <tbody>\n",
       "    <tr>\n",
       "      <th>count</th>\n",
       "      <td>270</td>\n",
       "      <td>270</td>\n",
       "      <td>270</td>\n",
       "      <td>270</td>\n",
       "      <td>270</td>\n",
       "    </tr>\n",
       "    <tr>\n",
       "      <th>mean</th>\n",
       "      <td>10,000,030</td>\n",
       "      <td>628,581,796,686</td>\n",
       "      <td>99</td>\n",
       "      <td>2,734,722</td>\n",
       "      <td>261</td>\n",
       "    </tr>\n",
       "    <tr>\n",
       "      <th>std</th>\n",
       "      <td>11</td>\n",
       "      <td>249,857,308</td>\n",
       "      <td>58</td>\n",
       "      <td>1,586,998</td>\n",
       "      <td>181</td>\n",
       "    </tr>\n",
       "    <tr>\n",
       "      <th>min</th>\n",
       "      <td>10,000,011</td>\n",
       "      <td>628,223,412,511</td>\n",
       "      <td>2</td>\n",
       "      <td>55,000</td>\n",
       "      <td>6</td>\n",
       "    </tr>\n",
       "    <tr>\n",
       "      <th>10%</th>\n",
       "      <td>10,000,014</td>\n",
       "      <td>628,223,412,514</td>\n",
       "      <td>20</td>\n",
       "      <td>550,000</td>\n",
       "      <td>62</td>\n",
       "    </tr>\n",
       "    <tr>\n",
       "      <th>25%</th>\n",
       "      <td>10,000,020</td>\n",
       "      <td>628,223,412,521</td>\n",
       "      <td>52</td>\n",
       "      <td>1,430,000</td>\n",
       "      <td>101</td>\n",
       "    </tr>\n",
       "    <tr>\n",
       "      <th>50%</th>\n",
       "      <td>10,000,030</td>\n",
       "      <td>628,567,812,320</td>\n",
       "      <td>100</td>\n",
       "      <td>2,750,000</td>\n",
       "      <td>253</td>\n",
       "    </tr>\n",
       "    <tr>\n",
       "      <th>75%</th>\n",
       "      <td>10,000,039</td>\n",
       "      <td>628,785,222,216</td>\n",
       "      <td>153</td>\n",
       "      <td>4,200,625</td>\n",
       "      <td>337</td>\n",
       "    </tr>\n",
       "    <tr>\n",
       "      <th>90%</th>\n",
       "      <td>10,000,046</td>\n",
       "      <td>628,962,212,421</td>\n",
       "      <td>175</td>\n",
       "      <td>4,815,250</td>\n",
       "      <td>550</td>\n",
       "    </tr>\n",
       "    <tr>\n",
       "      <th>95%</th>\n",
       "      <td>10,000,048</td>\n",
       "      <td>628,962,212,423</td>\n",
       "      <td>186</td>\n",
       "      <td>5,102,625</td>\n",
       "      <td>636</td>\n",
       "    </tr>\n",
       "    <tr>\n",
       "      <th>99%</th>\n",
       "      <td>10,000,050</td>\n",
       "      <td>628,962,212,425</td>\n",
       "      <td>198</td>\n",
       "      <td>5,434,550</td>\n",
       "      <td>710</td>\n",
       "    </tr>\n",
       "    <tr>\n",
       "      <th>max</th>\n",
       "      <td>10,000,050</td>\n",
       "      <td>628,962,212,425</td>\n",
       "      <td>200</td>\n",
       "      <td>5,500,000</td>\n",
       "      <td>745</td>\n",
       "    </tr>\n",
       "  </tbody>\n",
       "</table>\n",
       "</div>"
      ],
      "text/plain": [
       "         user_id           phone  total_order  total_gmv  total_visit\n",
       "count        270             270          270        270          270\n",
       "mean  10,000,030 628,581,796,686           99  2,734,722          261\n",
       "std           11     249,857,308           58  1,586,998          181\n",
       "min   10,000,011 628,223,412,511            2     55,000            6\n",
       "10%   10,000,014 628,223,412,514           20    550,000           62\n",
       "25%   10,000,020 628,223,412,521           52  1,430,000          101\n",
       "50%   10,000,030 628,567,812,320          100  2,750,000          253\n",
       "75%   10,000,039 628,785,222,216          153  4,200,625          337\n",
       "90%   10,000,046 628,962,212,421          175  4,815,250          550\n",
       "95%   10,000,048 628,962,212,423          186  5,102,625          636\n",
       "99%   10,000,050 628,962,212,425          198  5,434,550          710\n",
       "max   10,000,050 628,962,212,425          200  5,500,000          745"
      ]
     },
     "execution_count": 31,
     "metadata": {},
     "output_type": "execute_result"
    }
   ],
   "source": [
    "df.describe(percentiles=[.1,.25, .5, .75, .9, .95, .99])"
   ]
  },
  {
   "cell_type": "code",
   "execution_count": 33,
   "metadata": {
    "id": "osssFlj_qdI_",
    "outputId": "e198428e-9a61-4016-f41a-8fe8844303bf"
   },
   "outputs": [
    {
     "data": {
      "text/html": [
       "<div>\n",
       "<style scoped>\n",
       "    .dataframe tbody tr th:only-of-type {\n",
       "        vertical-align: middle;\n",
       "    }\n",
       "\n",
       "    .dataframe tbody tr th {\n",
       "        vertical-align: top;\n",
       "    }\n",
       "\n",
       "    .dataframe thead th {\n",
       "        text-align: right;\n",
       "    }\n",
       "</style>\n",
       "<table border=\"1\" class=\"dataframe\">\n",
       "  <thead>\n",
       "    <tr style=\"text-align: right;\">\n",
       "      <th></th>\n",
       "      <th>order_month</th>\n",
       "      <th>full_name</th>\n",
       "      <th>user_id</th>\n",
       "      <th>phone</th>\n",
       "      <th>city</th>\n",
       "      <th>province</th>\n",
       "      <th>email</th>\n",
       "      <th>total_order</th>\n",
       "      <th>total_gmv</th>\n",
       "      <th>total_visit</th>\n",
       "      <th>segment_for</th>\n",
       "    </tr>\n",
       "  </thead>\n",
       "  <tbody>\n",
       "    <tr>\n",
       "      <th>0</th>\n",
       "      <td>2018-01-01</td>\n",
       "      <td>Ahmad Budiman</td>\n",
       "      <td>10000011</td>\n",
       "      <td>628785222211</td>\n",
       "      <td>Jakarta Pusat</td>\n",
       "      <td>DKI Jakarta</td>\n",
       "      <td>ahmad@gmail.com</td>\n",
       "      <td>125</td>\n",
       "      <td>3490000</td>\n",
       "      <td>230</td>\n",
       "      <td>high</td>\n",
       "    </tr>\n",
       "    <tr>\n",
       "      <th>1</th>\n",
       "      <td>2018-01-01</td>\n",
       "      <td>Azzam Haqq</td>\n",
       "      <td>10000012</td>\n",
       "      <td>628785222212</td>\n",
       "      <td>Surabaya</td>\n",
       "      <td>Jawa Timur</td>\n",
       "      <td>azzam@gmail.co.id</td>\n",
       "      <td>173</td>\n",
       "      <td>4757500</td>\n",
       "      <td>304</td>\n",
       "      <td>high</td>\n",
       "    </tr>\n",
       "    <tr>\n",
       "      <th>2</th>\n",
       "      <td>2018-01-01</td>\n",
       "      <td>Amrina Putri</td>\n",
       "      <td>10000013</td>\n",
       "      <td>628785222213</td>\n",
       "      <td>Jakarta Pusat</td>\n",
       "      <td>DKI Jakarta</td>\n",
       "      <td>amrina@yahoo.co.id</td>\n",
       "      <td>20</td>\n",
       "      <td>550000</td>\n",
       "      <td>62</td>\n",
       "      <td>mid</td>\n",
       "    </tr>\n",
       "    <tr>\n",
       "      <th>3</th>\n",
       "      <td>2018-01-01</td>\n",
       "      <td>Aan Utama</td>\n",
       "      <td>10000014</td>\n",
       "      <td>628785222214</td>\n",
       "      <td>Medan</td>\n",
       "      <td>Sumatra Utara</td>\n",
       "      <td>aan@yahoo.com</td>\n",
       "      <td>18</td>\n",
       "      <td>495000</td>\n",
       "      <td>100</td>\n",
       "      <td>low</td>\n",
       "    </tr>\n",
       "    <tr>\n",
       "      <th>4</th>\n",
       "      <td>2018-01-01</td>\n",
       "      <td>Adam Adi</td>\n",
       "      <td>10000015</td>\n",
       "      <td>628785222215</td>\n",
       "      <td>Jakarta Timur</td>\n",
       "      <td>DKI Jakarta</td>\n",
       "      <td>adam@gmail.com</td>\n",
       "      <td>159</td>\n",
       "      <td>4372500</td>\n",
       "      <td>524</td>\n",
       "      <td>high</td>\n",
       "    </tr>\n",
       "  </tbody>\n",
       "</table>\n",
       "</div>"
      ],
      "text/plain": [
       "  order_month      full_name   user_id         phone           city  \\\n",
       "0  2018-01-01  Ahmad Budiman  10000011  628785222211  Jakarta Pusat   \n",
       "1  2018-01-01     Azzam Haqq  10000012  628785222212       Surabaya   \n",
       "2  2018-01-01   Amrina Putri  10000013  628785222213  Jakarta Pusat   \n",
       "3  2018-01-01      Aan Utama  10000014  628785222214          Medan   \n",
       "4  2018-01-01       Adam Adi  10000015  628785222215  Jakarta Timur   \n",
       "\n",
       "        province               email  total_order  total_gmv  total_visit  \\\n",
       "0    DKI Jakarta     ahmad@gmail.com          125    3490000          230   \n",
       "1     Jawa Timur   azzam@gmail.co.id          173    4757500          304   \n",
       "2    DKI Jakarta  amrina@yahoo.co.id           20     550000           62   \n",
       "3  Sumatra Utara       aan@yahoo.com           18     495000          100   \n",
       "4    DKI Jakarta      adam@gmail.com          159    4372500          524   \n",
       "\n",
       "  segment_for  \n",
       "0        high  \n",
       "1        high  \n",
       "2         mid  \n",
       "3         low  \n",
       "4        high  "
      ]
     },
     "execution_count": 33,
     "metadata": {},
     "output_type": "execute_result"
    }
   ],
   "source": [
    "list_segment = [] #membuat list kosong\n",
    "for i, kolom in df.iterrows(): #melakukan iterasi pada setiap baris dataframe\n",
    "    if kolom['total_order'] >= 100:\n",
    "        segment = 'high'\n",
    "    elif kolom['total_order'] >= 20 and kolom['total_order'] < 100:\n",
    "        segment = 'mid'\n",
    "    else:\n",
    "        segment = 'low'\n",
    "    list_segment.append(segment) #menambahkan list kosong dari item tiap row\n",
    "    \n",
    "df['segment_for'] = list_segment\n",
    "df.head()"
   ]
  },
  {
   "cell_type": "markdown",
   "metadata": {
    "id": "AjnPDf7wqdJA"
   },
   "source": [
    "Namun ada, cara yang secara performance waktu lebih cepat (efisien)"
   ]
  },
  {
   "cell_type": "code",
   "execution_count": 34,
   "metadata": {
    "id": "EiWiat_pqdJA"
   },
   "outputs": [],
   "source": [
    "#membuat function segment\n",
    "def segment(x):\n",
    "    if x['total_order'] >= 100:\n",
    "        segment = 'high'\n",
    "    elif x['total_order'] >= 20 and x['total_order'] < 100:\n",
    "        segment = 'mid'\n",
    "    else:\n",
    "        segment = 'low'\n",
    "    return segment"
   ]
  },
  {
   "cell_type": "code",
   "execution_count": 35,
   "metadata": {
    "id": "Yg1WfvrzqdJA",
    "outputId": "537eb5c5-14f6-49c3-9991-9edb930adf02"
   },
   "outputs": [
    {
     "data": {
      "text/html": [
       "<div>\n",
       "<style scoped>\n",
       "    .dataframe tbody tr th:only-of-type {\n",
       "        vertical-align: middle;\n",
       "    }\n",
       "\n",
       "    .dataframe tbody tr th {\n",
       "        vertical-align: top;\n",
       "    }\n",
       "\n",
       "    .dataframe thead th {\n",
       "        text-align: right;\n",
       "    }\n",
       "</style>\n",
       "<table border=\"1\" class=\"dataframe\">\n",
       "  <thead>\n",
       "    <tr style=\"text-align: right;\">\n",
       "      <th></th>\n",
       "      <th>order_month</th>\n",
       "      <th>full_name</th>\n",
       "      <th>user_id</th>\n",
       "      <th>phone</th>\n",
       "      <th>city</th>\n",
       "      <th>province</th>\n",
       "      <th>email</th>\n",
       "      <th>total_order</th>\n",
       "      <th>total_gmv</th>\n",
       "      <th>total_visit</th>\n",
       "      <th>segment_for</th>\n",
       "      <th>segment_apply</th>\n",
       "    </tr>\n",
       "  </thead>\n",
       "  <tbody>\n",
       "    <tr>\n",
       "      <th>0</th>\n",
       "      <td>2018-01-01</td>\n",
       "      <td>Ahmad Budiman</td>\n",
       "      <td>10000011</td>\n",
       "      <td>628785222211</td>\n",
       "      <td>Jakarta Pusat</td>\n",
       "      <td>DKI Jakarta</td>\n",
       "      <td>ahmad@gmail.com</td>\n",
       "      <td>125</td>\n",
       "      <td>3490000</td>\n",
       "      <td>230</td>\n",
       "      <td>high</td>\n",
       "      <td>high</td>\n",
       "    </tr>\n",
       "    <tr>\n",
       "      <th>1</th>\n",
       "      <td>2018-01-01</td>\n",
       "      <td>Azzam Haqq</td>\n",
       "      <td>10000012</td>\n",
       "      <td>628785222212</td>\n",
       "      <td>Surabaya</td>\n",
       "      <td>Jawa Timur</td>\n",
       "      <td>azzam@gmail.co.id</td>\n",
       "      <td>173</td>\n",
       "      <td>4757500</td>\n",
       "      <td>304</td>\n",
       "      <td>high</td>\n",
       "      <td>high</td>\n",
       "    </tr>\n",
       "    <tr>\n",
       "      <th>2</th>\n",
       "      <td>2018-01-01</td>\n",
       "      <td>Amrina Putri</td>\n",
       "      <td>10000013</td>\n",
       "      <td>628785222213</td>\n",
       "      <td>Jakarta Pusat</td>\n",
       "      <td>DKI Jakarta</td>\n",
       "      <td>amrina@yahoo.co.id</td>\n",
       "      <td>20</td>\n",
       "      <td>550000</td>\n",
       "      <td>62</td>\n",
       "      <td>mid</td>\n",
       "      <td>mid</td>\n",
       "    </tr>\n",
       "    <tr>\n",
       "      <th>3</th>\n",
       "      <td>2018-01-01</td>\n",
       "      <td>Aan Utama</td>\n",
       "      <td>10000014</td>\n",
       "      <td>628785222214</td>\n",
       "      <td>Medan</td>\n",
       "      <td>Sumatra Utara</td>\n",
       "      <td>aan@yahoo.com</td>\n",
       "      <td>18</td>\n",
       "      <td>495000</td>\n",
       "      <td>100</td>\n",
       "      <td>low</td>\n",
       "      <td>low</td>\n",
       "    </tr>\n",
       "    <tr>\n",
       "      <th>4</th>\n",
       "      <td>2018-01-01</td>\n",
       "      <td>Adam Adi</td>\n",
       "      <td>10000015</td>\n",
       "      <td>628785222215</td>\n",
       "      <td>Jakarta Timur</td>\n",
       "      <td>DKI Jakarta</td>\n",
       "      <td>adam@gmail.com</td>\n",
       "      <td>159</td>\n",
       "      <td>4372500</td>\n",
       "      <td>524</td>\n",
       "      <td>high</td>\n",
       "      <td>high</td>\n",
       "    </tr>\n",
       "  </tbody>\n",
       "</table>\n",
       "</div>"
      ],
      "text/plain": [
       "  order_month      full_name   user_id         phone           city  \\\n",
       "0  2018-01-01  Ahmad Budiman  10000011  628785222211  Jakarta Pusat   \n",
       "1  2018-01-01     Azzam Haqq  10000012  628785222212       Surabaya   \n",
       "2  2018-01-01   Amrina Putri  10000013  628785222213  Jakarta Pusat   \n",
       "3  2018-01-01      Aan Utama  10000014  628785222214          Medan   \n",
       "4  2018-01-01       Adam Adi  10000015  628785222215  Jakarta Timur   \n",
       "\n",
       "        province               email  total_order  total_gmv  total_visit  \\\n",
       "0    DKI Jakarta     ahmad@gmail.com          125    3490000          230   \n",
       "1     Jawa Timur   azzam@gmail.co.id          173    4757500          304   \n",
       "2    DKI Jakarta  amrina@yahoo.co.id           20     550000           62   \n",
       "3  Sumatra Utara       aan@yahoo.com           18     495000          100   \n",
       "4    DKI Jakarta      adam@gmail.com          159    4372500          524   \n",
       "\n",
       "  segment_for segment_apply  \n",
       "0        high          high  \n",
       "1        high          high  \n",
       "2         mid           mid  \n",
       "3         low           low  \n",
       "4        high          high  "
      ]
     },
     "execution_count": 35,
     "metadata": {},
     "output_type": "execute_result"
    }
   ],
   "source": [
    "df['segment_apply'] = df.apply(lambda x: segment(x), axis=1)\n",
    "df.head()"
   ]
  },
  {
   "cell_type": "code",
   "execution_count": 12,
   "metadata": {},
   "outputs": [],
   "source": [
    "def segment_new(province, total_order):\n",
    "    if (province == 'DKI Jakarta') and (total_order >= 75):\n",
    "        segment = 'Potential'\n",
    "    else:\n",
    "        segment = 'Not Potential'\n",
    "        \n",
    "    return segment"
   ]
  },
  {
   "cell_type": "code",
   "execution_count": 37,
   "metadata": {},
   "outputs": [],
   "source": [
    "#spesific memasukan kolom tertentu\n",
    "df['segment_apply'] = df.apply(lambda x: segment_new(x['province'], x['total_order']), axis=1)"
   ]
  },
  {
   "cell_type": "code",
   "execution_count": 13,
   "metadata": {},
   "outputs": [
    {
     "data": {
      "text/html": [
       "<div>\n",
       "<style scoped>\n",
       "    .dataframe tbody tr th:only-of-type {\n",
       "        vertical-align: middle;\n",
       "    }\n",
       "\n",
       "    .dataframe tbody tr th {\n",
       "        vertical-align: top;\n",
       "    }\n",
       "\n",
       "    .dataframe thead th {\n",
       "        text-align: right;\n",
       "    }\n",
       "</style>\n",
       "<table border=\"1\" class=\"dataframe\">\n",
       "  <thead>\n",
       "    <tr style=\"text-align: right;\">\n",
       "      <th></th>\n",
       "      <th>order_month</th>\n",
       "      <th>full_name</th>\n",
       "      <th>user_id</th>\n",
       "      <th>phone</th>\n",
       "      <th>city</th>\n",
       "      <th>province</th>\n",
       "      <th>email</th>\n",
       "      <th>total_order</th>\n",
       "      <th>total_gmv</th>\n",
       "      <th>total_visit</th>\n",
       "    </tr>\n",
       "  </thead>\n",
       "  <tbody>\n",
       "    <tr>\n",
       "      <th>0</th>\n",
       "      <td>2018-01-01</td>\n",
       "      <td>Ahmad Budiman</td>\n",
       "      <td>10000011</td>\n",
       "      <td>628785222211</td>\n",
       "      <td>Jakarta Pusat</td>\n",
       "      <td>DKI Jakarta</td>\n",
       "      <td>ahmad@gmail.com</td>\n",
       "      <td>125</td>\n",
       "      <td>3490000</td>\n",
       "      <td>230</td>\n",
       "    </tr>\n",
       "    <tr>\n",
       "      <th>1</th>\n",
       "      <td>2018-01-01</td>\n",
       "      <td>Azzam Haqq</td>\n",
       "      <td>10000012</td>\n",
       "      <td>628785222212</td>\n",
       "      <td>Surabaya</td>\n",
       "      <td>Jawa Timur</td>\n",
       "      <td>azzam@gmail.co.id</td>\n",
       "      <td>173</td>\n",
       "      <td>4757500</td>\n",
       "      <td>304</td>\n",
       "    </tr>\n",
       "    <tr>\n",
       "      <th>2</th>\n",
       "      <td>2018-01-01</td>\n",
       "      <td>Amrina Putri</td>\n",
       "      <td>10000013</td>\n",
       "      <td>628785222213</td>\n",
       "      <td>Jakarta Pusat</td>\n",
       "      <td>DKI Jakarta</td>\n",
       "      <td>amrina@yahoo.co.id</td>\n",
       "      <td>20</td>\n",
       "      <td>550000</td>\n",
       "      <td>62</td>\n",
       "    </tr>\n",
       "    <tr>\n",
       "      <th>3</th>\n",
       "      <td>2018-01-01</td>\n",
       "      <td>Aan Utama</td>\n",
       "      <td>10000014</td>\n",
       "      <td>628785222214</td>\n",
       "      <td>Medan</td>\n",
       "      <td>Sumatra Utara</td>\n",
       "      <td>aan@yahoo.com</td>\n",
       "      <td>18</td>\n",
       "      <td>495000</td>\n",
       "      <td>100</td>\n",
       "    </tr>\n",
       "    <tr>\n",
       "      <th>4</th>\n",
       "      <td>2018-01-01</td>\n",
       "      <td>Adam Adi</td>\n",
       "      <td>10000015</td>\n",
       "      <td>628785222215</td>\n",
       "      <td>Jakarta Timur</td>\n",
       "      <td>DKI Jakarta</td>\n",
       "      <td>adam@gmail.com</td>\n",
       "      <td>159</td>\n",
       "      <td>4372500</td>\n",
       "      <td>524</td>\n",
       "    </tr>\n",
       "  </tbody>\n",
       "</table>\n",
       "</div>"
      ],
      "text/plain": [
       "  order_month      full_name   user_id         phone           city  \\\n",
       "0  2018-01-01  Ahmad Budiman  10000011  628785222211  Jakarta Pusat   \n",
       "1  2018-01-01     Azzam Haqq  10000012  628785222212       Surabaya   \n",
       "2  2018-01-01   Amrina Putri  10000013  628785222213  Jakarta Pusat   \n",
       "3  2018-01-01      Aan Utama  10000014  628785222214          Medan   \n",
       "4  2018-01-01       Adam Adi  10000015  628785222215  Jakarta Timur   \n",
       "\n",
       "        province               email  total_order  total_gmv  total_visit  \n",
       "0    DKI Jakarta     ahmad@gmail.com          125    3490000          230  \n",
       "1     Jawa Timur   azzam@gmail.co.id          173    4757500          304  \n",
       "2    DKI Jakarta  amrina@yahoo.co.id           20     550000           62  \n",
       "3  Sumatra Utara       aan@yahoo.com           18     495000          100  \n",
       "4    DKI Jakarta      adam@gmail.com          159    4372500          524  "
      ]
     },
     "execution_count": 13,
     "metadata": {},
     "output_type": "execute_result"
    }
   ],
   "source": [
    "df.head()"
   ]
  },
  {
   "cell_type": "markdown",
   "metadata": {
    "id": "gcD3YUhkqdJA"
   },
   "source": [
    "#### Sekilas tentang Apply"
   ]
  },
  {
   "cell_type": "code",
   "execution_count": 39,
   "metadata": {
    "id": "BjnDuQBYqdJA",
    "outputId": "37cbe2fb-7d12-4373-9512-21f9614c62be"
   },
   "outputs": [
    {
     "data": {
      "text/html": [
       "<div>\n",
       "<style scoped>\n",
       "    .dataframe tbody tr th:only-of-type {\n",
       "        vertical-align: middle;\n",
       "    }\n",
       "\n",
       "    .dataframe tbody tr th {\n",
       "        vertical-align: top;\n",
       "    }\n",
       "\n",
       "    .dataframe thead th {\n",
       "        text-align: right;\n",
       "    }\n",
       "</style>\n",
       "<table border=\"1\" class=\"dataframe\">\n",
       "  <thead>\n",
       "    <tr style=\"text-align: right;\">\n",
       "      <th></th>\n",
       "      <th>A</th>\n",
       "      <th>B</th>\n",
       "    </tr>\n",
       "  </thead>\n",
       "  <tbody>\n",
       "    <tr>\n",
       "      <th>0</th>\n",
       "      <td>2</td>\n",
       "      <td>8</td>\n",
       "    </tr>\n",
       "    <tr>\n",
       "      <th>1</th>\n",
       "      <td>2</td>\n",
       "      <td>8</td>\n",
       "    </tr>\n",
       "    <tr>\n",
       "      <th>2</th>\n",
       "      <td>2</td>\n",
       "      <td>8</td>\n",
       "    </tr>\n",
       "  </tbody>\n",
       "</table>\n",
       "</div>"
      ],
      "text/plain": [
       "   A  B\n",
       "0  2  8\n",
       "1  2  8\n",
       "2  2  8"
      ]
     },
     "execution_count": 39,
     "metadata": {},
     "output_type": "execute_result"
    }
   ],
   "source": [
    "import numpy as np\n",
    "df_apply = pd.DataFrame([[2, 8]] * 3, columns=['A', 'B'])\n",
    "\n",
    "df_apply"
   ]
  },
  {
   "cell_type": "code",
   "execution_count": 40,
   "metadata": {
    "id": "gkEO5b6YqdJA",
    "outputId": "c509e056-41f4-4f70-8450-3a4b26c519de"
   },
   "outputs": [
    {
     "data": {
      "text/plain": [
       "A     6\n",
       "B    24\n",
       "dtype: int64"
      ]
     },
     "execution_count": 40,
     "metadata": {},
     "output_type": "execute_result"
    }
   ],
   "source": [
    "df_apply.apply(np.sum, axis=0) #melakukan agregat sum tiap kolom"
   ]
  },
  {
   "cell_type": "code",
   "execution_count": 41,
   "metadata": {
    "id": "9RaEOvm5qdJB",
    "outputId": "cd646745-d217-4f26-e37a-3253b20220c1"
   },
   "outputs": [
    {
     "data": {
      "text/plain": [
       "0    10\n",
       "1    10\n",
       "2    10\n",
       "dtype: int64"
      ]
     },
     "execution_count": 41,
     "metadata": {},
     "output_type": "execute_result"
    }
   ],
   "source": [
    "df_apply.apply(np.sum, axis=1) #melakukan agregat sum tiap baris"
   ]
  },
  {
   "cell_type": "markdown",
   "metadata": {
    "id": "KnjwhpsbqdJB"
   },
   "source": [
    "#### Sekilas tentang Lambda"
   ]
  },
  {
   "cell_type": "code",
   "execution_count": 42,
   "metadata": {
    "id": "ghOXXD8LqdJB",
    "outputId": "03626bae-a890-44df-90ef-8df6c710ee89"
   },
   "outputs": [
    {
     "name": "stdout",
     "output_type": "stream",
     "text": [
      "30\n"
     ]
    }
   ],
   "source": [
    "x = lambda a, b : a * b\n",
    "print(x(5, 6))"
   ]
  },
  {
   "cell_type": "code",
   "execution_count": 43,
   "metadata": {
    "id": "b5O-Jpz8qdJB",
    "outputId": "245f8ff7-2a78-49ef-b468-9090f6d392ac"
   },
   "outputs": [
    {
     "name": "stdout",
     "output_type": "stream",
     "text": [
      "Genap\n"
     ]
    }
   ],
   "source": [
    "x = lambda x: 'Genap' if x%2 == 0 else 'Ganjil'\n",
    "print(x(8))"
   ]
  },
  {
   "cell_type": "markdown",
   "metadata": {
    "id": "Ug0UTEMQqdJB"
   },
   "source": [
    "#### Penerapan apply lambda tanpa membuat function"
   ]
  },
  {
   "cell_type": "code",
   "execution_count": 44,
   "metadata": {
    "id": "9TFmCb3GqdJC",
    "outputId": "3c5cb949-25f2-48e1-d113-881f53128dba"
   },
   "outputs": [
    {
     "data": {
      "text/html": [
       "<div>\n",
       "<style scoped>\n",
       "    .dataframe tbody tr th:only-of-type {\n",
       "        vertical-align: middle;\n",
       "    }\n",
       "\n",
       "    .dataframe tbody tr th {\n",
       "        vertical-align: top;\n",
       "    }\n",
       "\n",
       "    .dataframe thead th {\n",
       "        text-align: right;\n",
       "    }\n",
       "</style>\n",
       "<table border=\"1\" class=\"dataframe\">\n",
       "  <thead>\n",
       "    <tr style=\"text-align: right;\">\n",
       "      <th></th>\n",
       "      <th>order_month</th>\n",
       "      <th>full_name</th>\n",
       "      <th>user_id</th>\n",
       "      <th>phone</th>\n",
       "      <th>city</th>\n",
       "      <th>province</th>\n",
       "      <th>email</th>\n",
       "      <th>total_order</th>\n",
       "      <th>total_gmv</th>\n",
       "      <th>total_visit</th>\n",
       "      <th>segment_for</th>\n",
       "      <th>segment_apply</th>\n",
       "      <th>jakpus</th>\n",
       "    </tr>\n",
       "  </thead>\n",
       "  <tbody>\n",
       "    <tr>\n",
       "      <th>0</th>\n",
       "      <td>2018-01-01</td>\n",
       "      <td>Ahmad Budiman</td>\n",
       "      <td>10000011</td>\n",
       "      <td>628785222211</td>\n",
       "      <td>Jakarta Pusat</td>\n",
       "      <td>DKI Jakarta</td>\n",
       "      <td>ahmad@gmail.com</td>\n",
       "      <td>125</td>\n",
       "      <td>3490000</td>\n",
       "      <td>230</td>\n",
       "      <td>high</td>\n",
       "      <td>Potential</td>\n",
       "      <td>True</td>\n",
       "    </tr>\n",
       "    <tr>\n",
       "      <th>1</th>\n",
       "      <td>2018-01-01</td>\n",
       "      <td>Azzam Haqq</td>\n",
       "      <td>10000012</td>\n",
       "      <td>628785222212</td>\n",
       "      <td>Surabaya</td>\n",
       "      <td>Jawa Timur</td>\n",
       "      <td>azzam@gmail.co.id</td>\n",
       "      <td>173</td>\n",
       "      <td>4757500</td>\n",
       "      <td>304</td>\n",
       "      <td>high</td>\n",
       "      <td>Not Potential</td>\n",
       "      <td>False</td>\n",
       "    </tr>\n",
       "    <tr>\n",
       "      <th>2</th>\n",
       "      <td>2018-01-01</td>\n",
       "      <td>Amrina Putri</td>\n",
       "      <td>10000013</td>\n",
       "      <td>628785222213</td>\n",
       "      <td>Jakarta Pusat</td>\n",
       "      <td>DKI Jakarta</td>\n",
       "      <td>amrina@yahoo.co.id</td>\n",
       "      <td>20</td>\n",
       "      <td>550000</td>\n",
       "      <td>62</td>\n",
       "      <td>mid</td>\n",
       "      <td>Not Potential</td>\n",
       "      <td>True</td>\n",
       "    </tr>\n",
       "    <tr>\n",
       "      <th>3</th>\n",
       "      <td>2018-01-01</td>\n",
       "      <td>Aan Utama</td>\n",
       "      <td>10000014</td>\n",
       "      <td>628785222214</td>\n",
       "      <td>Medan</td>\n",
       "      <td>Sumatra Utara</td>\n",
       "      <td>aan@yahoo.com</td>\n",
       "      <td>18</td>\n",
       "      <td>495000</td>\n",
       "      <td>100</td>\n",
       "      <td>low</td>\n",
       "      <td>Not Potential</td>\n",
       "      <td>False</td>\n",
       "    </tr>\n",
       "    <tr>\n",
       "      <th>4</th>\n",
       "      <td>2018-01-01</td>\n",
       "      <td>Adam Adi</td>\n",
       "      <td>10000015</td>\n",
       "      <td>628785222215</td>\n",
       "      <td>Jakarta Timur</td>\n",
       "      <td>DKI Jakarta</td>\n",
       "      <td>adam@gmail.com</td>\n",
       "      <td>159</td>\n",
       "      <td>4372500</td>\n",
       "      <td>524</td>\n",
       "      <td>high</td>\n",
       "      <td>Potential</td>\n",
       "      <td>False</td>\n",
       "    </tr>\n",
       "  </tbody>\n",
       "</table>\n",
       "</div>"
      ],
      "text/plain": [
       "  order_month      full_name   user_id         phone           city  \\\n",
       "0  2018-01-01  Ahmad Budiman  10000011  628785222211  Jakarta Pusat   \n",
       "1  2018-01-01     Azzam Haqq  10000012  628785222212       Surabaya   \n",
       "2  2018-01-01   Amrina Putri  10000013  628785222213  Jakarta Pusat   \n",
       "3  2018-01-01      Aan Utama  10000014  628785222214          Medan   \n",
       "4  2018-01-01       Adam Adi  10000015  628785222215  Jakarta Timur   \n",
       "\n",
       "        province               email  total_order  total_gmv  total_visit  \\\n",
       "0    DKI Jakarta     ahmad@gmail.com          125    3490000          230   \n",
       "1     Jawa Timur   azzam@gmail.co.id          173    4757500          304   \n",
       "2    DKI Jakarta  amrina@yahoo.co.id           20     550000           62   \n",
       "3  Sumatra Utara       aan@yahoo.com           18     495000          100   \n",
       "4    DKI Jakarta      adam@gmail.com          159    4372500          524   \n",
       "\n",
       "  segment_for  segment_apply  jakpus  \n",
       "0        high      Potential    True  \n",
       "1        high  Not Potential   False  \n",
       "2         mid  Not Potential    True  \n",
       "3         low  Not Potential   False  \n",
       "4        high      Potential   False  "
      ]
     },
     "execution_count": 44,
     "metadata": {},
     "output_type": "execute_result"
    }
   ],
   "source": [
    "df['jakpus'] = df['city'].apply(lambda x: True if x == 'Jakarta Pusat' else False)\n",
    "df.head()"
   ]
  },
  {
   "cell_type": "code",
   "execution_count": 36,
   "metadata": {},
   "outputs": [
    {
     "data": {
      "text/html": [
       "<div>\n",
       "<style scoped>\n",
       "    .dataframe tbody tr th:only-of-type {\n",
       "        vertical-align: middle;\n",
       "    }\n",
       "\n",
       "    .dataframe tbody tr th {\n",
       "        vertical-align: top;\n",
       "    }\n",
       "\n",
       "    .dataframe thead th {\n",
       "        text-align: right;\n",
       "    }\n",
       "</style>\n",
       "<table border=\"1\" class=\"dataframe\">\n",
       "  <thead>\n",
       "    <tr style=\"text-align: right;\">\n",
       "      <th></th>\n",
       "      <th>order_month</th>\n",
       "      <th>full_name</th>\n",
       "      <th>user_id</th>\n",
       "      <th>phone</th>\n",
       "      <th>city</th>\n",
       "      <th>province</th>\n",
       "      <th>email</th>\n",
       "      <th>total_order</th>\n",
       "      <th>total_gmv</th>\n",
       "      <th>total_visit</th>\n",
       "      <th>year</th>\n",
       "    </tr>\n",
       "  </thead>\n",
       "  <tbody>\n",
       "    <tr>\n",
       "      <th>0</th>\n",
       "      <td>2018-01-01</td>\n",
       "      <td>Ahmad Budiman</td>\n",
       "      <td>10000011</td>\n",
       "      <td>628785222211</td>\n",
       "      <td>Jakarta Pusat</td>\n",
       "      <td>DKI Jakarta</td>\n",
       "      <td>ahmad@gmail.com</td>\n",
       "      <td>125</td>\n",
       "      <td>3490000</td>\n",
       "      <td>230</td>\n",
       "      <td>2018</td>\n",
       "    </tr>\n",
       "    <tr>\n",
       "      <th>1</th>\n",
       "      <td>2018-01-01</td>\n",
       "      <td>Azzam Haqq</td>\n",
       "      <td>10000012</td>\n",
       "      <td>628785222212</td>\n",
       "      <td>Surabaya</td>\n",
       "      <td>Jawa Timur</td>\n",
       "      <td>azzam@gmail.co.id</td>\n",
       "      <td>173</td>\n",
       "      <td>4757500</td>\n",
       "      <td>304</td>\n",
       "      <td>2018</td>\n",
       "    </tr>\n",
       "    <tr>\n",
       "      <th>2</th>\n",
       "      <td>2018-01-01</td>\n",
       "      <td>Amrina Putri</td>\n",
       "      <td>10000013</td>\n",
       "      <td>628785222213</td>\n",
       "      <td>Jakarta Pusat</td>\n",
       "      <td>DKI Jakarta</td>\n",
       "      <td>amrina@yahoo.co.id</td>\n",
       "      <td>20</td>\n",
       "      <td>550000</td>\n",
       "      <td>62</td>\n",
       "      <td>2018</td>\n",
       "    </tr>\n",
       "    <tr>\n",
       "      <th>3</th>\n",
       "      <td>2018-01-01</td>\n",
       "      <td>Aan Utama</td>\n",
       "      <td>10000014</td>\n",
       "      <td>628785222214</td>\n",
       "      <td>Medan</td>\n",
       "      <td>Sumatra Utara</td>\n",
       "      <td>aan@yahoo.com</td>\n",
       "      <td>18</td>\n",
       "      <td>495000</td>\n",
       "      <td>100</td>\n",
       "      <td>2018</td>\n",
       "    </tr>\n",
       "    <tr>\n",
       "      <th>4</th>\n",
       "      <td>2018-01-01</td>\n",
       "      <td>Adam Adi</td>\n",
       "      <td>10000015</td>\n",
       "      <td>628785222215</td>\n",
       "      <td>Jakarta Timur</td>\n",
       "      <td>DKI Jakarta</td>\n",
       "      <td>adam@gmail.com</td>\n",
       "      <td>159</td>\n",
       "      <td>4372500</td>\n",
       "      <td>524</td>\n",
       "      <td>2018</td>\n",
       "    </tr>\n",
       "  </tbody>\n",
       "</table>\n",
       "</div>"
      ],
      "text/plain": [
       "  order_month      full_name   user_id         phone           city  \\\n",
       "0  2018-01-01  Ahmad Budiman  10000011  628785222211  Jakarta Pusat   \n",
       "1  2018-01-01     Azzam Haqq  10000012  628785222212       Surabaya   \n",
       "2  2018-01-01   Amrina Putri  10000013  628785222213  Jakarta Pusat   \n",
       "3  2018-01-01      Aan Utama  10000014  628785222214          Medan   \n",
       "4  2018-01-01       Adam Adi  10000015  628785222215  Jakarta Timur   \n",
       "\n",
       "        province               email  total_order  total_gmv  total_visit  \\\n",
       "0    DKI Jakarta     ahmad@gmail.com          125    3490000          230   \n",
       "1     Jawa Timur   azzam@gmail.co.id          173    4757500          304   \n",
       "2    DKI Jakarta  amrina@yahoo.co.id           20     550000           62   \n",
       "3  Sumatra Utara       aan@yahoo.com           18     495000          100   \n",
       "4    DKI Jakarta      adam@gmail.com          159    4372500          524   \n",
       "\n",
       "   year  \n",
       "0  2018  \n",
       "1  2018  \n",
       "2  2018  \n",
       "3  2018  \n",
       "4  2018  "
      ]
     },
     "execution_count": 36,
     "metadata": {},
     "output_type": "execute_result"
    }
   ],
   "source": [
    "df['year'] = df['order_month'].apply(lambda x: x[:4]) #fokus 1 kolom dan tidak begitu complex\n",
    "df.head()"
   ]
  },
  {
   "cell_type": "markdown",
   "metadata": {},
   "source": [
    "#### Mini Quiz | Challenge Time #2"
   ]
  },
  {
   "cell_type": "markdown",
   "metadata": {},
   "source": [
    "menggunakan dataset <b>monthly_rakamin_customer_order</b>, buatlah kolom baru dengan nama provider_email dengan ketentuan berdasarkan domain emailnya:\n",
    "- gmail → Google\n",
    "- yahoo → Yahoo\n",
    "\n",
    "Gunakan syntax apply lambda dan .split('@')! Tentukan provider email apa yang paling banyak digunakan customer pada tahun 2021\n"
   ]
  },
  {
   "cell_type": "code",
   "execution_count": 37,
   "metadata": {},
   "outputs": [],
   "source": [
    "import pandas as pd"
   ]
  },
  {
   "cell_type": "code",
   "execution_count": 38,
   "metadata": {},
   "outputs": [
    {
     "data": {
      "text/html": [
       "<div>\n",
       "<style scoped>\n",
       "    .dataframe tbody tr th:only-of-type {\n",
       "        vertical-align: middle;\n",
       "    }\n",
       "\n",
       "    .dataframe tbody tr th {\n",
       "        vertical-align: top;\n",
       "    }\n",
       "\n",
       "    .dataframe thead th {\n",
       "        text-align: right;\n",
       "    }\n",
       "</style>\n",
       "<table border=\"1\" class=\"dataframe\">\n",
       "  <thead>\n",
       "    <tr style=\"text-align: right;\">\n",
       "      <th></th>\n",
       "      <th>order_month</th>\n",
       "      <th>full_name</th>\n",
       "      <th>user_id</th>\n",
       "      <th>phone</th>\n",
       "      <th>city</th>\n",
       "      <th>province</th>\n",
       "      <th>email</th>\n",
       "      <th>total_order</th>\n",
       "      <th>total_gmv</th>\n",
       "      <th>total_visit</th>\n",
       "    </tr>\n",
       "  </thead>\n",
       "  <tbody>\n",
       "    <tr>\n",
       "      <th>0</th>\n",
       "      <td>2018-01-01</td>\n",
       "      <td>Ahmad Budiman</td>\n",
       "      <td>10000011</td>\n",
       "      <td>628785222211</td>\n",
       "      <td>Jakarta Pusat</td>\n",
       "      <td>DKI Jakarta</td>\n",
       "      <td>ahmad@gmail.com</td>\n",
       "      <td>125</td>\n",
       "      <td>3490000</td>\n",
       "      <td>230</td>\n",
       "    </tr>\n",
       "    <tr>\n",
       "      <th>1</th>\n",
       "      <td>2018-01-01</td>\n",
       "      <td>Azzam Haqq</td>\n",
       "      <td>10000012</td>\n",
       "      <td>628785222212</td>\n",
       "      <td>Surabaya</td>\n",
       "      <td>Jawa Timur</td>\n",
       "      <td>azzam@gmail.co.id</td>\n",
       "      <td>173</td>\n",
       "      <td>4757500</td>\n",
       "      <td>304</td>\n",
       "    </tr>\n",
       "    <tr>\n",
       "      <th>2</th>\n",
       "      <td>2018-01-01</td>\n",
       "      <td>Amrina Putri</td>\n",
       "      <td>10000013</td>\n",
       "      <td>628785222213</td>\n",
       "      <td>Jakarta Pusat</td>\n",
       "      <td>DKI Jakarta</td>\n",
       "      <td>amrina@yahoo.co.id</td>\n",
       "      <td>20</td>\n",
       "      <td>550000</td>\n",
       "      <td>62</td>\n",
       "    </tr>\n",
       "    <tr>\n",
       "      <th>3</th>\n",
       "      <td>2018-01-01</td>\n",
       "      <td>Aan Utama</td>\n",
       "      <td>10000014</td>\n",
       "      <td>628785222214</td>\n",
       "      <td>Medan</td>\n",
       "      <td>Sumatra Utara</td>\n",
       "      <td>aan@yahoo.com</td>\n",
       "      <td>18</td>\n",
       "      <td>495000</td>\n",
       "      <td>100</td>\n",
       "    </tr>\n",
       "    <tr>\n",
       "      <th>4</th>\n",
       "      <td>2018-01-01</td>\n",
       "      <td>Adam Adi</td>\n",
       "      <td>10000015</td>\n",
       "      <td>628785222215</td>\n",
       "      <td>Jakarta Timur</td>\n",
       "      <td>DKI Jakarta</td>\n",
       "      <td>adam@gmail.com</td>\n",
       "      <td>159</td>\n",
       "      <td>4372500</td>\n",
       "      <td>524</td>\n",
       "    </tr>\n",
       "  </tbody>\n",
       "</table>\n",
       "</div>"
      ],
      "text/plain": [
       "  order_month      full_name   user_id         phone           city  \\\n",
       "0  2018-01-01  Ahmad Budiman  10000011  628785222211  Jakarta Pusat   \n",
       "1  2018-01-01     Azzam Haqq  10000012  628785222212       Surabaya   \n",
       "2  2018-01-01   Amrina Putri  10000013  628785222213  Jakarta Pusat   \n",
       "3  2018-01-01      Aan Utama  10000014  628785222214          Medan   \n",
       "4  2018-01-01       Adam Adi  10000015  628785222215  Jakarta Timur   \n",
       "\n",
       "        province               email  total_order  total_gmv  total_visit  \n",
       "0    DKI Jakarta     ahmad@gmail.com          125    3490000          230  \n",
       "1     Jawa Timur   azzam@gmail.co.id          173    4757500          304  \n",
       "2    DKI Jakarta  amrina@yahoo.co.id           20     550000           62  \n",
       "3  Sumatra Utara       aan@yahoo.com           18     495000          100  \n",
       "4    DKI Jakarta      adam@gmail.com          159    4372500          524  "
      ]
     },
     "execution_count": 38,
     "metadata": {},
     "output_type": "execute_result"
    }
   ],
   "source": [
    "df_monthly_rakamin = pd.read_csv('monthly_rakamin_customer_order.csv')\n",
    "df_monthly_rakamin.head()"
   ]
  },
  {
   "cell_type": "markdown",
   "metadata": {},
   "source": [
    "### Pengenalan Error and Exception"
   ]
  },
  {
   "cell_type": "markdown",
   "metadata": {},
   "source": [
    "#### 1. Syntax Error"
   ]
  },
  {
   "cell_type": "markdown",
   "metadata": {},
   "source": [
    "Error yang terjadi saat syntax yang dituliskan tidak sesuai dengan standar penulisan python programming."
   ]
  },
  {
   "cell_type": "markdown",
   "metadata": {},
   "source": [
    "##### Contoh 1"
   ]
  },
  {
   "cell_type": "code",
   "execution_count": 24,
   "metadata": {},
   "outputs": [
    {
     "ename": "SyntaxError",
     "evalue": "invalid syntax (<ipython-input-24-077be39d2fce>, line 1)",
     "output_type": "error",
     "traceback": [
      "\u001b[1;36m  File \u001b[1;32m\"<ipython-input-24-077be39d2fce>\"\u001b[1;36m, line \u001b[1;32m1\u001b[0m\n\u001b[1;33m    print'Hi! All'\u001b[0m\n\u001b[1;37m         ^\u001b[0m\n\u001b[1;31mSyntaxError\u001b[0m\u001b[1;31m:\u001b[0m invalid syntax\n"
     ]
    }
   ],
   "source": [
    "print'Hi! All'"
   ]
  },
  {
   "cell_type": "markdown",
   "metadata": {},
   "source": [
    "##### Contoh 2"
   ]
  },
  {
   "cell_type": "code",
   "execution_count": 25,
   "metadata": {},
   "outputs": [
    {
     "ename": "IndentationError",
     "evalue": "expected an indented block (<ipython-input-25-fcac8b070bf6>, line 2)",
     "output_type": "error",
     "traceback": [
      "\u001b[1;36m  File \u001b[1;32m\"<ipython-input-25-fcac8b070bf6>\"\u001b[1;36m, line \u001b[1;32m2\u001b[0m\n\u001b[1;33m    result = a+b\u001b[0m\n\u001b[1;37m    ^\u001b[0m\n\u001b[1;31mIndentationError\u001b[0m\u001b[1;31m:\u001b[0m expected an indented block\n"
     ]
    }
   ],
   "source": [
    "if metode == 'Penjumlahan':\n",
    "result = a+b"
   ]
  },
  {
   "cell_type": "markdown",
   "metadata": {},
   "source": [
    "#### 2. Logical Error"
   ]
  },
  {
   "cell_type": "markdown",
   "metadata": {},
   "source": [
    "Terjadinya error setelah berhasil mengeksekusi syntax test disebut exception / logical type."
   ]
  },
  {
   "cell_type": "markdown",
   "metadata": {},
   "source": [
    "##### Contoh Index Error"
   ]
  },
  {
   "cell_type": "code",
   "execution_count": 27,
   "metadata": {},
   "outputs": [
    {
     "ename": "IndexError",
     "evalue": "list index out of range",
     "output_type": "error",
     "traceback": [
      "\u001b[1;31m---------------------------------------------------------------------------\u001b[0m",
      "\u001b[1;31mIndexError\u001b[0m                                Traceback (most recent call last)",
      "\u001b[1;32m<ipython-input-27-788b56e163ff>\u001b[0m in \u001b[0;36m<module>\u001b[1;34m\u001b[0m\n\u001b[0;32m      1\u001b[0m \u001b[0ma\u001b[0m \u001b[1;33m=\u001b[0m \u001b[1;33m[\u001b[0m\u001b[1;36m1\u001b[0m\u001b[1;33m,\u001b[0m \u001b[1;36m2\u001b[0m\u001b[1;33m,\u001b[0m \u001b[1;36m3\u001b[0m\u001b[1;33m,\u001b[0m \u001b[1;36m4\u001b[0m\u001b[1;33m]\u001b[0m\u001b[1;33m\u001b[0m\u001b[1;33m\u001b[0m\u001b[0m\n\u001b[0;32m      2\u001b[0m \u001b[1;33m\u001b[0m\u001b[0m\n\u001b[1;32m----> 3\u001b[1;33m \u001b[0ma\u001b[0m\u001b[1;33m[\u001b[0m\u001b[1;36m5\u001b[0m\u001b[1;33m]\u001b[0m\u001b[1;33m\u001b[0m\u001b[1;33m\u001b[0m\u001b[0m\n\u001b[0m",
      "\u001b[1;31mIndexError\u001b[0m: list index out of range"
     ]
    }
   ],
   "source": [
    "a = [1, 2, 3, 4]\n",
    "\n",
    "a[5]"
   ]
  },
  {
   "cell_type": "markdown",
   "metadata": {},
   "source": [
    "##### Contoh ZeroDivisionError"
   ]
  },
  {
   "cell_type": "code",
   "execution_count": 28,
   "metadata": {},
   "outputs": [
    {
     "ename": "ZeroDivisionError",
     "evalue": "division by zero",
     "output_type": "error",
     "traceback": [
      "\u001b[1;31m---------------------------------------------------------------------------\u001b[0m",
      "\u001b[1;31mZeroDivisionError\u001b[0m                         Traceback (most recent call last)",
      "\u001b[1;32m<ipython-input-28-1d0797838ffb>\u001b[0m in \u001b[0;36m<module>\u001b[1;34m\u001b[0m\n\u001b[0;32m      2\u001b[0m \u001b[0mb\u001b[0m \u001b[1;33m=\u001b[0m \u001b[1;36m0\u001b[0m\u001b[1;33m\u001b[0m\u001b[1;33m\u001b[0m\u001b[0m\n\u001b[0;32m      3\u001b[0m \u001b[1;33m\u001b[0m\u001b[0m\n\u001b[1;32m----> 4\u001b[1;33m \u001b[0mc\u001b[0m \u001b[1;33m=\u001b[0m \u001b[0ma\u001b[0m\u001b[1;33m/\u001b[0m\u001b[0mb\u001b[0m\u001b[1;33m\u001b[0m\u001b[1;33m\u001b[0m\u001b[0m\n\u001b[0m\u001b[0;32m      5\u001b[0m \u001b[1;31m#error karena secara logic suatu bilangan tidak boleh di bagi 0\u001b[0m\u001b[1;33m\u001b[0m\u001b[1;33m\u001b[0m\u001b[1;33m\u001b[0m\u001b[0m\n",
      "\u001b[1;31mZeroDivisionError\u001b[0m: division by zero"
     ]
    }
   ],
   "source": [
    "a = 1\n",
    "b = 0\n",
    "\n",
    "c = a/b\n",
    "#error karena secara logic suatu bilangan tidak boleh di bagi 0"
   ]
  },
  {
   "cell_type": "markdown",
   "metadata": {},
   "source": [
    "##### Contoh NameError"
   ]
  },
  {
   "cell_type": "code",
   "execution_count": 29,
   "metadata": {},
   "outputs": [
    {
     "ename": "NameError",
     "evalue": "name 'company_name' is not defined",
     "output_type": "error",
     "traceback": [
      "\u001b[1;31m---------------------------------------------------------------------------\u001b[0m",
      "\u001b[1;31mNameError\u001b[0m                                 Traceback (most recent call last)",
      "\u001b[1;32m<ipython-input-29-8c5b953c1cde>\u001b[0m in \u001b[0;36m<module>\u001b[1;34m\u001b[0m\n\u001b[1;32m----> 1\u001b[1;33m \u001b[0mprint\u001b[0m\u001b[1;33m(\u001b[0m\u001b[0mcompany_name\u001b[0m\u001b[1;33m)\u001b[0m\u001b[1;33m\u001b[0m\u001b[1;33m\u001b[0m\u001b[0m\n\u001b[0m\u001b[0;32m      2\u001b[0m \u001b[1;31m#error karena variable company_name belum di definisikan\u001b[0m\u001b[1;33m\u001b[0m\u001b[1;33m\u001b[0m\u001b[1;33m\u001b[0m\u001b[0m\n",
      "\u001b[1;31mNameError\u001b[0m: name 'company_name' is not defined"
     ]
    }
   ],
   "source": [
    "print(company_name)\n",
    "#error karena variable company_name belum di definisikan"
   ]
  },
  {
   "cell_type": "markdown",
   "metadata": {},
   "source": [
    "##### Contoh TypeError"
   ]
  },
  {
   "cell_type": "code",
   "execution_count": 30,
   "metadata": {},
   "outputs": [
    {
     "ename": "TypeError",
     "evalue": "unsupported operand type(s) for +: 'int' and 'str'",
     "output_type": "error",
     "traceback": [
      "\u001b[1;31m---------------------------------------------------------------------------\u001b[0m",
      "\u001b[1;31mTypeError\u001b[0m                                 Traceback (most recent call last)",
      "\u001b[1;32m<ipython-input-30-f0ed6b77aae1>\u001b[0m in \u001b[0;36m<module>\u001b[1;34m\u001b[0m\n\u001b[0;32m      2\u001b[0m \u001b[0mkata\u001b[0m \u001b[1;33m=\u001b[0m \u001b[1;34m'Ammar'\u001b[0m\u001b[1;33m\u001b[0m\u001b[1;33m\u001b[0m\u001b[0m\n\u001b[0;32m      3\u001b[0m \u001b[1;33m\u001b[0m\u001b[0m\n\u001b[1;32m----> 4\u001b[1;33m \u001b[0mangka\u001b[0m \u001b[1;33m+\u001b[0m \u001b[0mkata\u001b[0m\u001b[1;33m\u001b[0m\u001b[1;33m\u001b[0m\u001b[0m\n\u001b[0m\u001b[0;32m      5\u001b[0m \u001b[1;31m#type error karena type data int ditambahkan string\u001b[0m\u001b[1;33m\u001b[0m\u001b[1;33m\u001b[0m\u001b[1;33m\u001b[0m\u001b[0m\n",
      "\u001b[1;31mTypeError\u001b[0m: unsupported operand type(s) for +: 'int' and 'str'"
     ]
    }
   ],
   "source": [
    "angka = 12\n",
    "kata = 'Ammar'\n",
    "\n",
    "angka + kata\n",
    "#type error karena type data int ditambahkan string"
   ]
  },
  {
   "cell_type": "markdown",
   "metadata": {},
   "source": [
    "##### Contoh AttributeError"
   ]
  },
  {
   "cell_type": "code",
   "execution_count": 31,
   "metadata": {},
   "outputs": [
    {
     "ename": "AttributeError",
     "evalue": "'int' object has no attribute 'append'",
     "output_type": "error",
     "traceback": [
      "\u001b[1;31m---------------------------------------------------------------------------\u001b[0m",
      "\u001b[1;31mAttributeError\u001b[0m                            Traceback (most recent call last)",
      "\u001b[1;32m<ipython-input-31-ece23ec9d939>\u001b[0m in \u001b[0;36m<module>\u001b[1;34m\u001b[0m\n\u001b[0;32m      1\u001b[0m \u001b[0mangka\u001b[0m \u001b[1;33m=\u001b[0m \u001b[1;36m12\u001b[0m\u001b[1;33m\u001b[0m\u001b[1;33m\u001b[0m\u001b[0m\n\u001b[0;32m      2\u001b[0m \u001b[1;33m\u001b[0m\u001b[0m\n\u001b[1;32m----> 3\u001b[1;33m \u001b[0mangka\u001b[0m\u001b[1;33m.\u001b[0m\u001b[0mappend\u001b[0m\u001b[1;33m(\u001b[0m\u001b[1;36m13\u001b[0m\u001b[1;33m)\u001b[0m\u001b[1;33m\u001b[0m\u001b[1;33m\u001b[0m\u001b[0m\n\u001b[0m\u001b[0;32m      4\u001b[0m \u001b[1;31m#type error karena type int tidak memiliki fungsi append\u001b[0m\u001b[1;33m\u001b[0m\u001b[1;33m\u001b[0m\u001b[1;33m\u001b[0m\u001b[0m\n",
      "\u001b[1;31mAttributeError\u001b[0m: 'int' object has no attribute 'append'"
     ]
    }
   ],
   "source": [
    "angka = 12\n",
    "\n",
    "angka.append(13)\n",
    "#type error karena type int tidak memiliki fungsi append"
   ]
  },
  {
   "cell_type": "markdown",
   "metadata": {},
   "source": [
    "##### Contoh ImportError"
   ]
  },
  {
   "cell_type": "code",
   "execution_count": 32,
   "metadata": {},
   "outputs": [
    {
     "ename": "ModuleNotFoundError",
     "evalue": "No module named 'tensorflow'",
     "output_type": "error",
     "traceback": [
      "\u001b[1;31m---------------------------------------------------------------------------\u001b[0m",
      "\u001b[1;31mModuleNotFoundError\u001b[0m                       Traceback (most recent call last)",
      "\u001b[1;32m<ipython-input-32-d6579f534729>\u001b[0m in \u001b[0;36m<module>\u001b[1;34m\u001b[0m\n\u001b[1;32m----> 1\u001b[1;33m \u001b[1;32mimport\u001b[0m \u001b[0mtensorflow\u001b[0m\u001b[1;33m\u001b[0m\u001b[1;33m\u001b[0m\u001b[0m\n\u001b[0m",
      "\u001b[1;31mModuleNotFoundError\u001b[0m: No module named 'tensorflow'"
     ]
    }
   ],
   "source": [
    "import tensorflow"
   ]
  },
  {
   "cell_type": "markdown",
   "metadata": {},
   "source": [
    "#### 2.1 Handling Logical Erro (Try ... Except - Finally Statement)"
   ]
  },
  {
   "cell_type": "code",
   "execution_count": 33,
   "metadata": {},
   "outputs": [
    {
     "name": "stdout",
     "output_type": "stream",
     "text": [
      "Start\n",
      "Muncul Error\n",
      "Finish!\n"
     ]
    }
   ],
   "source": [
    "# put unsafe operation in try block\n",
    "try:\n",
    "    print(\"Start\")\n",
    "    \n",
    "    # unsafe operation perform\n",
    "    print(1 / 0) \n",
    "\n",
    "# if error occur the it goes in except block\n",
    "except:\n",
    "    print(\"Muncul Error\")\n",
    "    \n",
    "# final code in finally block\n",
    "finally:\n",
    "    print(\"Finish!\")"
   ]
  },
  {
   "cell_type": "markdown",
   "metadata": {},
   "source": [
    "#### Mini Quiz | Challenge Time #3"
   ]
  },
  {
   "cell_type": "markdown",
   "metadata": {},
   "source": [
    "Setelah berhasil melakukan pembuatan kolom provider_email pada Mini Quiz sebelumnya, coba lakukan hal yang sama pada Mini Quiz #2 pada dataset <b>summary_buyer_rakamin_store_special.csv </b>!\n",
    "\n",
    "Apakah mengalami Error? \n",
    "\n",
    "Coba lakukan <i>solve issue</i> pembuatan kolom baru pada dataset summary_buyer_rakamin_store_special.csv dengan try and except statement! \n"
   ]
  },
  {
   "cell_type": "code",
   "execution_count": 45,
   "metadata": {},
   "outputs": [
    {
     "data": {
      "text/html": [
       "<div>\n",
       "<style scoped>\n",
       "    .dataframe tbody tr th:only-of-type {\n",
       "        vertical-align: middle;\n",
       "    }\n",
       "\n",
       "    .dataframe tbody tr th {\n",
       "        vertical-align: top;\n",
       "    }\n",
       "\n",
       "    .dataframe thead th {\n",
       "        text-align: right;\n",
       "    }\n",
       "</style>\n",
       "<table border=\"1\" class=\"dataframe\">\n",
       "  <thead>\n",
       "    <tr style=\"text-align: right;\">\n",
       "      <th></th>\n",
       "      <th>order_month</th>\n",
       "      <th>user_id</th>\n",
       "      <th>full_name</th>\n",
       "      <th>phone</th>\n",
       "      <th>city</th>\n",
       "      <th>province</th>\n",
       "      <th>email</th>\n",
       "      <th>total_order</th>\n",
       "      <th>total_gmv</th>\n",
       "      <th>total_visit</th>\n",
       "    </tr>\n",
       "  </thead>\n",
       "  <tbody>\n",
       "    <tr>\n",
       "      <th>0</th>\n",
       "      <td>2018-01-01</td>\n",
       "      <td>10000011</td>\n",
       "      <td>Ahmad Budiman</td>\n",
       "      <td>6.287852e+11</td>\n",
       "      <td>Jakarta Pusat</td>\n",
       "      <td>DKI Jakarta</td>\n",
       "      <td>ahmad@gmail.com</td>\n",
       "      <td>127</td>\n",
       "      <td>3492500</td>\n",
       "      <td>235</td>\n",
       "    </tr>\n",
       "    <tr>\n",
       "      <th>1</th>\n",
       "      <td>2018-01-01</td>\n",
       "      <td>10000012</td>\n",
       "      <td>Azzam Haqq</td>\n",
       "      <td>6.287852e+11</td>\n",
       "      <td>Surabaya</td>\n",
       "      <td>Jawa Timur</td>\n",
       "      <td>azzam@gmail.co.id</td>\n",
       "      <td>173</td>\n",
       "      <td>4757500</td>\n",
       "      <td>304</td>\n",
       "    </tr>\n",
       "    <tr>\n",
       "      <th>2</th>\n",
       "      <td>2018-01-01</td>\n",
       "      <td>10000013</td>\n",
       "      <td>Amrina Putri</td>\n",
       "      <td>6.287852e+11</td>\n",
       "      <td>Jakarta Pusat</td>\n",
       "      <td>DKI Jakarta</td>\n",
       "      <td>amrina@yahoo.co.id</td>\n",
       "      <td>20</td>\n",
       "      <td>550000</td>\n",
       "      <td>62</td>\n",
       "    </tr>\n",
       "    <tr>\n",
       "      <th>3</th>\n",
       "      <td>2018-01-01</td>\n",
       "      <td>10000014</td>\n",
       "      <td>Aan Utama</td>\n",
       "      <td>6.287852e+11</td>\n",
       "      <td>Medan</td>\n",
       "      <td>Sumatra Utara</td>\n",
       "      <td>aan@yahoo.com</td>\n",
       "      <td>18</td>\n",
       "      <td>495000</td>\n",
       "      <td>100</td>\n",
       "    </tr>\n",
       "    <tr>\n",
       "      <th>4</th>\n",
       "      <td>2018-01-01</td>\n",
       "      <td>10000015</td>\n",
       "      <td>Adam Adi</td>\n",
       "      <td>6.287852e+11</td>\n",
       "      <td>Jakarta Timur</td>\n",
       "      <td>DKI Jakarta</td>\n",
       "      <td>adam@gmail.com</td>\n",
       "      <td>159</td>\n",
       "      <td>4372500</td>\n",
       "      <td>524</td>\n",
       "    </tr>\n",
       "  </tbody>\n",
       "</table>\n",
       "</div>"
      ],
      "text/plain": [
       "  order_month   user_id      full_name         phone           city  \\\n",
       "0  2018-01-01  10000011  Ahmad Budiman  6.287852e+11  Jakarta Pusat   \n",
       "1  2018-01-01  10000012     Azzam Haqq  6.287852e+11       Surabaya   \n",
       "2  2018-01-01  10000013   Amrina Putri  6.287852e+11  Jakarta Pusat   \n",
       "3  2018-01-01  10000014      Aan Utama  6.287852e+11          Medan   \n",
       "4  2018-01-01  10000015       Adam Adi  6.287852e+11  Jakarta Timur   \n",
       "\n",
       "        province               email  total_order  total_gmv  total_visit  \n",
       "0    DKI Jakarta     ahmad@gmail.com          127    3492500          235  \n",
       "1     Jawa Timur   azzam@gmail.co.id          173    4757500          304  \n",
       "2    DKI Jakarta  amrina@yahoo.co.id           20     550000           62  \n",
       "3  Sumatra Utara       aan@yahoo.com           18     495000          100  \n",
       "4    DKI Jakarta      adam@gmail.com          159    4372500          524  "
      ]
     },
     "execution_count": 45,
     "metadata": {},
     "output_type": "execute_result"
    }
   ],
   "source": [
    "import pandas as pd\n",
    "\n",
    "df_monthly_special = pd.read_csv('summary_buyer_rakamin_store_special.csv')\n",
    "df_monthly_special.head()"
   ]
  },
  {
   "cell_type": "markdown",
   "metadata": {
    "id": "RIKVkZ-KqdJC"
   },
   "source": [
    "### Tetap Semangat Belajar Python, Good Luck!"
   ]
  }
 ],
 "metadata": {
  "colab": {
   "name": "Session 19 - Batch 5 Rakamin Academy.ipynb",
   "provenance": []
  },
  "kernelspec": {
   "display_name": "Python 3",
   "language": "python",
   "name": "python3"
  },
  "language_info": {
   "codemirror_mode": {
    "name": "ipython",
    "version": 3
   },
   "file_extension": ".py",
   "mimetype": "text/x-python",
   "name": "python",
   "nbconvert_exporter": "python",
   "pygments_lexer": "ipython3",
   "version": "3.8.3"
  },
  "toc": {
   "base_numbering": 1,
   "nav_menu": {},
   "number_sections": true,
   "sideBar": true,
   "skip_h1_title": false,
   "title_cell": "Table of Contents",
   "title_sidebar": "Contents",
   "toc_cell": false,
   "toc_position": {
    "height": "calc(100% - 180px)",
    "left": "10px",
    "top": "150px",
    "width": "165px"
   },
   "toc_section_display": true,
   "toc_window_display": true
  }
 },
 "nbformat": 4,
 "nbformat_minor": 4
}
